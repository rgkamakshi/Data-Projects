{
 "cells": [
  {
   "cell_type": "markdown",
   "id": "245bad9d",
   "metadata": {},
   "source": [
    "The objective of this project is to develop an interactive movie recommendation system that allows users to input either a movie title or a genre. In response, the system will generate a curated list of movie recommendations, leveraging ratings from users who exhibit similar preferences.\n",
    "\n",
    "The underlying concept revolves around user-based collaborative filtering. For simplicity, I am passing just a single movie as input instead of a matrix of preferred movies."
   ]
  },
  {
   "cell_type": "code",
   "execution_count": 1,
   "id": "5634e684",
   "metadata": {},
   "outputs": [],
   "source": [
    "import pandas as pd\n",
    "import numpy as np\n",
    "from matplotlib import pyplot as plt\n",
    "import seaborn as sns"
   ]
  },
  {
   "cell_type": "markdown",
   "id": "e3b31dca",
   "metadata": {},
   "source": [
    "I am going to work with the MovieLens 25M dataset, which contains movie reviews and ratings.\n",
    "There are two different files in this dataset, first one is the movies.csv with columns ['movieId',  'title',  'genre'] \n",
    "and then the ratings.csv file with columns ['userid',  'movieid',  'rating',  'timestamp']"
   ]
  },
  {
   "cell_type": "code",
   "execution_count": 2,
   "id": "421736eb",
   "metadata": {},
   "outputs": [
    {
     "data": {
      "text/html": [
       "<div>\n",
       "<style scoped>\n",
       "    .dataframe tbody tr th:only-of-type {\n",
       "        vertical-align: middle;\n",
       "    }\n",
       "\n",
       "    .dataframe tbody tr th {\n",
       "        vertical-align: top;\n",
       "    }\n",
       "\n",
       "    .dataframe thead th {\n",
       "        text-align: right;\n",
       "    }\n",
       "</style>\n",
       "<table border=\"1\" class=\"dataframe\">\n",
       "  <thead>\n",
       "    <tr style=\"text-align: right;\">\n",
       "      <th></th>\n",
       "      <th>movieId</th>\n",
       "      <th>title</th>\n",
       "      <th>genres</th>\n",
       "    </tr>\n",
       "  </thead>\n",
       "  <tbody>\n",
       "    <tr>\n",
       "      <th>0</th>\n",
       "      <td>1</td>\n",
       "      <td>Toy Story (1995)</td>\n",
       "      <td>Adventure|Animation|Children|Comedy|Fantasy</td>\n",
       "    </tr>\n",
       "    <tr>\n",
       "      <th>1</th>\n",
       "      <td>2</td>\n",
       "      <td>Jumanji (1995)</td>\n",
       "      <td>Adventure|Children|Fantasy</td>\n",
       "    </tr>\n",
       "    <tr>\n",
       "      <th>2</th>\n",
       "      <td>3</td>\n",
       "      <td>Grumpier Old Men (1995)</td>\n",
       "      <td>Comedy|Romance</td>\n",
       "    </tr>\n",
       "    <tr>\n",
       "      <th>3</th>\n",
       "      <td>4</td>\n",
       "      <td>Waiting to Exhale (1995)</td>\n",
       "      <td>Comedy|Drama|Romance</td>\n",
       "    </tr>\n",
       "    <tr>\n",
       "      <th>4</th>\n",
       "      <td>5</td>\n",
       "      <td>Father of the Bride Part II (1995)</td>\n",
       "      <td>Comedy</td>\n",
       "    </tr>\n",
       "  </tbody>\n",
       "</table>\n",
       "</div>"
      ],
      "text/plain": [
       "   movieId                               title  \\\n",
       "0        1                    Toy Story (1995)   \n",
       "1        2                      Jumanji (1995)   \n",
       "2        3             Grumpier Old Men (1995)   \n",
       "3        4            Waiting to Exhale (1995)   \n",
       "4        5  Father of the Bride Part II (1995)   \n",
       "\n",
       "                                        genres  \n",
       "0  Adventure|Animation|Children|Comedy|Fantasy  \n",
       "1                   Adventure|Children|Fantasy  \n",
       "2                               Comedy|Romance  \n",
       "3                         Comedy|Drama|Romance  \n",
       "4                                       Comedy  "
      ]
     },
     "execution_count": 2,
     "metadata": {},
     "output_type": "execute_result"
    }
   ],
   "source": [
    "df_movies = pd.read_csv('movies.csv')\n",
    "df_movies.head()"
   ]
  },
  {
   "cell_type": "markdown",
   "id": "df1c7617",
   "metadata": {},
   "source": [
    "Data Cleaning\n",
    "\n",
    "1) There are no null values\n",
    "\n",
    "\n",
    "2) Cleanning up the title and genres by removing all the special characters"
   ]
  },
  {
   "cell_type": "code",
   "execution_count": 3,
   "id": "19cb4f4c",
   "metadata": {},
   "outputs": [
    {
     "data": {
      "text/plain": [
       "movieId    0\n",
       "title      0\n",
       "genres     0\n",
       "dtype: int64"
      ]
     },
     "execution_count": 3,
     "metadata": {},
     "output_type": "execute_result"
    }
   ],
   "source": [
    "df_movies.isnull().sum()"
   ]
  },
  {
   "cell_type": "code",
   "execution_count": 4,
   "id": "0b3afbf6",
   "metadata": {},
   "outputs": [],
   "source": [
    "import re\n",
    "def cleaned_title(title):\n",
    "    return re.sub(\"([^a-zA-Z0-9 ])\",\"\",title)\n",
    "def split_genres(genres):\n",
    "    return genres.split(\"|\")"
   ]
  },
  {
   "cell_type": "code",
   "execution_count": 5,
   "id": "7f05b791",
   "metadata": {},
   "outputs": [],
   "source": [
    "df_movies['cleaned_title'] = df_movies['title'].apply(cleaned_title)\n",
    "df_movies['split_genres']= df_movies['genres'].apply(split_genres)"
   ]
  },
  {
   "cell_type": "code",
   "execution_count": 6,
   "id": "65666537",
   "metadata": {},
   "outputs": [
    {
     "data": {
      "text/html": [
       "<div>\n",
       "<style scoped>\n",
       "    .dataframe tbody tr th:only-of-type {\n",
       "        vertical-align: middle;\n",
       "    }\n",
       "\n",
       "    .dataframe tbody tr th {\n",
       "        vertical-align: top;\n",
       "    }\n",
       "\n",
       "    .dataframe thead th {\n",
       "        text-align: right;\n",
       "    }\n",
       "</style>\n",
       "<table border=\"1\" class=\"dataframe\">\n",
       "  <thead>\n",
       "    <tr style=\"text-align: right;\">\n",
       "      <th></th>\n",
       "      <th>movieId</th>\n",
       "      <th>title</th>\n",
       "      <th>genres</th>\n",
       "      <th>cleaned_title</th>\n",
       "      <th>split_genres</th>\n",
       "    </tr>\n",
       "  </thead>\n",
       "  <tbody>\n",
       "    <tr>\n",
       "      <th>0</th>\n",
       "      <td>1</td>\n",
       "      <td>Toy Story (1995)</td>\n",
       "      <td>Adventure|Animation|Children|Comedy|Fantasy</td>\n",
       "      <td>Toy Story 1995</td>\n",
       "      <td>[Adventure, Animation, Children, Comedy, Fantasy]</td>\n",
       "    </tr>\n",
       "    <tr>\n",
       "      <th>1</th>\n",
       "      <td>2</td>\n",
       "      <td>Jumanji (1995)</td>\n",
       "      <td>Adventure|Children|Fantasy</td>\n",
       "      <td>Jumanji 1995</td>\n",
       "      <td>[Adventure, Children, Fantasy]</td>\n",
       "    </tr>\n",
       "    <tr>\n",
       "      <th>2</th>\n",
       "      <td>3</td>\n",
       "      <td>Grumpier Old Men (1995)</td>\n",
       "      <td>Comedy|Romance</td>\n",
       "      <td>Grumpier Old Men 1995</td>\n",
       "      <td>[Comedy, Romance]</td>\n",
       "    </tr>\n",
       "    <tr>\n",
       "      <th>3</th>\n",
       "      <td>4</td>\n",
       "      <td>Waiting to Exhale (1995)</td>\n",
       "      <td>Comedy|Drama|Romance</td>\n",
       "      <td>Waiting to Exhale 1995</td>\n",
       "      <td>[Comedy, Drama, Romance]</td>\n",
       "    </tr>\n",
       "    <tr>\n",
       "      <th>4</th>\n",
       "      <td>5</td>\n",
       "      <td>Father of the Bride Part II (1995)</td>\n",
       "      <td>Comedy</td>\n",
       "      <td>Father of the Bride Part II 1995</td>\n",
       "      <td>[Comedy]</td>\n",
       "    </tr>\n",
       "    <tr>\n",
       "      <th>...</th>\n",
       "      <td>...</td>\n",
       "      <td>...</td>\n",
       "      <td>...</td>\n",
       "      <td>...</td>\n",
       "      <td>...</td>\n",
       "    </tr>\n",
       "    <tr>\n",
       "      <th>62418</th>\n",
       "      <td>209157</td>\n",
       "      <td>We (2018)</td>\n",
       "      <td>Drama</td>\n",
       "      <td>We 2018</td>\n",
       "      <td>[Drama]</td>\n",
       "    </tr>\n",
       "    <tr>\n",
       "      <th>62419</th>\n",
       "      <td>209159</td>\n",
       "      <td>Window of the Soul (2001)</td>\n",
       "      <td>Documentary</td>\n",
       "      <td>Window of the Soul 2001</td>\n",
       "      <td>[Documentary]</td>\n",
       "    </tr>\n",
       "    <tr>\n",
       "      <th>62420</th>\n",
       "      <td>209163</td>\n",
       "      <td>Bad Poems (2018)</td>\n",
       "      <td>Comedy|Drama</td>\n",
       "      <td>Bad Poems 2018</td>\n",
       "      <td>[Comedy, Drama]</td>\n",
       "    </tr>\n",
       "    <tr>\n",
       "      <th>62421</th>\n",
       "      <td>209169</td>\n",
       "      <td>A Girl Thing (2001)</td>\n",
       "      <td>(no genres listed)</td>\n",
       "      <td>A Girl Thing 2001</td>\n",
       "      <td>[(no genres listed)]</td>\n",
       "    </tr>\n",
       "    <tr>\n",
       "      <th>62422</th>\n",
       "      <td>209171</td>\n",
       "      <td>Women of Devil's Island (1962)</td>\n",
       "      <td>Action|Adventure|Drama</td>\n",
       "      <td>Women of Devils Island 1962</td>\n",
       "      <td>[Action, Adventure, Drama]</td>\n",
       "    </tr>\n",
       "  </tbody>\n",
       "</table>\n",
       "<p>62423 rows × 5 columns</p>\n",
       "</div>"
      ],
      "text/plain": [
       "       movieId                               title  \\\n",
       "0            1                    Toy Story (1995)   \n",
       "1            2                      Jumanji (1995)   \n",
       "2            3             Grumpier Old Men (1995)   \n",
       "3            4            Waiting to Exhale (1995)   \n",
       "4            5  Father of the Bride Part II (1995)   \n",
       "...        ...                                 ...   \n",
       "62418   209157                           We (2018)   \n",
       "62419   209159           Window of the Soul (2001)   \n",
       "62420   209163                    Bad Poems (2018)   \n",
       "62421   209169                 A Girl Thing (2001)   \n",
       "62422   209171      Women of Devil's Island (1962)   \n",
       "\n",
       "                                            genres  \\\n",
       "0      Adventure|Animation|Children|Comedy|Fantasy   \n",
       "1                       Adventure|Children|Fantasy   \n",
       "2                                   Comedy|Romance   \n",
       "3                             Comedy|Drama|Romance   \n",
       "4                                           Comedy   \n",
       "...                                            ...   \n",
       "62418                                        Drama   \n",
       "62419                                  Documentary   \n",
       "62420                                 Comedy|Drama   \n",
       "62421                           (no genres listed)   \n",
       "62422                       Action|Adventure|Drama   \n",
       "\n",
       "                          cleaned_title  \\\n",
       "0                        Toy Story 1995   \n",
       "1                          Jumanji 1995   \n",
       "2                 Grumpier Old Men 1995   \n",
       "3                Waiting to Exhale 1995   \n",
       "4      Father of the Bride Part II 1995   \n",
       "...                                 ...   \n",
       "62418                           We 2018   \n",
       "62419           Window of the Soul 2001   \n",
       "62420                    Bad Poems 2018   \n",
       "62421                 A Girl Thing 2001   \n",
       "62422       Women of Devils Island 1962   \n",
       "\n",
       "                                            split_genres  \n",
       "0      [Adventure, Animation, Children, Comedy, Fantasy]  \n",
       "1                         [Adventure, Children, Fantasy]  \n",
       "2                                      [Comedy, Romance]  \n",
       "3                               [Comedy, Drama, Romance]  \n",
       "4                                               [Comedy]  \n",
       "...                                                  ...  \n",
       "62418                                            [Drama]  \n",
       "62419                                      [Documentary]  \n",
       "62420                                    [Comedy, Drama]  \n",
       "62421                               [(no genres listed)]  \n",
       "62422                         [Action, Adventure, Drama]  \n",
       "\n",
       "[62423 rows x 5 columns]"
      ]
     },
     "execution_count": 6,
     "metadata": {},
     "output_type": "execute_result"
    }
   ],
   "source": [
    "df_movies"
   ]
  },
  {
   "cell_type": "markdown",
   "id": "8a173300",
   "metadata": {},
   "source": [
    "Part 1 - Recommend movies based on titles.                                                                                            \n",
    "\n",
    "Creating a TFIDF matrix, converting titles of our movies to numbers (term frequency & inverse document frequency)"
   ]
  },
  {
   "cell_type": "code",
   "execution_count": 7,
   "id": "898532dd",
   "metadata": {},
   "outputs": [],
   "source": [
    "from sklearn.feature_extraction.text import TfidfVectorizer"
   ]
  },
  {
   "cell_type": "code",
   "execution_count": 8,
   "id": "237c2c87",
   "metadata": {},
   "outputs": [],
   "source": [
    "vectorizer = TfidfVectorizer(ngram_range=(1,2))\n",
    "tfidf= vectorizer.fit_transform(df_movies['cleaned_title'])"
   ]
  },
  {
   "cell_type": "markdown",
   "id": "c4b1cd0a",
   "metadata": {},
   "source": [
    "Finding most similar results using cosine similarity"
   ]
  },
  {
   "cell_type": "code",
   "execution_count": 9,
   "id": "e95f4349",
   "metadata": {},
   "outputs": [],
   "source": [
    "from sklearn.metrics.pairwise import cosine_similarity"
   ]
  },
  {
   "cell_type": "code",
   "execution_count": 10,
   "id": "330a2fd8",
   "metadata": {},
   "outputs": [],
   "source": [
    "def search(title):    \n",
    "   # title = \"A Girl Thing\"\n",
    "    title = cleaned_title(title)\n",
    "    new_vec = vectorizer.transform([title])\n",
    "    similarity = cosine_similarity(new_vec,tfidf).flatten()\n",
    "    indices = np.argpartition(similarity,-5)[-5:]\n",
    "    results= df_movies.iloc[indices][::-1]\n",
    "    return results"
   ]
  },
  {
   "cell_type": "markdown",
   "id": "417a8a08",
   "metadata": {},
   "source": [
    "Building an interactive widget to input movie name and get search results"
   ]
  },
  {
   "cell_type": "code",
   "execution_count": 11,
   "id": "f541b2b2",
   "metadata": {},
   "outputs": [
    {
     "data": {
      "application/vnd.jupyter.widget-view+json": {
       "model_id": "c8352b24b0e24ffebcec0a9385a893d3",
       "version_major": 2,
       "version_minor": 0
      },
      "text/plain": [
       "Text(value='Bad Poem', description='Movie title')"
      ]
     },
     "metadata": {},
     "output_type": "display_data"
    },
    {
     "data": {
      "application/vnd.jupyter.widget-view+json": {
       "model_id": "de4a4c061f43414fa2f335124f723fa2",
       "version_major": 2,
       "version_minor": 0
      },
      "text/plain": [
       "Output()"
      ]
     },
     "metadata": {},
     "output_type": "display_data"
    }
   ],
   "source": [
    "import ipywidgets as widgets\n",
    "from IPython.display import display\n",
    "movie_input = widgets.Text(value= 'Bad Poem',\n",
    "                          description = 'Movie title',\n",
    "                          disabled = False)\n",
    "\n",
    "movie_output = widgets.Output()\n",
    "\n",
    "def on_enter(data):\n",
    "    with movie_output:\n",
    "        movie_output.clear_output()\n",
    "        title = data[\"new\"]\n",
    "        if len(title)>5:\n",
    "            display(search(title))\n",
    "            \n",
    "movie_input.observe(on_enter ,names ='value' )\n",
    "\n",
    "display(movie_input,movie_output)"
   ]
  },
  {
   "cell_type": "code",
   "execution_count": 12,
   "id": "48875c7a",
   "metadata": {},
   "outputs": [
    {
     "data": {
      "text/html": [
       "<div>\n",
       "<style scoped>\n",
       "    .dataframe tbody tr th:only-of-type {\n",
       "        vertical-align: middle;\n",
       "    }\n",
       "\n",
       "    .dataframe tbody tr th {\n",
       "        vertical-align: top;\n",
       "    }\n",
       "\n",
       "    .dataframe thead th {\n",
       "        text-align: right;\n",
       "    }\n",
       "</style>\n",
       "<table border=\"1\" class=\"dataframe\">\n",
       "  <thead>\n",
       "    <tr style=\"text-align: right;\">\n",
       "      <th></th>\n",
       "      <th>userId</th>\n",
       "      <th>movieId</th>\n",
       "      <th>rating</th>\n",
       "      <th>timestamp</th>\n",
       "    </tr>\n",
       "  </thead>\n",
       "  <tbody>\n",
       "    <tr>\n",
       "      <th>0</th>\n",
       "      <td>1</td>\n",
       "      <td>296</td>\n",
       "      <td>5.0</td>\n",
       "      <td>1147880044</td>\n",
       "    </tr>\n",
       "    <tr>\n",
       "      <th>1</th>\n",
       "      <td>1</td>\n",
       "      <td>306</td>\n",
       "      <td>3.5</td>\n",
       "      <td>1147868817</td>\n",
       "    </tr>\n",
       "    <tr>\n",
       "      <th>2</th>\n",
       "      <td>1</td>\n",
       "      <td>307</td>\n",
       "      <td>5.0</td>\n",
       "      <td>1147868828</td>\n",
       "    </tr>\n",
       "    <tr>\n",
       "      <th>3</th>\n",
       "      <td>1</td>\n",
       "      <td>665</td>\n",
       "      <td>5.0</td>\n",
       "      <td>1147878820</td>\n",
       "    </tr>\n",
       "    <tr>\n",
       "      <th>4</th>\n",
       "      <td>1</td>\n",
       "      <td>899</td>\n",
       "      <td>3.5</td>\n",
       "      <td>1147868510</td>\n",
       "    </tr>\n",
       "  </tbody>\n",
       "</table>\n",
       "</div>"
      ],
      "text/plain": [
       "   userId  movieId  rating   timestamp\n",
       "0       1      296     5.0  1147880044\n",
       "1       1      306     3.5  1147868817\n",
       "2       1      307     5.0  1147868828\n",
       "3       1      665     5.0  1147878820\n",
       "4       1      899     3.5  1147868510"
      ]
     },
     "execution_count": 12,
     "metadata": {},
     "output_type": "execute_result"
    }
   ],
   "source": [
    "df_ratings = pd.read_csv('ratings.csv')\n",
    "df_ratings.head()\n"
   ]
  },
  {
   "cell_type": "code",
   "execution_count": 13,
   "id": "c7bee63f",
   "metadata": {},
   "outputs": [
    {
     "data": {
      "text/plain": [
       "(25000095, 4)"
      ]
     },
     "execution_count": 13,
     "metadata": {},
     "output_type": "execute_result"
    }
   ],
   "source": [
    "df_ratings.shape"
   ]
  },
  {
   "cell_type": "markdown",
   "id": "0e272b8f",
   "metadata": {},
   "source": [
    "Part 2 - Recommend movies based on preferences(ratings) of users that are similar to us.    \n",
    "\n",
    "\n",
    "For example, a user likes the below movie 'pulp fiction 1994', we are going to recommend movies to this person based on the ratings of similar user who also liked this movie."
   ]
  },
  {
   "cell_type": "code",
   "execution_count": 16,
   "id": "e041a4a1",
   "metadata": {},
   "outputs": [
    {
     "data": {
      "text/html": [
       "<div>\n",
       "<style scoped>\n",
       "    .dataframe tbody tr th:only-of-type {\n",
       "        vertical-align: middle;\n",
       "    }\n",
       "\n",
       "    .dataframe tbody tr th {\n",
       "        vertical-align: top;\n",
       "    }\n",
       "\n",
       "    .dataframe thead th {\n",
       "        text-align: right;\n",
       "    }\n",
       "</style>\n",
       "<table border=\"1\" class=\"dataframe\">\n",
       "  <thead>\n",
       "    <tr style=\"text-align: right;\">\n",
       "      <th></th>\n",
       "      <th>movieId</th>\n",
       "      <th>title</th>\n",
       "      <th>genres</th>\n",
       "      <th>cleaned_title</th>\n",
       "      <th>split_genres</th>\n",
       "    </tr>\n",
       "  </thead>\n",
       "  <tbody>\n",
       "    <tr>\n",
       "      <th>292</th>\n",
       "      <td>296</td>\n",
       "      <td>Pulp Fiction (1994)</td>\n",
       "      <td>Comedy|Crime|Drama|Thriller</td>\n",
       "      <td>Pulp Fiction 1994</td>\n",
       "      <td>[Comedy, Crime, Drama, Thriller]</td>\n",
       "    </tr>\n",
       "  </tbody>\n",
       "</table>\n",
       "</div>"
      ],
      "text/plain": [
       "     movieId                title                       genres  \\\n",
       "292      296  Pulp Fiction (1994)  Comedy|Crime|Drama|Thriller   \n",
       "\n",
       "         cleaned_title                      split_genres  \n",
       "292  Pulp Fiction 1994  [Comedy, Crime, Drama, Thriller]  "
      ]
     },
     "execution_count": 16,
     "metadata": {},
     "output_type": "execute_result"
    }
   ],
   "source": [
    "movie_id=296\n",
    "df_movies[df_movies['movieId']==296]"
   ]
  },
  {
   "cell_type": "code",
   "execution_count": 17,
   "id": "2a0516cd",
   "metadata": {},
   "outputs": [
    {
     "data": {
      "text/plain": [
       "array([     1,      3,      8, ..., 162533, 162534, 162536], dtype=int64)"
      ]
     },
     "execution_count": 17,
     "metadata": {},
     "output_type": "execute_result"
    }
   ],
   "source": [
    "# Identifying other users who also watched the movie pulp fiction and gave a rating that is greater than 4 \n",
    "\n",
    "similar_users = df_ratings[(df_ratings['movieId']==movie_id) & (df_ratings['rating']>4)]['userId'].unique()\n",
    "similar_users"
   ]
  },
  {
   "cell_type": "code",
   "execution_count": 18,
   "id": "3450ba80",
   "metadata": {},
   "outputs": [
    {
     "data": {
      "text/plain": [
       "0              296\n",
       "2              307\n",
       "3              665\n",
       "8             1237\n",
       "16            2351\n",
       "             ...  \n",
       "24999516    133771\n",
       "24999517    134130\n",
       "24999518    148626\n",
       "24999519    148685\n",
       "24999522    204698\n",
       "Name: movieId, Length: 2544315, dtype: int64"
      ]
     },
     "execution_count": 18,
     "metadata": {},
     "output_type": "execute_result"
    }
   ],
   "source": [
    "#Identifying all the other movies that has received ratings higher than 4 from the users in 'Pulp Fiction' enthusiasts group\n",
    "\n",
    "similar_recs= df_ratings[(df_ratings['userId'].isin (similar_users)) & (df_ratings['rating']>4)][\"movieId\"]\n",
    "similar_recs                                                                        "
   ]
  },
  {
   "cell_type": "code",
   "execution_count": 19,
   "id": "1aa1e58c",
   "metadata": {},
   "outputs": [
    {
     "data": {
      "text/plain": [
       "296       42988\n",
       "318       21304\n",
       "2959      17170\n",
       "593       17059\n",
       "50        16328\n",
       "          ...  \n",
       "59290         1\n",
       "6203          1\n",
       "7583          1\n",
       "166753        1\n",
       "148685        1\n",
       "Name: movieId, Length: 22220, dtype: int64"
      ]
     },
     "execution_count": 19,
     "metadata": {},
     "output_type": "execute_result"
    }
   ],
   "source": [
    "similar_recs.value_counts()"
   ]
  },
  {
   "cell_type": "code",
   "execution_count": 20,
   "id": "5480a6c2",
   "metadata": {},
   "outputs": [
    {
     "data": {
      "text/plain": [
       "296      1.000000\n",
       "318      0.495580\n",
       "2959     0.399414\n",
       "593      0.396832\n",
       "50       0.379827\n",
       "           ...   \n",
       "4995     0.102726\n",
       "923      0.102726\n",
       "3996     0.102424\n",
       "2502     0.101447\n",
       "44191    0.100400\n",
       "Name: movieId, Length: 94, dtype: float64"
      ]
     },
     "execution_count": 20,
     "metadata": {},
     "output_type": "execute_result"
    }
   ],
   "source": [
    "#To get the top recommendations,finding only the movies that greater than 10% of these users have liked.\n",
    "\n",
    "similar_recs= similar_recs.value_counts()/len(similar_users)\n",
    "similar_recs= similar_recs[similar_recs>.10]\n",
    "similar_recs"
   ]
  },
  {
   "cell_type": "markdown",
   "id": "48b86664",
   "metadata": {},
   "source": [
    "Next, our focus shifts to identifying niche films—movies that exhibit a remarkable similarity to \"Pulp Fiction.\" For instance, the \"Avengers\" movie might be a beloved choice among a broader audience, extending beyond the fanbase of \"Pulp Fiction.\"\n",
    "\n",
    "To achieve this, we'll compute a ratio comparing the overall user preference to that of the \"Pulp Fiction\" enthusiasts. This calculation allows us to pinpoint recommendations that align closely with our initial input."
   ]
  },
  {
   "cell_type": "code",
   "execution_count": 21,
   "id": "927ef03b",
   "metadata": {},
   "outputs": [
    {
     "data": {
      "text/html": [
       "<div>\n",
       "<style scoped>\n",
       "    .dataframe tbody tr th:only-of-type {\n",
       "        vertical-align: middle;\n",
       "    }\n",
       "\n",
       "    .dataframe tbody tr th {\n",
       "        vertical-align: top;\n",
       "    }\n",
       "\n",
       "    .dataframe thead th {\n",
       "        text-align: right;\n",
       "    }\n",
       "</style>\n",
       "<table border=\"1\" class=\"dataframe\">\n",
       "  <thead>\n",
       "    <tr style=\"text-align: right;\">\n",
       "      <th></th>\n",
       "      <th>userId</th>\n",
       "      <th>movieId</th>\n",
       "      <th>rating</th>\n",
       "      <th>timestamp</th>\n",
       "    </tr>\n",
       "  </thead>\n",
       "  <tbody>\n",
       "    <tr>\n",
       "      <th>0</th>\n",
       "      <td>1</td>\n",
       "      <td>296</td>\n",
       "      <td>5.0</td>\n",
       "      <td>1147880044</td>\n",
       "    </tr>\n",
       "    <tr>\n",
       "      <th>23</th>\n",
       "      <td>1</td>\n",
       "      <td>3949</td>\n",
       "      <td>5.0</td>\n",
       "      <td>1147868678</td>\n",
       "    </tr>\n",
       "    <tr>\n",
       "      <th>29</th>\n",
       "      <td>1</td>\n",
       "      <td>4973</td>\n",
       "      <td>4.5</td>\n",
       "      <td>1147869080</td>\n",
       "    </tr>\n",
       "    <tr>\n",
       "      <th>37</th>\n",
       "      <td>1</td>\n",
       "      <td>6016</td>\n",
       "      <td>5.0</td>\n",
       "      <td>1147869090</td>\n",
       "    </tr>\n",
       "    <tr>\n",
       "      <th>48</th>\n",
       "      <td>1</td>\n",
       "      <td>7361</td>\n",
       "      <td>5.0</td>\n",
       "      <td>1147880055</td>\n",
       "    </tr>\n",
       "    <tr>\n",
       "      <th>...</th>\n",
       "      <td>...</td>\n",
       "      <td>...</td>\n",
       "      <td>...</td>\n",
       "      <td>...</td>\n",
       "    </tr>\n",
       "    <tr>\n",
       "      <th>25000058</th>\n",
       "      <td>162541</td>\n",
       "      <td>4995</td>\n",
       "      <td>5.0</td>\n",
       "      <td>1240951903</td>\n",
       "    </tr>\n",
       "    <tr>\n",
       "      <th>25000062</th>\n",
       "      <td>162541</td>\n",
       "      <td>5618</td>\n",
       "      <td>4.5</td>\n",
       "      <td>1240953299</td>\n",
       "    </tr>\n",
       "    <tr>\n",
       "      <th>25000065</th>\n",
       "      <td>162541</td>\n",
       "      <td>5952</td>\n",
       "      <td>5.0</td>\n",
       "      <td>1240952617</td>\n",
       "    </tr>\n",
       "    <tr>\n",
       "      <th>25000078</th>\n",
       "      <td>162541</td>\n",
       "      <td>7153</td>\n",
       "      <td>5.0</td>\n",
       "      <td>1240952613</td>\n",
       "    </tr>\n",
       "    <tr>\n",
       "      <th>25000081</th>\n",
       "      <td>162541</td>\n",
       "      <td>7361</td>\n",
       "      <td>4.5</td>\n",
       "      <td>1240953484</td>\n",
       "    </tr>\n",
       "  </tbody>\n",
       "</table>\n",
       "<p>1581262 rows × 4 columns</p>\n",
       "</div>"
      ],
      "text/plain": [
       "          userId  movieId  rating   timestamp\n",
       "0              1      296     5.0  1147880044\n",
       "23             1     3949     5.0  1147868678\n",
       "29             1     4973     4.5  1147869080\n",
       "37             1     6016     5.0  1147869090\n",
       "48             1     7361     5.0  1147880055\n",
       "...          ...      ...     ...         ...\n",
       "25000058  162541     4995     5.0  1240951903\n",
       "25000062  162541     5618     4.5  1240953299\n",
       "25000065  162541     5952     5.0  1240952617\n",
       "25000078  162541     7153     5.0  1240952613\n",
       "25000081  162541     7361     4.5  1240953484\n",
       "\n",
       "[1581262 rows x 4 columns]"
      ]
     },
     "execution_count": 21,
     "metadata": {},
     "output_type": "execute_result"
    }
   ],
   "source": [
    "total_users = df_ratings[(df_ratings['movieId'].isin (similar_recs.index)) & (df_ratings['rating']>4)]\n",
    "total_users"
   ]
  },
  {
   "cell_type": "code",
   "execution_count": 22,
   "id": "26b36623",
   "metadata": {},
   "outputs": [
    {
     "data": {
      "text/plain": [
       "318      51678\n",
       "296      42988\n",
       "2571     36851\n",
       "356      35527\n",
       "593      34114\n",
       "         ...  \n",
       "1201      8383\n",
       "55820     8262\n",
       "223       7773\n",
       "2542      7747\n",
       "32587     7426\n",
       "Name: movieId, Length: 94, dtype: int64"
      ]
     },
     "execution_count": 22,
     "metadata": {},
     "output_type": "execute_result"
    }
   ],
   "source": [
    "total_users['movieId'].value_counts()"
   ]
  },
  {
   "cell_type": "code",
   "execution_count": 23,
   "id": "1ecefdf1",
   "metadata": {},
   "outputs": [
    {
     "data": {
      "text/plain": [
       "318      0.347093\n",
       "296      0.288727\n",
       "2571     0.247508\n",
       "356      0.238616\n",
       "593      0.229125\n",
       "           ...   \n",
       "1201     0.056304\n",
       "55820    0.055491\n",
       "223      0.052207\n",
       "2542     0.052032\n",
       "32587    0.049876\n",
       "Name: movieId, Length: 94, dtype: float64"
      ]
     },
     "execution_count": 23,
     "metadata": {},
     "output_type": "execute_result"
    }
   ],
   "source": [
    "total_user_recs= total_users['movieId'].value_counts()/len(total_users['userId'].unique())\n",
    "total_user_recs"
   ]
  },
  {
   "cell_type": "code",
   "execution_count": 24,
   "id": "aec88158",
   "metadata": {},
   "outputs": [
    {
     "data": {
      "text/html": [
       "<div>\n",
       "<style scoped>\n",
       "    .dataframe tbody tr th:only-of-type {\n",
       "        vertical-align: middle;\n",
       "    }\n",
       "\n",
       "    .dataframe tbody tr th {\n",
       "        vertical-align: top;\n",
       "    }\n",
       "\n",
       "    .dataframe thead th {\n",
       "        text-align: right;\n",
       "    }\n",
       "</style>\n",
       "<table border=\"1\" class=\"dataframe\">\n",
       "  <thead>\n",
       "    <tr style=\"text-align: right;\">\n",
       "      <th></th>\n",
       "      <th>similar_users</th>\n",
       "      <th>all_users</th>\n",
       "    </tr>\n",
       "  </thead>\n",
       "  <tbody>\n",
       "    <tr>\n",
       "      <th>1</th>\n",
       "      <td>0.160929</td>\n",
       "      <td>0.126504</td>\n",
       "    </tr>\n",
       "    <tr>\n",
       "      <th>32</th>\n",
       "      <td>0.193310</td>\n",
       "      <td>0.101721</td>\n",
       "    </tr>\n",
       "    <tr>\n",
       "      <th>47</th>\n",
       "      <td>0.300154</td>\n",
       "      <td>0.146526</td>\n",
       "    </tr>\n",
       "    <tr>\n",
       "      <th>50</th>\n",
       "      <td>0.379827</td>\n",
       "      <td>0.203368</td>\n",
       "    </tr>\n",
       "    <tr>\n",
       "      <th>110</th>\n",
       "      <td>0.225412</td>\n",
       "      <td>0.163163</td>\n",
       "    </tr>\n",
       "    <tr>\n",
       "      <th>...</th>\n",
       "      <td>...</td>\n",
       "      <td>...</td>\n",
       "    </tr>\n",
       "    <tr>\n",
       "      <th>58559</th>\n",
       "      <td>0.208337</td>\n",
       "      <td>0.148555</td>\n",
       "    </tr>\n",
       "    <tr>\n",
       "      <th>60069</th>\n",
       "      <td>0.103564</td>\n",
       "      <td>0.077394</td>\n",
       "    </tr>\n",
       "    <tr>\n",
       "      <th>68157</th>\n",
       "      <td>0.143156</td>\n",
       "      <td>0.067534</td>\n",
       "    </tr>\n",
       "    <tr>\n",
       "      <th>79132</th>\n",
       "      <td>0.173002</td>\n",
       "      <td>0.133255</td>\n",
       "    </tr>\n",
       "    <tr>\n",
       "      <th>99114</th>\n",
       "      <td>0.112962</td>\n",
       "      <td>0.058010</td>\n",
       "    </tr>\n",
       "  </tbody>\n",
       "</table>\n",
       "<p>94 rows × 2 columns</p>\n",
       "</div>"
      ],
      "text/plain": [
       "       similar_users  all_users\n",
       "1           0.160929   0.126504\n",
       "32          0.193310   0.101721\n",
       "47          0.300154   0.146526\n",
       "50          0.379827   0.203368\n",
       "110         0.225412   0.163163\n",
       "...              ...        ...\n",
       "58559       0.208337   0.148555\n",
       "60069       0.103564   0.077394\n",
       "68157       0.143156   0.067534\n",
       "79132       0.173002   0.133255\n",
       "99114       0.112962   0.058010\n",
       "\n",
       "[94 rows x 2 columns]"
      ]
     },
     "execution_count": 24,
     "metadata": {},
     "output_type": "execute_result"
    }
   ],
   "source": [
    "recommendation_percentage = pd.concat([similar_recs,total_user_recs],axis=1)\n",
    "recommendation_percentage.columns = ['similar_users','all_users']\n",
    "recommendation_percentage"
   ]
  },
  {
   "cell_type": "markdown",
   "id": "f44b60fe",
   "metadata": {},
   "source": [
    "Identifying the contrast between the percentage of all users who have expressed a liking for a particular movie and the percentage of similar users who share the same positive sentiment towards that movie. \n",
    "\n",
    "A substantial difference in these percentages is sought after to identify valuable recommendations."
   ]
  },
  {
   "cell_type": "code",
   "execution_count": 25,
   "id": "1125bf71",
   "metadata": {},
   "outputs": [
    {
     "data": {
      "text/html": [
       "<div>\n",
       "<style scoped>\n",
       "    .dataframe tbody tr th:only-of-type {\n",
       "        vertical-align: middle;\n",
       "    }\n",
       "\n",
       "    .dataframe tbody tr th {\n",
       "        vertical-align: top;\n",
       "    }\n",
       "\n",
       "    .dataframe thead th {\n",
       "        text-align: right;\n",
       "    }\n",
       "</style>\n",
       "<table border=\"1\" class=\"dataframe\">\n",
       "  <thead>\n",
       "    <tr style=\"text-align: right;\">\n",
       "      <th></th>\n",
       "      <th>similar_users</th>\n",
       "      <th>all_users</th>\n",
       "      <th>score</th>\n",
       "    </tr>\n",
       "  </thead>\n",
       "  <tbody>\n",
       "    <tr>\n",
       "      <th>296</th>\n",
       "      <td>1.000000</td>\n",
       "      <td>0.288727</td>\n",
       "      <td>3.463478</td>\n",
       "    </tr>\n",
       "    <tr>\n",
       "      <th>1089</th>\n",
       "      <td>0.274379</td>\n",
       "      <td>0.102211</td>\n",
       "      <td>2.684435</td>\n",
       "    </tr>\n",
       "    <tr>\n",
       "      <th>7438</th>\n",
       "      <td>0.162138</td>\n",
       "      <td>0.067252</td>\n",
       "      <td>2.410910</td>\n",
       "    </tr>\n",
       "    <tr>\n",
       "      <th>32587</th>\n",
       "      <td>0.117242</td>\n",
       "      <td>0.049876</td>\n",
       "      <td>2.350650</td>\n",
       "    </tr>\n",
       "    <tr>\n",
       "      <th>6874</th>\n",
       "      <td>0.201033</td>\n",
       "      <td>0.086098</td>\n",
       "      <td>2.334923</td>\n",
       "    </tr>\n",
       "    <tr>\n",
       "      <th>...</th>\n",
       "      <td>...</td>\n",
       "      <td>...</td>\n",
       "      <td>...</td>\n",
       "    </tr>\n",
       "    <tr>\n",
       "      <th>1</th>\n",
       "      <td>0.160929</td>\n",
       "      <td>0.126504</td>\n",
       "      <td>1.272118</td>\n",
       "    </tr>\n",
       "    <tr>\n",
       "      <th>480</th>\n",
       "      <td>0.128454</td>\n",
       "      <td>0.101311</td>\n",
       "      <td>1.267921</td>\n",
       "    </tr>\n",
       "    <tr>\n",
       "      <th>150</th>\n",
       "      <td>0.112403</td>\n",
       "      <td>0.091868</td>\n",
       "      <td>1.223536</td>\n",
       "    </tr>\n",
       "    <tr>\n",
       "      <th>1197</th>\n",
       "      <td>0.147832</td>\n",
       "      <td>0.121024</td>\n",
       "      <td>1.221511</td>\n",
       "    </tr>\n",
       "    <tr>\n",
       "      <th>364</th>\n",
       "      <td>0.102959</td>\n",
       "      <td>0.086985</td>\n",
       "      <td>1.183643</td>\n",
       "    </tr>\n",
       "  </tbody>\n",
       "</table>\n",
       "<p>94 rows × 3 columns</p>\n",
       "</div>"
      ],
      "text/plain": [
       "       similar_users  all_users     score\n",
       "296         1.000000   0.288727  3.463478\n",
       "1089        0.274379   0.102211  2.684435\n",
       "7438        0.162138   0.067252  2.410910\n",
       "32587       0.117242   0.049876  2.350650\n",
       "6874        0.201033   0.086098  2.334923\n",
       "...              ...        ...       ...\n",
       "1           0.160929   0.126504  1.272118\n",
       "480         0.128454   0.101311  1.267921\n",
       "150         0.112403   0.091868  1.223536\n",
       "1197        0.147832   0.121024  1.221511\n",
       "364         0.102959   0.086985  1.183643\n",
       "\n",
       "[94 rows x 3 columns]"
      ]
     },
     "execution_count": 25,
     "metadata": {},
     "output_type": "execute_result"
    }
   ],
   "source": [
    "recommendation_percentage['score']= recommendation_percentage['similar_users']/recommendation_percentage['all_users']\n",
    "recommendation_percentage= recommendation_percentage.sort_values('score',ascending=False)\n",
    "recommendation_percentage"
   ]
  },
  {
   "cell_type": "code",
   "execution_count": 56,
   "id": "b9ecf380",
   "metadata": {},
   "outputs": [
    {
     "data": {
      "text/html": [
       "<div>\n",
       "<style scoped>\n",
       "    .dataframe tbody tr th:only-of-type {\n",
       "        vertical-align: middle;\n",
       "    }\n",
       "\n",
       "    .dataframe tbody tr th {\n",
       "        vertical-align: top;\n",
       "    }\n",
       "\n",
       "    .dataframe thead th {\n",
       "        text-align: right;\n",
       "    }\n",
       "</style>\n",
       "<table border=\"1\" class=\"dataframe\">\n",
       "  <thead>\n",
       "    <tr style=\"text-align: right;\">\n",
       "      <th></th>\n",
       "      <th>similar_users</th>\n",
       "      <th>all_users</th>\n",
       "      <th>score</th>\n",
       "      <th>movieId</th>\n",
       "      <th>title</th>\n",
       "      <th>genres</th>\n",
       "      <th>cleaned_title</th>\n",
       "      <th>split_genres</th>\n",
       "    </tr>\n",
       "  </thead>\n",
       "  <tbody>\n",
       "    <tr>\n",
       "      <th>292</th>\n",
       "      <td>1.000000</td>\n",
       "      <td>0.288727</td>\n",
       "      <td>3.463478</td>\n",
       "      <td>296</td>\n",
       "      <td>Pulp Fiction (1994)</td>\n",
       "      <td>Comedy|Crime|Drama|Thriller</td>\n",
       "      <td>Pulp Fiction 1994</td>\n",
       "      <td>[Comedy, Crime, Drama, Thriller]</td>\n",
       "    </tr>\n",
       "    <tr>\n",
       "      <th>1062</th>\n",
       "      <td>0.274379</td>\n",
       "      <td>0.102211</td>\n",
       "      <td>2.684435</td>\n",
       "      <td>1089</td>\n",
       "      <td>Reservoir Dogs (1992)</td>\n",
       "      <td>Crime|Mystery|Thriller</td>\n",
       "      <td>Reservoir Dogs 1992</td>\n",
       "      <td>[Crime, Mystery, Thriller]</td>\n",
       "    </tr>\n",
       "    <tr>\n",
       "      <th>7299</th>\n",
       "      <td>0.162138</td>\n",
       "      <td>0.067252</td>\n",
       "      <td>2.410910</td>\n",
       "      <td>7438</td>\n",
       "      <td>Kill Bill: Vol. 2 (2004)</td>\n",
       "      <td>Action|Drama|Thriller</td>\n",
       "      <td>Kill Bill Vol 2 2004</td>\n",
       "      <td>[Action, Drama, Thriller]</td>\n",
       "    </tr>\n",
       "    <tr>\n",
       "      <th>9778</th>\n",
       "      <td>0.117242</td>\n",
       "      <td>0.049876</td>\n",
       "      <td>2.350650</td>\n",
       "      <td>32587</td>\n",
       "      <td>Sin City (2005)</td>\n",
       "      <td>Action|Crime|Film-Noir|Mystery|Thriller</td>\n",
       "      <td>Sin City 2005</td>\n",
       "      <td>[Action, Crime, Film-Noir, Mystery, Thriller]</td>\n",
       "    </tr>\n",
       "    <tr>\n",
       "      <th>6751</th>\n",
       "      <td>0.201033</td>\n",
       "      <td>0.086098</td>\n",
       "      <td>2.334923</td>\n",
       "      <td>6874</td>\n",
       "      <td>Kill Bill: Vol. 1 (2003)</td>\n",
       "      <td>Action|Crime|Thriller</td>\n",
       "      <td>Kill Bill Vol 1 2003</td>\n",
       "      <td>[Action, Crime, Thriller]</td>\n",
       "    </tr>\n",
       "    <tr>\n",
       "      <th>762</th>\n",
       "      <td>0.175677</td>\n",
       "      <td>0.075822</td>\n",
       "      <td>2.316962</td>\n",
       "      <td>778</td>\n",
       "      <td>Trainspotting (1996)</td>\n",
       "      <td>Comedy|Crime|Drama</td>\n",
       "      <td>Trainspotting 1996</td>\n",
       "      <td>[Comedy, Crime, Drama]</td>\n",
       "    </tr>\n",
       "    <tr>\n",
       "      <th>2451</th>\n",
       "      <td>0.120243</td>\n",
       "      <td>0.052032</td>\n",
       "      <td>2.310923</td>\n",
       "      <td>2542</td>\n",
       "      <td>Lock, Stock &amp; Two Smoking Barrels (1998)</td>\n",
       "      <td>Comedy|Crime|Thriller</td>\n",
       "      <td>Lock Stock  Two Smoking Barrels 1998</td>\n",
       "      <td>[Comedy, Crime, Thriller]</td>\n",
       "    </tr>\n",
       "    <tr>\n",
       "      <th>1191</th>\n",
       "      <td>0.152484</td>\n",
       "      <td>0.067830</td>\n",
       "      <td>2.248054</td>\n",
       "      <td>1222</td>\n",
       "      <td>Full Metal Jacket (1987)</td>\n",
       "      <td>Drama|War</td>\n",
       "      <td>Full Metal Jacket 1987</td>\n",
       "      <td>[Drama, War]</td>\n",
       "    </tr>\n",
       "    <tr>\n",
       "      <th>1182</th>\n",
       "      <td>0.235135</td>\n",
       "      <td>0.104750</td>\n",
       "      <td>2.244732</td>\n",
       "      <td>1213</td>\n",
       "      <td>Goodfellas (1990)</td>\n",
       "      <td>Crime|Drama</td>\n",
       "      <td>Goodfellas 1990</td>\n",
       "      <td>[Crime, Drama]</td>\n",
       "    </tr>\n",
       "    <tr>\n",
       "      <th>11932</th>\n",
       "      <td>0.124197</td>\n",
       "      <td>0.055491</td>\n",
       "      <td>2.238140</td>\n",
       "      <td>55820</td>\n",
       "      <td>No Country for Old Men (2007)</td>\n",
       "      <td>Crime|Drama</td>\n",
       "      <td>No Country for Old Men 2007</td>\n",
       "      <td>[Crime, Drama]</td>\n",
       "    </tr>\n",
       "  </tbody>\n",
       "</table>\n",
       "</div>"
      ],
      "text/plain": [
       "       similar_users  all_users     score  movieId  \\\n",
       "292         1.000000   0.288727  3.463478      296   \n",
       "1062        0.274379   0.102211  2.684435     1089   \n",
       "7299        0.162138   0.067252  2.410910     7438   \n",
       "9778        0.117242   0.049876  2.350650    32587   \n",
       "6751        0.201033   0.086098  2.334923     6874   \n",
       "762         0.175677   0.075822  2.316962      778   \n",
       "2451        0.120243   0.052032  2.310923     2542   \n",
       "1191        0.152484   0.067830  2.248054     1222   \n",
       "1182        0.235135   0.104750  2.244732     1213   \n",
       "11932       0.124197   0.055491  2.238140    55820   \n",
       "\n",
       "                                          title  \\\n",
       "292                         Pulp Fiction (1994)   \n",
       "1062                      Reservoir Dogs (1992)   \n",
       "7299                   Kill Bill: Vol. 2 (2004)   \n",
       "9778                            Sin City (2005)   \n",
       "6751                   Kill Bill: Vol. 1 (2003)   \n",
       "762                        Trainspotting (1996)   \n",
       "2451   Lock, Stock & Two Smoking Barrels (1998)   \n",
       "1191                   Full Metal Jacket (1987)   \n",
       "1182                          Goodfellas (1990)   \n",
       "11932             No Country for Old Men (2007)   \n",
       "\n",
       "                                        genres  \\\n",
       "292                Comedy|Crime|Drama|Thriller   \n",
       "1062                    Crime|Mystery|Thriller   \n",
       "7299                     Action|Drama|Thriller   \n",
       "9778   Action|Crime|Film-Noir|Mystery|Thriller   \n",
       "6751                     Action|Crime|Thriller   \n",
       "762                         Comedy|Crime|Drama   \n",
       "2451                     Comedy|Crime|Thriller   \n",
       "1191                                 Drama|War   \n",
       "1182                               Crime|Drama   \n",
       "11932                              Crime|Drama   \n",
       "\n",
       "                              cleaned_title  \\\n",
       "292                       Pulp Fiction 1994   \n",
       "1062                    Reservoir Dogs 1992   \n",
       "7299                   Kill Bill Vol 2 2004   \n",
       "9778                          Sin City 2005   \n",
       "6751                   Kill Bill Vol 1 2003   \n",
       "762                      Trainspotting 1996   \n",
       "2451   Lock Stock  Two Smoking Barrels 1998   \n",
       "1191                 Full Metal Jacket 1987   \n",
       "1182                        Goodfellas 1990   \n",
       "11932           No Country for Old Men 2007   \n",
       "\n",
       "                                        split_genres  \n",
       "292                 [Comedy, Crime, Drama, Thriller]  \n",
       "1062                      [Crime, Mystery, Thriller]  \n",
       "7299                       [Action, Drama, Thriller]  \n",
       "9778   [Action, Crime, Film-Noir, Mystery, Thriller]  \n",
       "6751                       [Action, Crime, Thriller]  \n",
       "762                           [Comedy, Crime, Drama]  \n",
       "2451                       [Comedy, Crime, Thriller]  \n",
       "1191                                    [Drama, War]  \n",
       "1182                                  [Crime, Drama]  \n",
       "11932                                 [Crime, Drama]  "
      ]
     },
     "execution_count": 56,
     "metadata": {},
     "output_type": "execute_result"
    }
   ],
   "source": [
    "#Merging the above results with movies dataframe to get title along with the movie id\n",
    "\n",
    "merged_df_test=recommendation_percentage.merge(df_movies,left_index=True, right_on='movieId')\n",
    "merged_df_test[:10]\n"
   ]
  },
  {
   "cell_type": "markdown",
   "id": "92d8ad3b",
   "metadata": {},
   "source": [
    "Part 3 : Identifying the top 10 recommendations based on input genre"
   ]
  },
  {
   "cell_type": "code",
   "execution_count": 57,
   "id": "29637cc4",
   "metadata": {},
   "outputs": [],
   "source": [
    "genre = ['Comedy']"
   ]
  },
  {
   "cell_type": "code",
   "execution_count": 58,
   "id": "fdc16bbc",
   "metadata": {},
   "outputs": [
    {
     "data": {
      "text/html": [
       "<div>\n",
       "<style scoped>\n",
       "    .dataframe tbody tr th:only-of-type {\n",
       "        vertical-align: middle;\n",
       "    }\n",
       "\n",
       "    .dataframe tbody tr th {\n",
       "        vertical-align: top;\n",
       "    }\n",
       "\n",
       "    .dataframe thead th {\n",
       "        text-align: right;\n",
       "    }\n",
       "</style>\n",
       "<table border=\"1\" class=\"dataframe\">\n",
       "  <thead>\n",
       "    <tr style=\"text-align: right;\">\n",
       "      <th></th>\n",
       "      <th>movieId</th>\n",
       "      <th>cleaned_title</th>\n",
       "      <th>split_genres</th>\n",
       "      <th>rating</th>\n",
       "    </tr>\n",
       "  </thead>\n",
       "  <tbody>\n",
       "    <tr>\n",
       "      <th>2</th>\n",
       "      <td>3</td>\n",
       "      <td>Grumpier Old Men 1995</td>\n",
       "      <td>[Comedy, Romance]</td>\n",
       "      <td>5.0</td>\n",
       "    </tr>\n",
       "    <tr>\n",
       "      <th>17</th>\n",
       "      <td>18</td>\n",
       "      <td>Four Rooms 1995</td>\n",
       "      <td>[Comedy]</td>\n",
       "      <td>5.0</td>\n",
       "    </tr>\n",
       "    <tr>\n",
       "      <th>18</th>\n",
       "      <td>19</td>\n",
       "      <td>Ace Ventura When Nature Calls 1995</td>\n",
       "      <td>[Comedy]</td>\n",
       "      <td>5.0</td>\n",
       "    </tr>\n",
       "    <tr>\n",
       "      <th>19</th>\n",
       "      <td>20</td>\n",
       "      <td>Money Train 1995</td>\n",
       "      <td>[Action, Comedy, Crime, Drama, Thriller]</td>\n",
       "      <td>4.5</td>\n",
       "    </tr>\n",
       "    <tr>\n",
       "      <th>37</th>\n",
       "      <td>38</td>\n",
       "      <td>It Takes Two 1995</td>\n",
       "      <td>[Children, Comedy]</td>\n",
       "      <td>4.5</td>\n",
       "    </tr>\n",
       "    <tr>\n",
       "      <th>53</th>\n",
       "      <td>54</td>\n",
       "      <td>Big Green The 1995</td>\n",
       "      <td>[Children, Comedy]</td>\n",
       "      <td>4.5</td>\n",
       "    </tr>\n",
       "    <tr>\n",
       "      <th>55</th>\n",
       "      <td>56</td>\n",
       "      <td>Kids of the Round Table 1995</td>\n",
       "      <td>[Adventure, Children, Comedy, Fantasy]</td>\n",
       "      <td>5.0</td>\n",
       "    </tr>\n",
       "    <tr>\n",
       "      <th>68</th>\n",
       "      <td>69</td>\n",
       "      <td>Friday 1995</td>\n",
       "      <td>[Comedy]</td>\n",
       "      <td>5.0</td>\n",
       "    </tr>\n",
       "    <tr>\n",
       "      <th>71</th>\n",
       "      <td>72</td>\n",
       "      <td>Kicking and Screaming 1995</td>\n",
       "      <td>[Comedy, Drama]</td>\n",
       "      <td>5.0</td>\n",
       "    </tr>\n",
       "    <tr>\n",
       "      <th>81</th>\n",
       "      <td>82</td>\n",
       "      <td>Antonias Line Antonia 1995</td>\n",
       "      <td>[Comedy, Drama]</td>\n",
       "      <td>4.5</td>\n",
       "    </tr>\n",
       "  </tbody>\n",
       "</table>\n",
       "</div>"
      ],
      "text/plain": [
       "    movieId                       cleaned_title  \\\n",
       "2         3               Grumpier Old Men 1995   \n",
       "17       18                     Four Rooms 1995   \n",
       "18       19  Ace Ventura When Nature Calls 1995   \n",
       "19       20                    Money Train 1995   \n",
       "37       38                   It Takes Two 1995   \n",
       "53       54                  Big Green The 1995   \n",
       "55       56        Kids of the Round Table 1995   \n",
       "68       69                         Friday 1995   \n",
       "71       72          Kicking and Screaming 1995   \n",
       "81       82          Antonias Line Antonia 1995   \n",
       "\n",
       "                                split_genres  rating  \n",
       "2                          [Comedy, Romance]     5.0  \n",
       "17                                  [Comedy]     5.0  \n",
       "18                                  [Comedy]     5.0  \n",
       "19  [Action, Comedy, Crime, Drama, Thriller]     4.5  \n",
       "37                        [Children, Comedy]     4.5  \n",
       "53                        [Children, Comedy]     4.5  \n",
       "55    [Adventure, Children, Comedy, Fantasy]     5.0  \n",
       "68                                  [Comedy]     5.0  \n",
       "71                           [Comedy, Drama]     5.0  \n",
       "81                           [Comedy, Drama]     4.5  "
      ]
     },
     "execution_count": 58,
     "metadata": {},
     "output_type": "execute_result"
    }
   ],
   "source": [
    "merged_df_genre=df_ratings.merge(df_movies,left_index=True, right_on='movieId')\n",
    "filtered_columns = ['movieId','cleaned_title','split_genres','rating'][:20]\n",
    "merged_df_genre=merged_df_genre[filtered_columns]\n",
    "merged_df_genre=merged_df_genre[(merged_df_genre['rating']>4) & merged_df_genre['split_genres'].apply(lambda lst: any(item in lst for item in genre))]\n",
    "merged_df_genre[:10]"
   ]
  },
  {
   "cell_type": "markdown",
   "id": "ae0fbe2b",
   "metadata": {},
   "source": [
    "Putting all the above code into a function, \n",
    "this way we could ask user to either input a movie name or genre and display recommendations based off it"
   ]
  },
  {
   "cell_type": "code",
   "execution_count": 61,
   "id": "5a9696c0",
   "metadata": {},
   "outputs": [],
   "source": [
    "def find_similar_movies(movieid):\n",
    "    similar_users = df_ratings[(df_ratings['movieId']==movieid) & (df_ratings['rating']>4)]['userId'].unique()\n",
    "    similar_recs= df_ratings[(df_ratings['userId'].isin (similar_users)) & (df_ratings['rating']>4)][\"movieId\"]\n",
    "    \n",
    "    similar_recs= similar_recs.value_counts()/len(similar_users)\n",
    "    similar_recs= similar_recs[similar_recs>.10]\n",
    "    \n",
    "    total_users = df_ratings[(df_ratings['movieId'].isin (similar_recs.index)) & (df_ratings['rating']>4)]\n",
    "    total_user_recs= total_users['movieId'].value_counts()/len(total_users['userId'].unique())\n",
    "\n",
    "    recommendation_percentage = pd.concat([similar_recs,total_user_recs],axis=1)\n",
    "    recommendation_percentage.columns = ['similar_users','all_users']\n",
    "    \n",
    "    recommendation_percentage['score']= recommendation_percentage['similar_users']/recommendation_percentage['all_users']\n",
    "    recommendation_percentage= recommendation_percentage.sort_values('score',ascending=False)\n",
    "    \n",
    "    merged_df=recommendation_percentage.merge(df_movies,left_index=True, right_on='movieId')\n",
    "    return merged_df[:10]"
   ]
  },
  {
   "cell_type": "code",
   "execution_count": 62,
   "id": "9384d179",
   "metadata": {},
   "outputs": [],
   "source": [
    "def recommend_movies_based_on_genre(genre_list):\n",
    "     merged_df_genre=df_ratings.merge(df_movies,left_index=True, right_on='movieId')\n",
    "     filtered_columns = ['movieId','cleaned_title','split_genres','rating'][:20]\n",
    "     merged_df_genre=merged_df_genre[filtered_columns]\n",
    "     merged_df_genre =merged_df_genre[(merged_df_genre['rating']>4) & merged_df_genre['split_genres'].apply(lambda lst: any(item in lst for item in genre_list))]\n",
    "     return  merged_df_genre[:10]\n"
   ]
  },
  {
   "cell_type": "code",
   "execution_count": 63,
   "id": "718c1fe9",
   "metadata": {},
   "outputs": [],
   "source": [
    "#recommend_movies_based_on_genre(['Adventure'])"
   ]
  },
  {
   "cell_type": "code",
   "execution_count": 64,
   "id": "cd3514b8",
   "metadata": {},
   "outputs": [
    {
     "data": {
      "application/vnd.jupyter.widget-view+json": {
       "model_id": "5724df42d7a74d32ae037c2bb6a7e56b",
       "version_major": 2,
       "version_minor": 0
      },
      "text/plain": [
       "Text(value='Bad Poem', description='Movie title')"
      ]
     },
     "metadata": {},
     "output_type": "display_data"
    },
    {
     "data": {
      "application/vnd.jupyter.widget-view+json": {
       "model_id": "f353ecc60f3f488a9d6125adc96922a7",
       "version_major": 2,
       "version_minor": 0
      },
      "text/plain": [
       "Text(value='Comedy', description='Enter Genre')"
      ]
     },
     "metadata": {},
     "output_type": "display_data"
    },
    {
     "data": {
      "application/vnd.jupyter.widget-view+json": {
       "model_id": "f3eac88df0044e2c818b07c025e56f76",
       "version_major": 2,
       "version_minor": 0
      },
      "text/plain": [
       "Dropdown(description='Input Type:', options=('Movie', 'Genre'), value='Movie')"
      ]
     },
     "metadata": {},
     "output_type": "display_data"
    },
    {
     "data": {
      "application/vnd.jupyter.widget-view+json": {
       "model_id": "3ee656040ede4a388763ce6d0ea9a875",
       "version_major": 2,
       "version_minor": 0
      },
      "text/plain": [
       "Output()"
      ]
     },
     "metadata": {},
     "output_type": "display_data"
    }
   ],
   "source": [
    "#Desinging an interactive widget\n",
    "\n",
    "movie_input_name = widgets.Text(value= 'Bad Poem',\n",
    "                          description = 'Movie title',\n",
    "                          disabled = False)\n",
    "genre_input = widgets.Text(value= 'Comedy',\n",
    "                           description = 'Enter Genre',\n",
    "                           disabled = False)\n",
    "\n",
    "recs_list = widgets.Output()\n",
    "\n",
    "input_type_dropdown = widgets.Dropdown(options=['Movie', 'Genre'], description='Input Type:', value='Movie')\n",
    "\n",
    "def on_type(change):\n",
    "    with recs_list:\n",
    "        recs_list.clear_output()\n",
    "        \n",
    "        input_type = input_type_dropdown.value\n",
    "        \n",
    "        if input_type == 'Movie':\n",
    "            title = change.new\n",
    "            if len(title) >= 5:\n",
    "                results = search(title)\n",
    "                movieid = results.iloc[0]['movieId']\n",
    "                display(find_similar_movies(movieid))\n",
    "\n",
    "        elif input_type == 'Genre':\n",
    "            genre_list = genre_input.value.split(',')\n",
    "            if genre_list:\n",
    "                display(recommend_movies_based_on_genre(genre_list))\n",
    "                movie_input_name.value = ''  \n",
    "\n",
    "movie_input_name.observe(on_type, names='value')\n",
    "\n",
    "display(movie_input_name, genre_input, input_type_dropdown, recs_list)\n"
   ]
  },
  {
   "cell_type": "markdown",
   "id": "55972e5d",
   "metadata": {},
   "source": [
    "Now when I typed in the move name 'No fear no die', I got the top 10 recommendation based on similar user ratings.\n",
    "\n",
    "Similarly when I remmove the title and type in preferred genre, recommendations would change accordingly."
   ]
  },
  {
   "cell_type": "code",
   "execution_count": 74,
   "id": "f2b57650",
   "metadata": {},
   "outputs": [],
   "source": [
    "#Debugging code\n",
    "\n",
    "#find_similar_movies(296)\n",
    "#search('Bad Poem')\n",
    "#results = search('Bad Poem')\n",
    "#movieid = results.iloc[0]['movieId']\n",
    "#movieid\n",
    "#find_similar_movies(movieid)"
   ]
  },
  {
   "cell_type": "code",
   "execution_count": null,
   "id": "652201fa",
   "metadata": {},
   "outputs": [],
   "source": []
  }
 ],
 "metadata": {
  "kernelspec": {
   "display_name": "Python 3 (ipykernel)",
   "language": "python",
   "name": "python3"
  },
  "language_info": {
   "codemirror_mode": {
    "name": "ipython",
    "version": 3
   },
   "file_extension": ".py",
   "mimetype": "text/x-python",
   "name": "python",
   "nbconvert_exporter": "python",
   "pygments_lexer": "ipython3",
   "version": "3.9.7"
  }
 },
 "nbformat": 4,
 "nbformat_minor": 5
}
