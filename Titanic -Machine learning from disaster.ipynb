{
  "nbformat": 4,
  "nbformat_minor": 0,
  "metadata": {
    "kernelspec": {
      "display_name": "Python 3",
      "language": "python",
      "name": "python3"
    },
    "language_info": {
      "codemirror_mode": {
        "name": "ipython",
        "version": 3
      },
      "file_extension": ".py",
      "mimetype": "text/x-python",
      "name": "python",
      "nbconvert_exporter": "python",
      "pygments_lexer": "ipython3",
      "version": "3.6.3"
    },
    "colab": {
      "provenance": []
    }
  },
  "cells": [
    {
      "cell_type": "markdown",
      "metadata": {
        "id": "_tTHlJ6iM8cJ"
      },
      "source": [
        "# Titanic: Machine Learning from Disaster\n",
        "\n",
        "The sinking of the RMS Titanic is one of the most infamous shipwrecks in history.  On April 15, 1912, during her maiden voyage, the Titanic sank after colliding with an iceberg, killing 1502 out of 2224 passengers and crew. This sensational tragedy shocked the international community and led to better safety regulations for ships.\n",
        "\n",
        "One of the reasons that the shipwreck led to such loss of life was that there were not enough lifeboats for the passengers and crew. Although there was some element of luck involved in surviving the sinking, some groups of people were more likely to survive than others, such as women, children, and the upper-class.\n",
        "\n"
      ]
    },
    {
      "cell_type": "markdown",
      "metadata": {
        "id": "xm7UyiblM8cM"
      },
      "source": [
        "## Goal\n",
        "\n",
        "In this assignment, you will be asked to find insights from the data by using **pandas** to analyze and manipulate the data and **matplotlib** and **seaborn** for data visualization. You will get a bonus point if you can apply a logistic regression model to predict which passengers are more likely to survive in a separate test set. "
      ]
    },
    {
      "cell_type": "code",
      "metadata": {
        "id": "JSB1D5caM8cN"
      },
      "source": [
        "# importing libraries\n",
        "import os\n",
        "import io\n",
        "import warnings\n",
        "\n",
        "import numpy as np\n",
        "import scipy as sp\n",
        "import pandas as pd\n",
        "import sklearn as sk\n",
        "\n",
        "import matplotlib as mpl\n",
        "import matplotlib.pyplot as plt\n",
        "%matplotlib inline\n",
        "import seaborn as sns\n",
        "sns.set()\n",
        "\n",
        "warnings.simplefilter(action='ignore', category=FutureWarning)"
      ],
      "execution_count": 2,
      "outputs": []
    },
    {
      "cell_type": "code",
      "metadata": {
        "id": "iVLifp0IM8cQ",
        "colab": {
          "base_uri": "https://localhost:8080/",
          "height": 206
        },
        "outputId": "265bf85b-c745-4de4-d9ce-a9a3542e6ca2"
      },
      "source": [
        "# load data\n",
        "titanic = pd.read_csv('https://raw.githubusercontent.com/zariable/data/master/titanic_train.csv')\n",
        "display(titanic.head())"
      ],
      "execution_count": 3,
      "outputs": [
        {
          "output_type": "display_data",
          "data": {
            "text/plain": [
              "   PassengerId  Survived  Pclass  \\\n",
              "0            1         0       3   \n",
              "1            2         1       1   \n",
              "2            3         1       3   \n",
              "3            4         1       1   \n",
              "4            5         0       3   \n",
              "\n",
              "                                                Name     Sex   Age  SibSp  \\\n",
              "0                            Braund, Mr. Owen Harris    male  22.0      1   \n",
              "1  Cumings, Mrs. John Bradley (Florence Briggs Th...  female  38.0      1   \n",
              "2                             Heikkinen, Miss. Laina  female  26.0      0   \n",
              "3       Futrelle, Mrs. Jacques Heath (Lily May Peel)  female  35.0      1   \n",
              "4                           Allen, Mr. William Henry    male  35.0      0   \n",
              "\n",
              "   Parch            Ticket     Fare Cabin Embarked  \n",
              "0      0         A/5 21171   7.2500   NaN        S  \n",
              "1      0          PC 17599  71.2833   C85        C  \n",
              "2      0  STON/O2. 3101282   7.9250   NaN        S  \n",
              "3      0            113803  53.1000  C123        S  \n",
              "4      0            373450   8.0500   NaN        S  "
            ],
            "text/html": [
              "\n",
              "  <div id=\"df-0e07ba61-0e5d-4180-8e61-ee9131b789bf\">\n",
              "    <div class=\"colab-df-container\">\n",
              "      <div>\n",
              "<style scoped>\n",
              "    .dataframe tbody tr th:only-of-type {\n",
              "        vertical-align: middle;\n",
              "    }\n",
              "\n",
              "    .dataframe tbody tr th {\n",
              "        vertical-align: top;\n",
              "    }\n",
              "\n",
              "    .dataframe thead th {\n",
              "        text-align: right;\n",
              "    }\n",
              "</style>\n",
              "<table border=\"1\" class=\"dataframe\">\n",
              "  <thead>\n",
              "    <tr style=\"text-align: right;\">\n",
              "      <th></th>\n",
              "      <th>PassengerId</th>\n",
              "      <th>Survived</th>\n",
              "      <th>Pclass</th>\n",
              "      <th>Name</th>\n",
              "      <th>Sex</th>\n",
              "      <th>Age</th>\n",
              "      <th>SibSp</th>\n",
              "      <th>Parch</th>\n",
              "      <th>Ticket</th>\n",
              "      <th>Fare</th>\n",
              "      <th>Cabin</th>\n",
              "      <th>Embarked</th>\n",
              "    </tr>\n",
              "  </thead>\n",
              "  <tbody>\n",
              "    <tr>\n",
              "      <th>0</th>\n",
              "      <td>1</td>\n",
              "      <td>0</td>\n",
              "      <td>3</td>\n",
              "      <td>Braund, Mr. Owen Harris</td>\n",
              "      <td>male</td>\n",
              "      <td>22.0</td>\n",
              "      <td>1</td>\n",
              "      <td>0</td>\n",
              "      <td>A/5 21171</td>\n",
              "      <td>7.2500</td>\n",
              "      <td>NaN</td>\n",
              "      <td>S</td>\n",
              "    </tr>\n",
              "    <tr>\n",
              "      <th>1</th>\n",
              "      <td>2</td>\n",
              "      <td>1</td>\n",
              "      <td>1</td>\n",
              "      <td>Cumings, Mrs. John Bradley (Florence Briggs Th...</td>\n",
              "      <td>female</td>\n",
              "      <td>38.0</td>\n",
              "      <td>1</td>\n",
              "      <td>0</td>\n",
              "      <td>PC 17599</td>\n",
              "      <td>71.2833</td>\n",
              "      <td>C85</td>\n",
              "      <td>C</td>\n",
              "    </tr>\n",
              "    <tr>\n",
              "      <th>2</th>\n",
              "      <td>3</td>\n",
              "      <td>1</td>\n",
              "      <td>3</td>\n",
              "      <td>Heikkinen, Miss. Laina</td>\n",
              "      <td>female</td>\n",
              "      <td>26.0</td>\n",
              "      <td>0</td>\n",
              "      <td>0</td>\n",
              "      <td>STON/O2. 3101282</td>\n",
              "      <td>7.9250</td>\n",
              "      <td>NaN</td>\n",
              "      <td>S</td>\n",
              "    </tr>\n",
              "    <tr>\n",
              "      <th>3</th>\n",
              "      <td>4</td>\n",
              "      <td>1</td>\n",
              "      <td>1</td>\n",
              "      <td>Futrelle, Mrs. Jacques Heath (Lily May Peel)</td>\n",
              "      <td>female</td>\n",
              "      <td>35.0</td>\n",
              "      <td>1</td>\n",
              "      <td>0</td>\n",
              "      <td>113803</td>\n",
              "      <td>53.1000</td>\n",
              "      <td>C123</td>\n",
              "      <td>S</td>\n",
              "    </tr>\n",
              "    <tr>\n",
              "      <th>4</th>\n",
              "      <td>5</td>\n",
              "      <td>0</td>\n",
              "      <td>3</td>\n",
              "      <td>Allen, Mr. William Henry</td>\n",
              "      <td>male</td>\n",
              "      <td>35.0</td>\n",
              "      <td>0</td>\n",
              "      <td>0</td>\n",
              "      <td>373450</td>\n",
              "      <td>8.0500</td>\n",
              "      <td>NaN</td>\n",
              "      <td>S</td>\n",
              "    </tr>\n",
              "  </tbody>\n",
              "</table>\n",
              "</div>\n",
              "      <button class=\"colab-df-convert\" onclick=\"convertToInteractive('df-0e07ba61-0e5d-4180-8e61-ee9131b789bf')\"\n",
              "              title=\"Convert this dataframe to an interactive table.\"\n",
              "              style=\"display:none;\">\n",
              "        \n",
              "  <svg xmlns=\"http://www.w3.org/2000/svg\" height=\"24px\"viewBox=\"0 0 24 24\"\n",
              "       width=\"24px\">\n",
              "    <path d=\"M0 0h24v24H0V0z\" fill=\"none\"/>\n",
              "    <path d=\"M18.56 5.44l.94 2.06.94-2.06 2.06-.94-2.06-.94-.94-2.06-.94 2.06-2.06.94zm-11 1L8.5 8.5l.94-2.06 2.06-.94-2.06-.94L8.5 2.5l-.94 2.06-2.06.94zm10 10l.94 2.06.94-2.06 2.06-.94-2.06-.94-.94-2.06-.94 2.06-2.06.94z\"/><path d=\"M17.41 7.96l-1.37-1.37c-.4-.4-.92-.59-1.43-.59-.52 0-1.04.2-1.43.59L10.3 9.45l-7.72 7.72c-.78.78-.78 2.05 0 2.83L4 21.41c.39.39.9.59 1.41.59.51 0 1.02-.2 1.41-.59l7.78-7.78 2.81-2.81c.8-.78.8-2.07 0-2.86zM5.41 20L4 18.59l7.72-7.72 1.47 1.35L5.41 20z\"/>\n",
              "  </svg>\n",
              "      </button>\n",
              "      \n",
              "  <style>\n",
              "    .colab-df-container {\n",
              "      display:flex;\n",
              "      flex-wrap:wrap;\n",
              "      gap: 12px;\n",
              "    }\n",
              "\n",
              "    .colab-df-convert {\n",
              "      background-color: #E8F0FE;\n",
              "      border: none;\n",
              "      border-radius: 50%;\n",
              "      cursor: pointer;\n",
              "      display: none;\n",
              "      fill: #1967D2;\n",
              "      height: 32px;\n",
              "      padding: 0 0 0 0;\n",
              "      width: 32px;\n",
              "    }\n",
              "\n",
              "    .colab-df-convert:hover {\n",
              "      background-color: #E2EBFA;\n",
              "      box-shadow: 0px 1px 2px rgba(60, 64, 67, 0.3), 0px 1px 3px 1px rgba(60, 64, 67, 0.15);\n",
              "      fill: #174EA6;\n",
              "    }\n",
              "\n",
              "    [theme=dark] .colab-df-convert {\n",
              "      background-color: #3B4455;\n",
              "      fill: #D2E3FC;\n",
              "    }\n",
              "\n",
              "    [theme=dark] .colab-df-convert:hover {\n",
              "      background-color: #434B5C;\n",
              "      box-shadow: 0px 1px 3px 1px rgba(0, 0, 0, 0.15);\n",
              "      filter: drop-shadow(0px 1px 2px rgba(0, 0, 0, 0.3));\n",
              "      fill: #FFFFFF;\n",
              "    }\n",
              "  </style>\n",
              "\n",
              "      <script>\n",
              "        const buttonEl =\n",
              "          document.querySelector('#df-0e07ba61-0e5d-4180-8e61-ee9131b789bf button.colab-df-convert');\n",
              "        buttonEl.style.display =\n",
              "          google.colab.kernel.accessAllowed ? 'block' : 'none';\n",
              "\n",
              "        async function convertToInteractive(key) {\n",
              "          const element = document.querySelector('#df-0e07ba61-0e5d-4180-8e61-ee9131b789bf');\n",
              "          const dataTable =\n",
              "            await google.colab.kernel.invokeFunction('convertToInteractive',\n",
              "                                                     [key], {});\n",
              "          if (!dataTable) return;\n",
              "\n",
              "          const docLinkHtml = 'Like what you see? Visit the ' +\n",
              "            '<a target=\"_blank\" href=https://colab.research.google.com/notebooks/data_table.ipynb>data table notebook</a>'\n",
              "            + ' to learn more about interactive tables.';\n",
              "          element.innerHTML = '';\n",
              "          dataTable['output_type'] = 'display_data';\n",
              "          await google.colab.output.renderOutput(dataTable, element);\n",
              "          const docLink = document.createElement('div');\n",
              "          docLink.innerHTML = docLinkHtml;\n",
              "          element.appendChild(docLink);\n",
              "        }\n",
              "      </script>\n",
              "    </div>\n",
              "  </div>\n",
              "  "
            ]
          },
          "metadata": {}
        }
      ]
    },
    {
      "cell_type": "markdown",
      "metadata": {
        "id": "vXplTCIeM8cT"
      },
      "source": [
        "## Description of the data set\n",
        "Here's a brief description of each column in the data.\n",
        "\n",
        "- PassengerID: A column added by Kaggle to identify each row and make submissions easier\n",
        "- Survived: Whether the passenger survived or not and the value we are predicting (0=No, 1=Yes)\n",
        "- Pclass: The class of the ticket the passenger purchased (1=1st, 2=2nd, 3=3rd)\n",
        "- Sex: The passenger's sex\n",
        "- Age: The passenger's age in years\n",
        "- SibSp: The number of siblings or spouses the passenger had aboard the Titanic\n",
        "- Parch: The number of parents or children the passenger had aboard the Titanic\n",
        "- Ticket: The passenger's ticket number\n",
        "- Fare: The fare the passenger paid\n",
        "- Cabin: The passenger's cabin number\n",
        "- Embarked: The port where the passenger embarked (C=Cherbourg, Q=Queenstown, S=Southampton)"
      ]
    },
    {
      "cell_type": "code",
      "metadata": {
        "id": "hdmTDZGYM8cT",
        "colab": {
          "base_uri": "https://localhost:8080/",
          "height": 394
        },
        "outputId": "b81f031f-fad5-4309-adcc-60d86673fcdc"
      },
      "source": [
        "titanic.describe(include='all')"
      ],
      "execution_count": 4,
      "outputs": [
        {
          "output_type": "execute_result",
          "data": {
            "text/plain": [
              "        PassengerId    Survived      Pclass                     Name   Sex  \\\n",
              "count    891.000000  891.000000  891.000000                      891   891   \n",
              "unique          NaN         NaN         NaN                      891     2   \n",
              "top             NaN         NaN         NaN  Braund, Mr. Owen Harris  male   \n",
              "freq            NaN         NaN         NaN                        1   577   \n",
              "mean     446.000000    0.383838    2.308642                      NaN   NaN   \n",
              "std      257.353842    0.486592    0.836071                      NaN   NaN   \n",
              "min        1.000000    0.000000    1.000000                      NaN   NaN   \n",
              "25%      223.500000    0.000000    2.000000                      NaN   NaN   \n",
              "50%      446.000000    0.000000    3.000000                      NaN   NaN   \n",
              "75%      668.500000    1.000000    3.000000                      NaN   NaN   \n",
              "max      891.000000    1.000000    3.000000                      NaN   NaN   \n",
              "\n",
              "               Age       SibSp       Parch  Ticket        Fare    Cabin  \\\n",
              "count   714.000000  891.000000  891.000000     891  891.000000      204   \n",
              "unique         NaN         NaN         NaN     681         NaN      147   \n",
              "top            NaN         NaN         NaN  347082         NaN  B96 B98   \n",
              "freq           NaN         NaN         NaN       7         NaN        4   \n",
              "mean     29.699118    0.523008    0.381594     NaN   32.204208      NaN   \n",
              "std      14.526497    1.102743    0.806057     NaN   49.693429      NaN   \n",
              "min       0.420000    0.000000    0.000000     NaN    0.000000      NaN   \n",
              "25%      20.125000    0.000000    0.000000     NaN    7.910400      NaN   \n",
              "50%      28.000000    0.000000    0.000000     NaN   14.454200      NaN   \n",
              "75%      38.000000    1.000000    0.000000     NaN   31.000000      NaN   \n",
              "max      80.000000    8.000000    6.000000     NaN  512.329200      NaN   \n",
              "\n",
              "       Embarked  \n",
              "count       889  \n",
              "unique        3  \n",
              "top           S  \n",
              "freq        644  \n",
              "mean        NaN  \n",
              "std         NaN  \n",
              "min         NaN  \n",
              "25%         NaN  \n",
              "50%         NaN  \n",
              "75%         NaN  \n",
              "max         NaN  "
            ],
            "text/html": [
              "\n",
              "  <div id=\"df-e1e85ca8-263d-4664-90da-90734da83ca1\">\n",
              "    <div class=\"colab-df-container\">\n",
              "      <div>\n",
              "<style scoped>\n",
              "    .dataframe tbody tr th:only-of-type {\n",
              "        vertical-align: middle;\n",
              "    }\n",
              "\n",
              "    .dataframe tbody tr th {\n",
              "        vertical-align: top;\n",
              "    }\n",
              "\n",
              "    .dataframe thead th {\n",
              "        text-align: right;\n",
              "    }\n",
              "</style>\n",
              "<table border=\"1\" class=\"dataframe\">\n",
              "  <thead>\n",
              "    <tr style=\"text-align: right;\">\n",
              "      <th></th>\n",
              "      <th>PassengerId</th>\n",
              "      <th>Survived</th>\n",
              "      <th>Pclass</th>\n",
              "      <th>Name</th>\n",
              "      <th>Sex</th>\n",
              "      <th>Age</th>\n",
              "      <th>SibSp</th>\n",
              "      <th>Parch</th>\n",
              "      <th>Ticket</th>\n",
              "      <th>Fare</th>\n",
              "      <th>Cabin</th>\n",
              "      <th>Embarked</th>\n",
              "    </tr>\n",
              "  </thead>\n",
              "  <tbody>\n",
              "    <tr>\n",
              "      <th>count</th>\n",
              "      <td>891.000000</td>\n",
              "      <td>891.000000</td>\n",
              "      <td>891.000000</td>\n",
              "      <td>891</td>\n",
              "      <td>891</td>\n",
              "      <td>714.000000</td>\n",
              "      <td>891.000000</td>\n",
              "      <td>891.000000</td>\n",
              "      <td>891</td>\n",
              "      <td>891.000000</td>\n",
              "      <td>204</td>\n",
              "      <td>889</td>\n",
              "    </tr>\n",
              "    <tr>\n",
              "      <th>unique</th>\n",
              "      <td>NaN</td>\n",
              "      <td>NaN</td>\n",
              "      <td>NaN</td>\n",
              "      <td>891</td>\n",
              "      <td>2</td>\n",
              "      <td>NaN</td>\n",
              "      <td>NaN</td>\n",
              "      <td>NaN</td>\n",
              "      <td>681</td>\n",
              "      <td>NaN</td>\n",
              "      <td>147</td>\n",
              "      <td>3</td>\n",
              "    </tr>\n",
              "    <tr>\n",
              "      <th>top</th>\n",
              "      <td>NaN</td>\n",
              "      <td>NaN</td>\n",
              "      <td>NaN</td>\n",
              "      <td>Braund, Mr. Owen Harris</td>\n",
              "      <td>male</td>\n",
              "      <td>NaN</td>\n",
              "      <td>NaN</td>\n",
              "      <td>NaN</td>\n",
              "      <td>347082</td>\n",
              "      <td>NaN</td>\n",
              "      <td>B96 B98</td>\n",
              "      <td>S</td>\n",
              "    </tr>\n",
              "    <tr>\n",
              "      <th>freq</th>\n",
              "      <td>NaN</td>\n",
              "      <td>NaN</td>\n",
              "      <td>NaN</td>\n",
              "      <td>1</td>\n",
              "      <td>577</td>\n",
              "      <td>NaN</td>\n",
              "      <td>NaN</td>\n",
              "      <td>NaN</td>\n",
              "      <td>7</td>\n",
              "      <td>NaN</td>\n",
              "      <td>4</td>\n",
              "      <td>644</td>\n",
              "    </tr>\n",
              "    <tr>\n",
              "      <th>mean</th>\n",
              "      <td>446.000000</td>\n",
              "      <td>0.383838</td>\n",
              "      <td>2.308642</td>\n",
              "      <td>NaN</td>\n",
              "      <td>NaN</td>\n",
              "      <td>29.699118</td>\n",
              "      <td>0.523008</td>\n",
              "      <td>0.381594</td>\n",
              "      <td>NaN</td>\n",
              "      <td>32.204208</td>\n",
              "      <td>NaN</td>\n",
              "      <td>NaN</td>\n",
              "    </tr>\n",
              "    <tr>\n",
              "      <th>std</th>\n",
              "      <td>257.353842</td>\n",
              "      <td>0.486592</td>\n",
              "      <td>0.836071</td>\n",
              "      <td>NaN</td>\n",
              "      <td>NaN</td>\n",
              "      <td>14.526497</td>\n",
              "      <td>1.102743</td>\n",
              "      <td>0.806057</td>\n",
              "      <td>NaN</td>\n",
              "      <td>49.693429</td>\n",
              "      <td>NaN</td>\n",
              "      <td>NaN</td>\n",
              "    </tr>\n",
              "    <tr>\n",
              "      <th>min</th>\n",
              "      <td>1.000000</td>\n",
              "      <td>0.000000</td>\n",
              "      <td>1.000000</td>\n",
              "      <td>NaN</td>\n",
              "      <td>NaN</td>\n",
              "      <td>0.420000</td>\n",
              "      <td>0.000000</td>\n",
              "      <td>0.000000</td>\n",
              "      <td>NaN</td>\n",
              "      <td>0.000000</td>\n",
              "      <td>NaN</td>\n",
              "      <td>NaN</td>\n",
              "    </tr>\n",
              "    <tr>\n",
              "      <th>25%</th>\n",
              "      <td>223.500000</td>\n",
              "      <td>0.000000</td>\n",
              "      <td>2.000000</td>\n",
              "      <td>NaN</td>\n",
              "      <td>NaN</td>\n",
              "      <td>20.125000</td>\n",
              "      <td>0.000000</td>\n",
              "      <td>0.000000</td>\n",
              "      <td>NaN</td>\n",
              "      <td>7.910400</td>\n",
              "      <td>NaN</td>\n",
              "      <td>NaN</td>\n",
              "    </tr>\n",
              "    <tr>\n",
              "      <th>50%</th>\n",
              "      <td>446.000000</td>\n",
              "      <td>0.000000</td>\n",
              "      <td>3.000000</td>\n",
              "      <td>NaN</td>\n",
              "      <td>NaN</td>\n",
              "      <td>28.000000</td>\n",
              "      <td>0.000000</td>\n",
              "      <td>0.000000</td>\n",
              "      <td>NaN</td>\n",
              "      <td>14.454200</td>\n",
              "      <td>NaN</td>\n",
              "      <td>NaN</td>\n",
              "    </tr>\n",
              "    <tr>\n",
              "      <th>75%</th>\n",
              "      <td>668.500000</td>\n",
              "      <td>1.000000</td>\n",
              "      <td>3.000000</td>\n",
              "      <td>NaN</td>\n",
              "      <td>NaN</td>\n",
              "      <td>38.000000</td>\n",
              "      <td>1.000000</td>\n",
              "      <td>0.000000</td>\n",
              "      <td>NaN</td>\n",
              "      <td>31.000000</td>\n",
              "      <td>NaN</td>\n",
              "      <td>NaN</td>\n",
              "    </tr>\n",
              "    <tr>\n",
              "      <th>max</th>\n",
              "      <td>891.000000</td>\n",
              "      <td>1.000000</td>\n",
              "      <td>3.000000</td>\n",
              "      <td>NaN</td>\n",
              "      <td>NaN</td>\n",
              "      <td>80.000000</td>\n",
              "      <td>8.000000</td>\n",
              "      <td>6.000000</td>\n",
              "      <td>NaN</td>\n",
              "      <td>512.329200</td>\n",
              "      <td>NaN</td>\n",
              "      <td>NaN</td>\n",
              "    </tr>\n",
              "  </tbody>\n",
              "</table>\n",
              "</div>\n",
              "      <button class=\"colab-df-convert\" onclick=\"convertToInteractive('df-e1e85ca8-263d-4664-90da-90734da83ca1')\"\n",
              "              title=\"Convert this dataframe to an interactive table.\"\n",
              "              style=\"display:none;\">\n",
              "        \n",
              "  <svg xmlns=\"http://www.w3.org/2000/svg\" height=\"24px\"viewBox=\"0 0 24 24\"\n",
              "       width=\"24px\">\n",
              "    <path d=\"M0 0h24v24H0V0z\" fill=\"none\"/>\n",
              "    <path d=\"M18.56 5.44l.94 2.06.94-2.06 2.06-.94-2.06-.94-.94-2.06-.94 2.06-2.06.94zm-11 1L8.5 8.5l.94-2.06 2.06-.94-2.06-.94L8.5 2.5l-.94 2.06-2.06.94zm10 10l.94 2.06.94-2.06 2.06-.94-2.06-.94-.94-2.06-.94 2.06-2.06.94z\"/><path d=\"M17.41 7.96l-1.37-1.37c-.4-.4-.92-.59-1.43-.59-.52 0-1.04.2-1.43.59L10.3 9.45l-7.72 7.72c-.78.78-.78 2.05 0 2.83L4 21.41c.39.39.9.59 1.41.59.51 0 1.02-.2 1.41-.59l7.78-7.78 2.81-2.81c.8-.78.8-2.07 0-2.86zM5.41 20L4 18.59l7.72-7.72 1.47 1.35L5.41 20z\"/>\n",
              "  </svg>\n",
              "      </button>\n",
              "      \n",
              "  <style>\n",
              "    .colab-df-container {\n",
              "      display:flex;\n",
              "      flex-wrap:wrap;\n",
              "      gap: 12px;\n",
              "    }\n",
              "\n",
              "    .colab-df-convert {\n",
              "      background-color: #E8F0FE;\n",
              "      border: none;\n",
              "      border-radius: 50%;\n",
              "      cursor: pointer;\n",
              "      display: none;\n",
              "      fill: #1967D2;\n",
              "      height: 32px;\n",
              "      padding: 0 0 0 0;\n",
              "      width: 32px;\n",
              "    }\n",
              "\n",
              "    .colab-df-convert:hover {\n",
              "      background-color: #E2EBFA;\n",
              "      box-shadow: 0px 1px 2px rgba(60, 64, 67, 0.3), 0px 1px 3px 1px rgba(60, 64, 67, 0.15);\n",
              "      fill: #174EA6;\n",
              "    }\n",
              "\n",
              "    [theme=dark] .colab-df-convert {\n",
              "      background-color: #3B4455;\n",
              "      fill: #D2E3FC;\n",
              "    }\n",
              "\n",
              "    [theme=dark] .colab-df-convert:hover {\n",
              "      background-color: #434B5C;\n",
              "      box-shadow: 0px 1px 3px 1px rgba(0, 0, 0, 0.15);\n",
              "      filter: drop-shadow(0px 1px 2px rgba(0, 0, 0, 0.3));\n",
              "      fill: #FFFFFF;\n",
              "    }\n",
              "  </style>\n",
              "\n",
              "      <script>\n",
              "        const buttonEl =\n",
              "          document.querySelector('#df-e1e85ca8-263d-4664-90da-90734da83ca1 button.colab-df-convert');\n",
              "        buttonEl.style.display =\n",
              "          google.colab.kernel.accessAllowed ? 'block' : 'none';\n",
              "\n",
              "        async function convertToInteractive(key) {\n",
              "          const element = document.querySelector('#df-e1e85ca8-263d-4664-90da-90734da83ca1');\n",
              "          const dataTable =\n",
              "            await google.colab.kernel.invokeFunction('convertToInteractive',\n",
              "                                                     [key], {});\n",
              "          if (!dataTable) return;\n",
              "\n",
              "          const docLinkHtml = 'Like what you see? Visit the ' +\n",
              "            '<a target=\"_blank\" href=https://colab.research.google.com/notebooks/data_table.ipynb>data table notebook</a>'\n",
              "            + ' to learn more about interactive tables.';\n",
              "          element.innerHTML = '';\n",
              "          dataTable['output_type'] = 'display_data';\n",
              "          await google.colab.output.renderOutput(dataTable, element);\n",
              "          const docLink = document.createElement('div');\n",
              "          docLink.innerHTML = docLinkHtml;\n",
              "          element.appendChild(docLink);\n",
              "        }\n",
              "      </script>\n",
              "    </div>\n",
              "  </div>\n",
              "  "
            ]
          },
          "metadata": {},
          "execution_count": 4
        }
      ]
    },
    {
      "cell_type": "markdown",
      "metadata": {
        "id": "zqrQG_NpM8cW"
      },
      "source": [
        "### **Question 1: Find the number of missing values for each column.**\n",
        "The first step in data analysis is to identify columns with missing data. Can you find the columns in this data with missing value as well as the number of records with missing value for each column?  \n",
        "\n",
        "Hint: you will need [isna](https://pandas.pydata.org/pandas-docs/stable/generated/pandas.DataFrame.isna.html) function."
      ]
    },
    {
      "cell_type": "code",
      "metadata": {
        "id": "q-yVQIkVM8cW",
        "colab": {
          "base_uri": "https://localhost:8080/"
        },
        "outputId": "8caeb2a0-0c19-4297-da75-94dcbf78d219"
      },
      "source": [
        "# TODO\n",
        "titanic.isna().any()"
      ],
      "execution_count": 5,
      "outputs": [
        {
          "output_type": "execute_result",
          "data": {
            "text/plain": [
              "PassengerId    False\n",
              "Survived       False\n",
              "Pclass         False\n",
              "Name           False\n",
              "Sex            False\n",
              "Age             True\n",
              "SibSp          False\n",
              "Parch          False\n",
              "Ticket         False\n",
              "Fare           False\n",
              "Cabin           True\n",
              "Embarked        True\n",
              "dtype: bool"
            ]
          },
          "metadata": {},
          "execution_count": 5
        }
      ]
    },
    {
      "cell_type": "code",
      "source": [
        "titanic.isna().sum()"
      ],
      "metadata": {
        "colab": {
          "base_uri": "https://localhost:8080/"
        },
        "id": "GFx9BlWhEMwP",
        "outputId": "3285e45d-548f-41d8-fbc5-ba7d34873571"
      },
      "execution_count": 6,
      "outputs": [
        {
          "output_type": "execute_result",
          "data": {
            "text/plain": [
              "PassengerId      0\n",
              "Survived         0\n",
              "Pclass           0\n",
              "Name             0\n",
              "Sex              0\n",
              "Age            177\n",
              "SibSp            0\n",
              "Parch            0\n",
              "Ticket           0\n",
              "Fare             0\n",
              "Cabin          687\n",
              "Embarked         2\n",
              "dtype: int64"
            ]
          },
          "metadata": {},
          "execution_count": 6
        }
      ]
    },
    {
      "cell_type": "markdown",
      "metadata": {
        "id": "dyv7SbkjM8cY"
      },
      "source": [
        "### **Question 2: Impute missing values.**\n",
        "Now we've identified the following columns with missing values: _Age_, _Cabin_ and _Embarked_. As the next step, we want to impute those missing values. There are three ways to impute the missing values:\n",
        "- A constant value that has meaning within the domain.\n",
        "- The mean, median or mode value based on non-missing values of that column.\n",
        "- A random value drawn from other non-missing values of that column.\n",
        "\n",
        "Please write code to impute the missing values as follows:\n",
        "- the missing values of column _age_ with the mean of that column.\n",
        "- the missing values of column _Cabin_ with a constant value 'other'.\n",
        "- the missing values of column _Embarked_ with the [mode](https://pandas.pydata.org/pandas-docs/stable/generated/pandas.DataFrame.mode.html) of that column."
      ]
    },
    {
      "cell_type": "code",
      "metadata": {
        "id": "TfCy8py-M8cZ"
      },
      "source": [
        "# TODO\n",
        "titanic['Age'].fillna(value=titanic['Age'].mean(),inplace=True)\n",
        "titanic['Cabin'].fillna(value='other',inplace=True)\n",
        "titanic['Embarked'].fillna(value=titanic['Embarked'].mode,inplace=True)"
      ],
      "execution_count": 7,
      "outputs": []
    },
    {
      "cell_type": "code",
      "source": [
        "titanic['Embarked'].mode()"
      ],
      "metadata": {
        "colab": {
          "base_uri": "https://localhost:8080/"
        },
        "id": "NSXqNTNjIW1F",
        "outputId": "785b5849-4888-4562-dc20-9834573ac39f"
      },
      "execution_count": 8,
      "outputs": [
        {
          "output_type": "execute_result",
          "data": {
            "text/plain": [
              "0    S\n",
              "dtype: object"
            ]
          },
          "metadata": {},
          "execution_count": 8
        }
      ]
    },
    {
      "cell_type": "code",
      "source": [
        "titanic.isna().any()"
      ],
      "metadata": {
        "colab": {
          "base_uri": "https://localhost:8080/"
        },
        "id": "fCyeb7puKHdK",
        "outputId": "a42c3aaf-7837-4dc5-b591-7149762e3c7d"
      },
      "execution_count": 9,
      "outputs": [
        {
          "output_type": "execute_result",
          "data": {
            "text/plain": [
              "PassengerId    False\n",
              "Survived       False\n",
              "Pclass         False\n",
              "Name           False\n",
              "Sex            False\n",
              "Age            False\n",
              "SibSp          False\n",
              "Parch          False\n",
              "Ticket         False\n",
              "Fare           False\n",
              "Cabin          False\n",
              "Embarked       False\n",
              "dtype: bool"
            ]
          },
          "metadata": {},
          "execution_count": 9
        }
      ]
    },
    {
      "cell_type": "markdown",
      "metadata": {
        "id": "slueIatrM8cb"
      },
      "source": [
        "### **Question 3: What's the name of the person who has the 16th most expensive ticket?**"
      ]
    },
    {
      "cell_type": "code",
      "metadata": {
        "id": "U9TFxZAfM8cc",
        "colab": {
          "base_uri": "https://localhost:8080/",
          "height": 35
        },
        "outputId": "e08c13a3-0df8-461f-d543-cf8d7a104213"
      },
      "source": [
        "# TODO\n",
        "expensive_ticket=titanic.sort_values('Fare',ascending=False)\n",
        "expensive_ticket.iloc[15]['Name']"
      ],
      "execution_count": 10,
      "outputs": [
        {
          "output_type": "execute_result",
          "data": {
            "text/plain": [
              "'Farthing, Mr. John'"
            ],
            "application/vnd.google.colaboratory.intrinsic+json": {
              "type": "string"
            }
          },
          "metadata": {},
          "execution_count": 10
        }
      ]
    },
    {
      "cell_type": "markdown",
      "metadata": {
        "id": "upj1tS2AM8ce"
      },
      "source": [
        "### **Question 4: Out of all the remales who survived, what's the name who has the 6th most expensive ticket?**"
      ]
    },
    {
      "cell_type": "code",
      "metadata": {
        "id": "tXywVrsoM8ce",
        "colab": {
          "base_uri": "https://localhost:8080/",
          "height": 35
        },
        "outputId": "879f5769-3428-4a24-89c4-5281958b15ee"
      },
      "source": [
        "# TODO\n",
        "female_survived= titanic[(titanic['Sex']=='female') & titanic['Survived']==1]\n",
        "female_survived.sort_values('Fare',ascending=False).iloc[5]['Name']\n"
      ],
      "execution_count": 11,
      "outputs": [
        {
          "output_type": "execute_result",
          "data": {
            "text/plain": [
              "'Baxter, Mrs. James (Helene DeLaudeniere Chaput)'"
            ],
            "application/vnd.google.colaboratory.intrinsic+json": {
              "type": "string"
            }
          },
          "metadata": {},
          "execution_count": 11
        }
      ]
    },
    {
      "cell_type": "markdown",
      "metadata": {
        "id": "oXaAaaY3M8cg"
      },
      "source": [
        "### **Question 5: Examine the survival rate**\n",
        "Calculate the survival rate for different gender and Pclass combination and use a couple of sentences to describe your findings. Hint: pivot_table is your friend."
      ]
    },
    {
      "cell_type": "code",
      "metadata": {
        "id": "GsBOqDRvM8ch",
        "colab": {
          "base_uri": "https://localhost:8080/",
          "height": 269
        },
        "outputId": "86c4156a-dc66-4ee2-9695-c3971c3138da"
      },
      "source": [
        "# TODO\n",
        "pd.pivot_table(titanic,index=['Sex','Pclass'],values='Survived')"
      ],
      "execution_count": 12,
      "outputs": [
        {
          "output_type": "execute_result",
          "data": {
            "text/plain": [
              "               Survived\n",
              "Sex    Pclass          \n",
              "female 1       0.968085\n",
              "       2       0.921053\n",
              "       3       0.500000\n",
              "male   1       0.368852\n",
              "       2       0.157407\n",
              "       3       0.135447"
            ],
            "text/html": [
              "\n",
              "  <div id=\"df-11c0d432-9285-441f-b84a-3f449d1f01df\">\n",
              "    <div class=\"colab-df-container\">\n",
              "      <div>\n",
              "<style scoped>\n",
              "    .dataframe tbody tr th:only-of-type {\n",
              "        vertical-align: middle;\n",
              "    }\n",
              "\n",
              "    .dataframe tbody tr th {\n",
              "        vertical-align: top;\n",
              "    }\n",
              "\n",
              "    .dataframe thead th {\n",
              "        text-align: right;\n",
              "    }\n",
              "</style>\n",
              "<table border=\"1\" class=\"dataframe\">\n",
              "  <thead>\n",
              "    <tr style=\"text-align: right;\">\n",
              "      <th></th>\n",
              "      <th></th>\n",
              "      <th>Survived</th>\n",
              "    </tr>\n",
              "    <tr>\n",
              "      <th>Sex</th>\n",
              "      <th>Pclass</th>\n",
              "      <th></th>\n",
              "    </tr>\n",
              "  </thead>\n",
              "  <tbody>\n",
              "    <tr>\n",
              "      <th rowspan=\"3\" valign=\"top\">female</th>\n",
              "      <th>1</th>\n",
              "      <td>0.968085</td>\n",
              "    </tr>\n",
              "    <tr>\n",
              "      <th>2</th>\n",
              "      <td>0.921053</td>\n",
              "    </tr>\n",
              "    <tr>\n",
              "      <th>3</th>\n",
              "      <td>0.500000</td>\n",
              "    </tr>\n",
              "    <tr>\n",
              "      <th rowspan=\"3\" valign=\"top\">male</th>\n",
              "      <th>1</th>\n",
              "      <td>0.368852</td>\n",
              "    </tr>\n",
              "    <tr>\n",
              "      <th>2</th>\n",
              "      <td>0.157407</td>\n",
              "    </tr>\n",
              "    <tr>\n",
              "      <th>3</th>\n",
              "      <td>0.135447</td>\n",
              "    </tr>\n",
              "  </tbody>\n",
              "</table>\n",
              "</div>\n",
              "      <button class=\"colab-df-convert\" onclick=\"convertToInteractive('df-11c0d432-9285-441f-b84a-3f449d1f01df')\"\n",
              "              title=\"Convert this dataframe to an interactive table.\"\n",
              "              style=\"display:none;\">\n",
              "        \n",
              "  <svg xmlns=\"http://www.w3.org/2000/svg\" height=\"24px\"viewBox=\"0 0 24 24\"\n",
              "       width=\"24px\">\n",
              "    <path d=\"M0 0h24v24H0V0z\" fill=\"none\"/>\n",
              "    <path d=\"M18.56 5.44l.94 2.06.94-2.06 2.06-.94-2.06-.94-.94-2.06-.94 2.06-2.06.94zm-11 1L8.5 8.5l.94-2.06 2.06-.94-2.06-.94L8.5 2.5l-.94 2.06-2.06.94zm10 10l.94 2.06.94-2.06 2.06-.94-2.06-.94-.94-2.06-.94 2.06-2.06.94z\"/><path d=\"M17.41 7.96l-1.37-1.37c-.4-.4-.92-.59-1.43-.59-.52 0-1.04.2-1.43.59L10.3 9.45l-7.72 7.72c-.78.78-.78 2.05 0 2.83L4 21.41c.39.39.9.59 1.41.59.51 0 1.02-.2 1.41-.59l7.78-7.78 2.81-2.81c.8-.78.8-2.07 0-2.86zM5.41 20L4 18.59l7.72-7.72 1.47 1.35L5.41 20z\"/>\n",
              "  </svg>\n",
              "      </button>\n",
              "      \n",
              "  <style>\n",
              "    .colab-df-container {\n",
              "      display:flex;\n",
              "      flex-wrap:wrap;\n",
              "      gap: 12px;\n",
              "    }\n",
              "\n",
              "    .colab-df-convert {\n",
              "      background-color: #E8F0FE;\n",
              "      border: none;\n",
              "      border-radius: 50%;\n",
              "      cursor: pointer;\n",
              "      display: none;\n",
              "      fill: #1967D2;\n",
              "      height: 32px;\n",
              "      padding: 0 0 0 0;\n",
              "      width: 32px;\n",
              "    }\n",
              "\n",
              "    .colab-df-convert:hover {\n",
              "      background-color: #E2EBFA;\n",
              "      box-shadow: 0px 1px 2px rgba(60, 64, 67, 0.3), 0px 1px 3px 1px rgba(60, 64, 67, 0.15);\n",
              "      fill: #174EA6;\n",
              "    }\n",
              "\n",
              "    [theme=dark] .colab-df-convert {\n",
              "      background-color: #3B4455;\n",
              "      fill: #D2E3FC;\n",
              "    }\n",
              "\n",
              "    [theme=dark] .colab-df-convert:hover {\n",
              "      background-color: #434B5C;\n",
              "      box-shadow: 0px 1px 3px 1px rgba(0, 0, 0, 0.15);\n",
              "      filter: drop-shadow(0px 1px 2px rgba(0, 0, 0, 0.3));\n",
              "      fill: #FFFFFF;\n",
              "    }\n",
              "  </style>\n",
              "\n",
              "      <script>\n",
              "        const buttonEl =\n",
              "          document.querySelector('#df-11c0d432-9285-441f-b84a-3f449d1f01df button.colab-df-convert');\n",
              "        buttonEl.style.display =\n",
              "          google.colab.kernel.accessAllowed ? 'block' : 'none';\n",
              "\n",
              "        async function convertToInteractive(key) {\n",
              "          const element = document.querySelector('#df-11c0d432-9285-441f-b84a-3f449d1f01df');\n",
              "          const dataTable =\n",
              "            await google.colab.kernel.invokeFunction('convertToInteractive',\n",
              "                                                     [key], {});\n",
              "          if (!dataTable) return;\n",
              "\n",
              "          const docLinkHtml = 'Like what you see? Visit the ' +\n",
              "            '<a target=\"_blank\" href=https://colab.research.google.com/notebooks/data_table.ipynb>data table notebook</a>'\n",
              "            + ' to learn more about interactive tables.';\n",
              "          element.innerHTML = '';\n",
              "          dataTable['output_type'] = 'display_data';\n",
              "          await google.colab.output.renderOutput(dataTable, element);\n",
              "          const docLink = document.createElement('div');\n",
              "          docLink.innerHTML = docLinkHtml;\n",
              "          element.appendChild(docLink);\n",
              "        }\n",
              "      </script>\n",
              "    </div>\n",
              "  </div>\n",
              "  "
            ]
          },
          "metadata": {},
          "execution_count": 12
        }
      ]
    },
    {
      "cell_type": "markdown",
      "source": [
        "* The survival rate of passengers decreased as the order of Pclass decreased.\n",
        "For both the genders(male and female), passengers in Pclass 1 had a higher chance of survival followed by Pclass 2 and then Pclass 3.\n",
        "\n",
        "* In all the 3 Pclass the survival rate of female passengers was higher than that of male passengers\n"
      ],
      "metadata": {
        "id": "E_APcuuyAkvg"
      }
    },
    {
      "cell_type": "markdown",
      "metadata": {
        "id": "Jl8IY-XjM8cj"
      },
      "source": [
        "### **Question 6: Is Age or Fare an important factor to one's chance of survival?**\n",
        "Visualize the distribution of Column _Age_ for both survived and non-survived population and write down your findings based on the visualization."
      ]
    },
    {
      "cell_type": "code",
      "source": [
        "titanic['Fare'] = pd.to_numeric(titanic['Fare'] , errors='coerce')\n",
        "pd.to_numeric(titanic['Fare'], errors='coerce').convert_dtypes() "
      ],
      "metadata": {
        "colab": {
          "base_uri": "https://localhost:8080/"
        },
        "id": "au7K4iz_87HB",
        "outputId": "eef52d7b-b047-471a-c4f0-6e615f6e9932"
      },
      "execution_count": 15,
      "outputs": [
        {
          "output_type": "execute_result",
          "data": {
            "text/plain": [
              "0         7.25\n",
              "1      71.2833\n",
              "2        7.925\n",
              "3         53.1\n",
              "4         8.05\n",
              "        ...   \n",
              "886       13.0\n",
              "887       30.0\n",
              "888      23.45\n",
              "889       30.0\n",
              "890       7.75\n",
              "Name: Fare, Length: 891, dtype: Float64"
            ]
          },
          "metadata": {},
          "execution_count": 15
        }
      ]
    },
    {
      "cell_type": "code",
      "metadata": {
        "id": "yica7x96M8ck",
        "colab": {
          "base_uri": "https://localhost:8080/",
          "height": 285
        },
        "outputId": "b07bf8aa-0890-4096-f729-fd58f241341b"
      },
      "source": [
        "# TODO\n",
        "plt.hist([titanic[titanic['Survived']==0]['Fare'],titanic[titanic['Survived']==1]['Fare']],stacked=True, bins=15,label=['Unsurvived','Survived'])\n",
        "plt.xlabel('Fare')\n",
        "plt.ylabel('Survived/Unsurvived')\n",
        "plt.legend()\n",
        "plt.show()"
      ],
      "execution_count": 16,
      "outputs": [
        {
          "output_type": "display_data",
          "data": {
            "text/plain": [
              "<Figure size 432x288 with 1 Axes>"
            ],
            "image/png": "[encoded data removed]"
          },
          "metadata": {}
        }
      ]
    },
    {
      "cell_type": "markdown",
      "source": [
        "We can see that passengers who have paid a higher fare has a higher probability of survival, this can be related to Question 5 where we found that passengers in Pclass 1 had a higher survival rate. So fare can be correlated to passenger class and thus the higher/lower survival rate.\n",
        "\n",
        "**higher fare -> first class -> higher chance of survival**"
      ],
      "metadata": {
        "id": "xkQigbT4f41l"
      }
    },
    {
      "cell_type": "code",
      "source": [
        "plt.hist([titanic[titanic.loc[:,'Survived']==0]['Age'],titanic[titanic.loc[:,'Survived']==1]['Age']],bins=15,stacked=True,label=['Unsurvived','Survived'])\n",
        "plt.xlabel('Age')\n",
        "plt.ylabel('Survived/Unsurvived')\n",
        "plt.legend()\n",
        "plt.show()"
      ],
      "metadata": {
        "colab": {
          "base_uri": "https://localhost:8080/",
          "height": 285
        },
        "id": "TFrXUVybGPjg",
        "outputId": "96821fc1-32e5-466e-a871-6ab9b06cb412"
      },
      "execution_count": 17,
      "outputs": [
        {
          "output_type": "display_data",
          "data": {
            "text/plain": [
              "<Figure size 432x288 with 1 Axes>"
            ],
            "image/png": "[encoded data removed]"
          },
          "metadata": {}
        }
      ]
    },
    {
      "cell_type": "markdown",
      "source": [
        "There is no clear distinction with respect to age,but we can see that passengers in the age range of 20-30's and >60's have a lesser chance of survival whereas **children in the age range of 0-10 had a higher chance of survival**.\n",
        "\n",
        "- Out of the 2 factors Age and Fare - Fare seems to be a better predictor for survival\n"
      ],
      "metadata": {
        "id": "LX-sQTFnjgfM"
      }
    },
    {
      "cell_type": "markdown",
      "metadata": {
        "id": "DiigUZriM8cl"
      },
      "source": [
        "### **Question 7: Calculate and visualize the survival rate for discrete columns**\n",
        "- Calculate the survival rate for column _SibSp_ and _Parch_.\n",
        "- Use sns.barplot to visualize the survival rate for column _SibSp_ and _Parch_."
      ]
    },
    {
      "cell_type": "code",
      "metadata": {
        "id": "DqHs4imSM8cm",
        "colab": {
          "base_uri": "https://localhost:8080/"
        },
        "outputId": "376c3bc0-ade0-4946-e30b-41948f4077c5"
      },
      "source": [
        "# TODO - survival rate for SibSP\n",
        "titanic.groupby('SibSp')['Survived'].mean()\n"
      ],
      "execution_count": 18,
      "outputs": [
        {
          "output_type": "execute_result",
          "data": {
            "text/plain": [
              "SibSp\n",
              "0    0.345395\n",
              "1    0.535885\n",
              "2    0.464286\n",
              "3    0.250000\n",
              "4    0.166667\n",
              "5    0.000000\n",
              "8    0.000000\n",
              "Name: Survived, dtype: float64"
            ]
          },
          "metadata": {},
          "execution_count": 18
        }
      ]
    },
    {
      "cell_type": "code",
      "source": [
        "sns.barplot(data=titanic, x=\"SibSp\", y=\"Survived\",ci=None)"
      ],
      "metadata": {
        "colab": {
          "base_uri": "https://localhost:8080/",
          "height": 302
        },
        "id": "8mZ1kPv-PJhJ",
        "outputId": "96e615d7-6fec-49dd-cdb8-c55bd7651b32"
      },
      "execution_count": 9,
      "outputs": [
        {
          "output_type": "execute_result",
          "data": {
            "text/plain": [
              "<matplotlib.axes._subplots.AxesSubplot at 0x7fa9871e8490>"
            ]
          },
          "metadata": {},
          "execution_count": 9
        },
        {
          "output_type": "display_data",
          "data": {
            "text/plain": [
              "<Figure size 432x288 with 1 Axes>"
            ],
            "image/png": "[encoded data removed]"
          },
          "metadata": {}
        }
      ]
    },
    {
      "cell_type": "markdown",
      "source": [
        "It can be inferred that passengers travelling with one or two family members(siblings/spouse) have a higher chanve of survival"
      ],
      "metadata": {
        "id": "dyAfSl30nckJ"
      }
    },
    {
      "cell_type": "markdown",
      "source": [],
      "metadata": {
        "id": "u8Au93M7kgao"
      }
    },
    {
      "cell_type": "code",
      "source": [
        "#survival rate for Parch\n",
        "titanic.groupby('Parch')['Survived'].mean()\n"
      ],
      "metadata": {
        "colab": {
          "base_uri": "https://localhost:8080/"
        },
        "id": "m7MDqPacPu3c",
        "outputId": "022063e4-c5a2-4f99-e9e9-d2edb2541c41"
      },
      "execution_count": 19,
      "outputs": [
        {
          "output_type": "execute_result",
          "data": {
            "text/plain": [
              "Parch\n",
              "0    0.343658\n",
              "1    0.550847\n",
              "2    0.500000\n",
              "3    0.600000\n",
              "4    0.000000\n",
              "5    0.200000\n",
              "6    0.000000\n",
              "Name: Survived, dtype: float64"
            ]
          },
          "metadata": {},
          "execution_count": 19
        }
      ]
    },
    {
      "cell_type": "code",
      "source": [
        "sns.barplot(data=titanic, x=\"Parch\", y=\"Survived\",ci=None)"
      ],
      "metadata": {
        "colab": {
          "base_uri": "https://localhost:8080/",
          "height": 302
        },
        "id": "etKoMOvYP0Aw",
        "outputId": "f32dc542-6637-4a97-8237-c7f119863d72"
      },
      "execution_count": 10,
      "outputs": [
        {
          "output_type": "execute_result",
          "data": {
            "text/plain": [
              "<matplotlib.axes._subplots.AxesSubplot at 0x7fa986c7edf0>"
            ]
          },
          "metadata": {},
          "execution_count": 10
        },
        {
          "output_type": "display_data",
          "data": {
            "text/plain": [
              "<Figure size 432x288 with 1 Axes>"
            ],
            "image/png": "[encoded data removed]"
          },
          "metadata": {}
        }
      ]
    },
    {
      "cell_type": "markdown",
      "source": [
        "Similar to SibSp, we can see that passengers travelling with one,two or three parents/children have a higher chance of survival."
      ],
      "metadata": {
        "id": "c6MVQ4Sw_0JB"
      }
    },
    {
      "cell_type": "markdown",
      "metadata": {
        "id": "WwOkr4k1M8co"
      },
      "source": [
        "### **Question 8: Find the correlations.**\n",
        "Find the correlations between the feature and the target variable _Survived_ and use heatmap to visualize it. Summarize your findings."
      ]
    },
    {
      "cell_type": "code",
      "metadata": {
        "id": "WyANNhL6M8co",
        "colab": {
          "base_uri": "https://localhost:8080/",
          "height": 506
        },
        "outputId": "9354e5c3-5667-4747-892b-33415f468174"
      },
      "source": [
        "# TODO\n",
        "titanic_cor = titanic[['Survived','Pclass','Age','SibSp','Parch','Fare']].corr()\n",
        "\t\n",
        "sns.set(rc = {'figure.figsize':(16,8)})\n",
        "sns.heatmap(titanic_cor, annot = True, fmt='.2g',cmap= 'coolwarm')"
      ],
      "execution_count": 20,
      "outputs": [
        {
          "output_type": "execute_result",
          "data": {
            "text/plain": [
              "<matplotlib.axes._subplots.AxesSubplot at 0x7fc800965f70>"
            ]
          },
          "metadata": {},
          "execution_count": 20
        },
        {
          "output_type": "display_data",
          "data": {
            "text/plain": [
              "<Figure size 1152x576 with 2 Axes>"
            ],
            "image/png": "[encoded data removed]"
          },
          "metadata": {}
        }
      ]
    },
    {
      "cell_type": "markdown",
      "source": [
        "-Fare has the highest correlation cooefficient(fare is positvely correlated with Survival). This strengthens our inference from Question 6 that if a passenger has paid a higher fare, they have a higher chance of survival."
      ],
      "metadata": {
        "id": "5d3HITZ1zOqk"
      }
    },
    {
      "cell_type": "markdown",
      "metadata": {
        "id": "VPA-huNqM8cr"
      },
      "source": [
        "### **Question 9: Any other insights do you draw by analyzing the data? Summarize the findings as well as provide the code leading you to the findings.**"
      ]
    },
    {
      "cell_type": "markdown",
      "source": [
        "There is one other feature we haven't explored yet 'Embarked'. \n",
        "We will try to find the relationship between port of Embarkment and Survival rate."
      ],
      "metadata": {
        "id": "DurHRneHvWeK"
      }
    },
    {
      "cell_type": "code",
      "metadata": {
        "id": "RbUR4eVqM8cr",
        "colab": {
          "base_uri": "https://localhost:8080/",
          "height": 365
        },
        "outputId": "92fda59e-bd48-48ba-c68b-bd54c5a00cb3"
      },
      "source": [
        "# TODO\n",
        "g=sns.catplot(x='Embarked',y='Survived',data=titanic,kind='bar',ci=None)\n",
        "plt.xlabel('Port of Embarkation')\n",
        "plt.ylabel('Survival probability')\n",
        "plt.show(g)\n"
      ],
      "execution_count": null,
      "outputs": [
        {
          "output_type": "display_data",
          "data": {
            "text/plain": [
              "<Figure size 360x360 with 1 Axes>"
            ],
            "image/png": "[encoded data removed]"
          },
          "metadata": {}
        }
      ]
    },
    {
      "cell_type": "code",
      "source": [
        "g2=sns.catplot(x='Embarked',y='Survived',hue='Pclass',data=titanic,kind='bar',ci=None)\n",
        "plt.xlabel('Port of Embarkation')\n",
        "plt.ylabel('Survival probability')\n",
        "plt.show(g2)\n"
      ],
      "metadata": {
        "colab": {
          "base_uri": "https://localhost:8080/",
          "height": 365
        },
        "id": "W3F_UkIpXoEb",
        "outputId": "4af8cabe-d8d5-4070-865f-d9d5fcc0eebd"
      },
      "execution_count": null,
      "outputs": [
        {
          "output_type": "display_data",
          "data": {
            "text/plain": [
              "<Figure size 406.6x360 with 1 Axes>"
            ],
            "image/png": "[encoded data removed]"
          },
          "metadata": {}
        }
      ]
    },
    {
      "cell_type": "markdown",
      "source": [
        "- Passengers from cherbourg had a higher survival rate compared to other two ports. This can again, be tied to the fact that majority of the passengers from cherbourg had a Pclass 1 ticket thus having a greater chance of survival."
      ],
      "metadata": {
        "id": "TWMULipc8NWp"
      }
    },
    {
      "cell_type": "markdown",
      "source": [
        "**Final thoughts **- From the above analysis, we can conclude that passengers who had a higher chance of survival were\n",
        "\n",
        "* those who paid a higher fare and had a first class ticket.\n",
        "* female passengers\n",
        "* children under the age of 10\n",
        "* passengers who embarked from cherbourg"
      ],
      "metadata": {
        "id": "4g1gz85X8NhY"
      }
    },
    {
      "cell_type": "markdown",
      "metadata": {
        "id": "WN7aJgCAM8ct"
      },
      "source": [
        "### **Bonus Point: Build a ML model to predict survival.**\n",
        "Can you build a logistic regression model to predict the probability of survival for all the passengers in this [file](https://raw.githubusercontent.com/zariable/data/master/titanic_test.csv)? You can evaluate your model accuracy on [Kaggle](https://www.kaggle.com/c/titanic). Can you think of any other ways to improve the model performance? Implement your idea to see if it actually works. "
      ]
    },
    {
      "cell_type": "code",
      "metadata": {
        "id": "dJ7Cdt2PM8cu",
        "colab": {
          "base_uri": "https://localhost:8080/",
          "height": 206
        },
        "outputId": "26503df3-adaa-4b30-d6dc-6eba09deeaf7"
      },
      "source": [
        "# TODO\n",
        "# load test data\n",
        "titanic_reg = pd.read_csv('https://raw.githubusercontent.com/zariable/data/master/titanic_test.csv')\n",
        "display(titanic_reg.head())"
      ],
      "execution_count": 40,
      "outputs": [
        {
          "output_type": "display_data",
          "data": {
            "text/plain": [
              "   PassengerId  Pclass                                          Name     Sex  \\\n",
              "0          892       3                              Kelly, Mr. James    male   \n",
              "1          893       3              Wilkes, Mrs. James (Ellen Needs)  female   \n",
              "2          894       2                     Myles, Mr. Thomas Francis    male   \n",
              "3          895       3                              Wirz, Mr. Albert    male   \n",
              "4          896       3  Hirvonen, Mrs. Alexander (Helga E Lindqvist)  female   \n",
              "\n",
              "    Age  SibSp  Parch   Ticket     Fare Cabin Embarked  \n",
              "0  34.5      0      0   330911   7.8292   NaN        Q  \n",
              "1  47.0      1      0   363272   7.0000   NaN        S  \n",
              "2  62.0      0      0   240276   9.6875   NaN        Q  \n",
              "3  27.0      0      0   315154   8.6625   NaN        S  \n",
              "4  22.0      1      1  3101298  12.2875   NaN        S  "
            ],
            "text/html": [
              "\n",
              "  <div id=\"df-f68c8dd2-2c29-49e6-bb5f-f383c41d69e4\">\n",
              "    <div class=\"colab-df-container\">\n",
              "      <div>\n",
              "<style scoped>\n",
              "    .dataframe tbody tr th:only-of-type {\n",
              "        vertical-align: middle;\n",
              "    }\n",
              "\n",
              "    .dataframe tbody tr th {\n",
              "        vertical-align: top;\n",
              "    }\n",
              "\n",
              "    .dataframe thead th {\n",
              "        text-align: right;\n",
              "    }\n",
              "</style>\n",
              "<table border=\"1\" class=\"dataframe\">\n",
              "  <thead>\n",
              "    <tr style=\"text-align: right;\">\n",
              "      <th></th>\n",
              "      <th>PassengerId</th>\n",
              "      <th>Pclass</th>\n",
              "      <th>Name</th>\n",
              "      <th>Sex</th>\n",
              "      <th>Age</th>\n",
              "      <th>SibSp</th>\n",
              "      <th>Parch</th>\n",
              "      <th>Ticket</th>\n",
              "      <th>Fare</th>\n",
              "      <th>Cabin</th>\n",
              "      <th>Embarked</th>\n",
              "    </tr>\n",
              "  </thead>\n",
              "  <tbody>\n",
              "    <tr>\n",
              "      <th>0</th>\n",
              "      <td>892</td>\n",
              "      <td>3</td>\n",
              "      <td>Kelly, Mr. James</td>\n",
              "      <td>male</td>\n",
              "      <td>34.5</td>\n",
              "      <td>0</td>\n",
              "      <td>0</td>\n",
              "      <td>330911</td>\n",
              "      <td>7.8292</td>\n",
              "      <td>NaN</td>\n",
              "      <td>Q</td>\n",
              "    </tr>\n",
              "    <tr>\n",
              "      <th>1</th>\n",
              "      <td>893</td>\n",
              "      <td>3</td>\n",
              "      <td>Wilkes, Mrs. James (Ellen Needs)</td>\n",
              "      <td>female</td>\n",
              "      <td>47.0</td>\n",
              "      <td>1</td>\n",
              "      <td>0</td>\n",
              "      <td>363272</td>\n",
              "      <td>7.0000</td>\n",
              "      <td>NaN</td>\n",
              "      <td>S</td>\n",
              "    </tr>\n",
              "    <tr>\n",
              "      <th>2</th>\n",
              "      <td>894</td>\n",
              "      <td>2</td>\n",
              "      <td>Myles, Mr. Thomas Francis</td>\n",
              "      <td>male</td>\n",
              "      <td>62.0</td>\n",
              "      <td>0</td>\n",
              "      <td>0</td>\n",
              "      <td>240276</td>\n",
              "      <td>9.6875</td>\n",
              "      <td>NaN</td>\n",
              "      <td>Q</td>\n",
              "    </tr>\n",
              "    <tr>\n",
              "      <th>3</th>\n",
              "      <td>895</td>\n",
              "      <td>3</td>\n",
              "      <td>Wirz, Mr. Albert</td>\n",
              "      <td>male</td>\n",
              "      <td>27.0</td>\n",
              "      <td>0</td>\n",
              "      <td>0</td>\n",
              "      <td>315154</td>\n",
              "      <td>8.6625</td>\n",
              "      <td>NaN</td>\n",
              "      <td>S</td>\n",
              "    </tr>\n",
              "    <tr>\n",
              "      <th>4</th>\n",
              "      <td>896</td>\n",
              "      <td>3</td>\n",
              "      <td>Hirvonen, Mrs. Alexander (Helga E Lindqvist)</td>\n",
              "      <td>female</td>\n",
              "      <td>22.0</td>\n",
              "      <td>1</td>\n",
              "      <td>1</td>\n",
              "      <td>3101298</td>\n",
              "      <td>12.2875</td>\n",
              "      <td>NaN</td>\n",
              "      <td>S</td>\n",
              "    </tr>\n",
              "  </tbody>\n",
              "</table>\n",
              "</div>\n",
              "      <button class=\"colab-df-convert\" onclick=\"convertToInteractive('df-f68c8dd2-2c29-49e6-bb5f-f383c41d69e4')\"\n",
              "              title=\"Convert this dataframe to an interactive table.\"\n",
              "              style=\"display:none;\">\n",
              "        \n",
              "  <svg xmlns=\"http://www.w3.org/2000/svg\" height=\"24px\"viewBox=\"0 0 24 24\"\n",
              "       width=\"24px\">\n",
              "    <path d=\"M0 0h24v24H0V0z\" fill=\"none\"/>\n",
              "    <path d=\"M18.56 5.44l.94 2.06.94-2.06 2.06-.94-2.06-.94-.94-2.06-.94 2.06-2.06.94zm-11 1L8.5 8.5l.94-2.06 2.06-.94-2.06-.94L8.5 2.5l-.94 2.06-2.06.94zm10 10l.94 2.06.94-2.06 2.06-.94-2.06-.94-.94-2.06-.94 2.06-2.06.94z\"/><path d=\"M17.41 7.96l-1.37-1.37c-.4-.4-.92-.59-1.43-.59-.52 0-1.04.2-1.43.59L10.3 9.45l-7.72 7.72c-.78.78-.78 2.05 0 2.83L4 21.41c.39.39.9.59 1.41.59.51 0 1.02-.2 1.41-.59l7.78-7.78 2.81-2.81c.8-.78.8-2.07 0-2.86zM5.41 20L4 18.59l7.72-7.72 1.47 1.35L5.41 20z\"/>\n",
              "  </svg>\n",
              "      </button>\n",
              "      \n",
              "  <style>\n",
              "    .colab-df-container {\n",
              "      display:flex;\n",
              "      flex-wrap:wrap;\n",
              "      gap: 12px;\n",
              "    }\n",
              "\n",
              "    .colab-df-convert {\n",
              "      background-color: #E8F0FE;\n",
              "      border: none;\n",
              "      border-radius: 50%;\n",
              "      cursor: pointer;\n",
              "      display: none;\n",
              "      fill: #1967D2;\n",
              "      height: 32px;\n",
              "      padding: 0 0 0 0;\n",
              "      width: 32px;\n",
              "    }\n",
              "\n",
              "    .colab-df-convert:hover {\n",
              "      background-color: #E2EBFA;\n",
              "      box-shadow: 0px 1px 2px rgba(60, 64, 67, 0.3), 0px 1px 3px 1px rgba(60, 64, 67, 0.15);\n",
              "      fill: #174EA6;\n",
              "    }\n",
              "\n",
              "    [theme=dark] .colab-df-convert {\n",
              "      background-color: #3B4455;\n",
              "      fill: #D2E3FC;\n",
              "    }\n",
              "\n",
              "    [theme=dark] .colab-df-convert:hover {\n",
              "      background-color: #434B5C;\n",
              "      box-shadow: 0px 1px 3px 1px rgba(0, 0, 0, 0.15);\n",
              "      filter: drop-shadow(0px 1px 2px rgba(0, 0, 0, 0.3));\n",
              "      fill: #FFFFFF;\n",
              "    }\n",
              "  </style>\n",
              "\n",
              "      <script>\n",
              "        const buttonEl =\n",
              "          document.querySelector('#df-f68c8dd2-2c29-49e6-bb5f-f383c41d69e4 button.colab-df-convert');\n",
              "        buttonEl.style.display =\n",
              "          google.colab.kernel.accessAllowed ? 'block' : 'none';\n",
              "\n",
              "        async function convertToInteractive(key) {\n",
              "          const element = document.querySelector('#df-f68c8dd2-2c29-49e6-bb5f-f383c41d69e4');\n",
              "          const dataTable =\n",
              "            await google.colab.kernel.invokeFunction('convertToInteractive',\n",
              "                                                     [key], {});\n",
              "          if (!dataTable) return;\n",
              "\n",
              "          const docLinkHtml = 'Like what you see? Visit the ' +\n",
              "            '<a target=\"_blank\" href=https://colab.research.google.com/notebooks/data_table.ipynb>data table notebook</a>'\n",
              "            + ' to learn more about interactive tables.';\n",
              "          element.innerHTML = '';\n",
              "          dataTable['output_type'] = 'display_data';\n",
              "          await google.colab.output.renderOutput(dataTable, element);\n",
              "          const docLink = document.createElement('div');\n",
              "          docLink.innerHTML = docLinkHtml;\n",
              "          element.appendChild(docLink);\n",
              "        }\n",
              "      </script>\n",
              "    </div>\n",
              "  </div>\n",
              "  "
            ]
          },
          "metadata": {}
        }
      ]
    },
    {
      "cell_type": "code",
      "source": [
        "#Find columns with missing values\n",
        "titanic_reg.isna().sum()"
      ],
      "metadata": {
        "colab": {
          "base_uri": "https://localhost:8080/",
          "height": 0
        },
        "id": "wGB93Bd3lS1Z",
        "outputId": "0289b362-5948-41d8-ed04-1927b911710a"
      },
      "execution_count": 7,
      "outputs": [
        {
          "output_type": "execute_result",
          "data": {
            "text/plain": [
              "PassengerId      0\n",
              "Pclass           0\n",
              "Name             0\n",
              "Sex              0\n",
              "Age             86\n",
              "SibSp            0\n",
              "Parch            0\n",
              "Ticket           0\n",
              "Fare             1\n",
              "Cabin          327\n",
              "Embarked         0\n",
              "dtype: int64"
            ]
          },
          "metadata": {},
          "execution_count": 7
        }
      ]
    },
    {
      "cell_type": "code",
      "source": [
        "#Impute missing values\n",
        "titanic_reg['Age'].fillna(value=titanic_reg['Age'].mean(),inplace=True)\n",
        "titanic_reg['Fare'].fillna(value=titanic_reg['Fare'].mode,inplace=True)\n",
        "titanic_reg.drop('Cabin',axis=1,inplace=True)"
      ],
      "metadata": {
        "id": "wDOn1X5C_Np3"
      },
      "execution_count": 8,
      "outputs": []
    },
    {
      "cell_type": "code",
      "source": [
        "#Categorize age column\n",
        "bins=[0,5,16,25,45,65,95]\n",
        "labels=['infant','kid','young','adult','old','elderly']\n",
        "titanic_reg['Age']=pd.cut(titanic_reg['Age'],bins=bins,labels=labels)"
      ],
      "metadata": {
        "id": "x4e8Rfvgl9p7"
      },
      "execution_count": 9,
      "outputs": []
    },
    {
      "cell_type": "code",
      "source": [
        "#Converting type object to int for column 'Fare'\n",
        "titanic_reg['Fare'] = pd.to_numeric(titanic_reg['Fare'] , errors='coerce')\n",
        "pd.to_numeric(titanic_reg['Fare'], errors='coerce').convert_dtypes() "
      ],
      "metadata": {
        "colab": {
          "base_uri": "https://localhost:8080/",
          "height": 0
        },
        "id": "qHb9i0aSmaw-",
        "outputId": "2e51f306-d560-4699-fe98-1e836d32899e"
      },
      "execution_count": 10,
      "outputs": [
        {
          "output_type": "execute_result",
          "data": {
            "text/plain": [
              "0       7.8292\n",
              "1          7.0\n",
              "2       9.6875\n",
              "3       8.6625\n",
              "4      12.2875\n",
              "        ...   \n",
              "413       8.05\n",
              "414      108.9\n",
              "415       7.25\n",
              "416       8.05\n",
              "417    22.3583\n",
              "Name: Fare, Length: 418, dtype: Float64"
            ]
          },
          "metadata": {},
          "execution_count": 10
        }
      ]
    },
    {
      "cell_type": "code",
      "source": [
        "#Categorize Fare column\n",
        "bins_q=[7.8,14.45,31.0,512.32]\n",
        "labels_q=['low','medium','high']\n",
        "titanic_reg['Fare']=pd.cut(titanic_reg['Fare'],bins=bins_q,labels=labels_q)"
      ],
      "metadata": {
        "id": "qJuNrAe1my04"
      },
      "execution_count": 11,
      "outputs": []
    },
    {
      "cell_type": "code",
      "source": [
        "#convert categorical data to numeric values\n",
        "from sklearn.preprocessing import LabelEncoder\n",
        "el=LabelEncoder()\n",
        "titanic_reg['age_new'] = el.fit_transform(titanic_reg['Age'])\n",
        "titanic_reg['gender'] = el.fit_transform(titanic_reg['Sex'])\n",
        "titanic_reg['Embarked_num'] = el.fit_transform(titanic_reg['Embarked'])\n",
        "titanic_reg['fare_new'] = el.fit_transform(titanic_reg['Fare'])"
      ],
      "metadata": {
        "id": "ZgMM9WZom96l"
      },
      "execution_count": 12,
      "outputs": []
    },
    {
      "cell_type": "code",
      "source": [
        "#Target variable\n",
        "titanic_reg['Survived']=0"
      ],
      "metadata": {
        "id": "1k4xngiFnN1_"
      },
      "execution_count": 13,
      "outputs": []
    },
    {
      "cell_type": "code",
      "source": [
        "#Drop unwanted and categorical columns\n",
        "titanic_reg.drop(['PassengerId','Name','Sex','Age','Ticket','Fare','Embarked'],axis=1,inplace=True)"
      ],
      "metadata": {
        "id": "XeeDfJfBnfwU"
      },
      "execution_count": 14,
      "outputs": []
    },
    {
      "cell_type": "code",
      "source": [
        "#Split test data\n",
        "X_test = titanic_reg.drop('Survived', axis = 1)\n",
        "y_test = titanic_reg['Survived']"
      ],
      "metadata": {
        "id": "gyAHP3ryn4p0"
      },
      "execution_count": 15,
      "outputs": []
    },
    {
      "cell_type": "code",
      "source": [
        "#load training data\n",
        "titanic_train= titanic.copy()\n",
        "titanic_train.isna().any()"
      ],
      "metadata": {
        "colab": {
          "base_uri": "https://localhost:8080/",
          "height": 0
        },
        "id": "C08dVAl_fEbf",
        "outputId": "575f14c9-46df-4e53-8f5b-9d42b3e909d4"
      },
      "execution_count": 23,
      "outputs": [
        {
          "output_type": "execute_result",
          "data": {
            "text/plain": [
              "PassengerId    False\n",
              "Survived       False\n",
              "Pclass         False\n",
              "Name           False\n",
              "Sex            False\n",
              "Age            False\n",
              "SibSp          False\n",
              "Parch          False\n",
              "Ticket         False\n",
              "Fare           False\n",
              "Cabin          False\n",
              "Embarked       False\n",
              "dtype: bool"
            ]
          },
          "metadata": {},
          "execution_count": 23
        }
      ]
    },
    {
      "cell_type": "code",
      "source": [
        "##Converting type object to str for column 'Embarked'\n",
        "titanic_train['Embarked'] = titanic_train['Embarked'].astype(str)"
      ],
      "metadata": {
        "id": "jAMLRk1eitrh"
      },
      "execution_count": 24,
      "outputs": []
    },
    {
      "cell_type": "code",
      "source": [
        "#Categorize age column\n",
        "bins=[0,5,16,25,45,65,95]\n",
        "labels=['infant','kid','young','adult','old','elderly']\n",
        "titanic_train['Age']=pd.cut(titanic_train['Age'],bins=bins,labels=labels)"
      ],
      "metadata": {
        "id": "H0JwMIW4FFK7"
      },
      "execution_count": 25,
      "outputs": []
    },
    {
      "cell_type": "code",
      "source": [
        "#Categorize Fare column\n",
        "bins_q=[7.8,14.45,31.0,512.32]\n",
        "labels_q=['low','medium','high']\n",
        "titanic_train['Fare']=pd.cut(titanic_train['Fare'],bins=bins_q,labels=labels_q)"
      ],
      "metadata": {
        "id": "5FJ_vUguZEUj"
      },
      "execution_count": 26,
      "outputs": []
    },
    {
      "cell_type": "code",
      "source": [
        "#Convert categorical data to numeric values\n",
        "from sklearn.preprocessing import LabelEncoder\n",
        "el=LabelEncoder()\n",
        "titanic_train['age_new'] = el.fit_transform(titanic_train['Age'])\n",
        "titanic_train['gender'] = el.fit_transform(titanic_train['Sex'])\n",
        "titanic_train['Embarked_num'] = el.fit_transform(titanic_train['Embarked'])\n",
        "titanic_train['fare_new'] = el.fit_transform(titanic_train['Fare'])"
      ],
      "metadata": {
        "id": "qpqexAyaLff7"
      },
      "execution_count": 27,
      "outputs": []
    },
    {
      "cell_type": "code",
      "source": [
        "#Drop unwanted and categorical columns\n",
        "titanic_train.drop(['PassengerId','Name','Sex','Age','Ticket','Fare','Embarked','Cabin'],axis=1,inplace=True)"
      ],
      "metadata": {
        "id": "cakozoRUCsN-"
      },
      "execution_count": 28,
      "outputs": []
    },
    {
      "cell_type": "code",
      "source": [
        "#Importing required libraries to buid the model\n",
        "from sklearn.model_selection import train_test_split\n",
        "from sklearn.linear_model import LogisticRegression\n",
        "from sklearn.metrics import accuracy_score, confusion_matrix"
      ],
      "metadata": {
        "id": "JnfHAAX0dilP"
      },
      "execution_count": 29,
      "outputs": []
    },
    {
      "cell_type": "code",
      "source": [
        "titanic_train"
      ],
      "metadata": {
        "colab": {
          "base_uri": "https://localhost:8080/",
          "height": 424
        },
        "id": "-OtVMAhmku47",
        "outputId": "7fed94bf-c204-4904-a273-538bcc744f1f"
      },
      "execution_count": 30,
      "outputs": [
        {
          "output_type": "execute_result",
          "data": {
            "text/plain": [
              "     Survived  Pclass  SibSp  Parch  age_new  gender  Embarked_num  fare_new\n",
              "0           0       3      1      0        5       1             3         3\n",
              "1           1       1      1      0        0       0             1         0\n",
              "2           1       3      0      0        0       0             3         1\n",
              "3           1       1      1      0        0       0             3         0\n",
              "4           0       3      0      0        0       1             3         1\n",
              "..        ...     ...    ...    ...      ...     ...           ...       ...\n",
              "886         0       2      0      0        0       1             3         1\n",
              "887         1       1      0      0        5       0             3         2\n",
              "888         0       3      1      2        0       0             3         2\n",
              "889         1       1      0      0        0       1             1         2\n",
              "890         0       3      0      0        0       1             2         3\n",
              "\n",
              "[891 rows x 8 columns]"
            ],
            "text/html": [
              "\n",
              "  <div id=\"df-fbdc49f9-a049-47b0-baf0-e5fb091fb0c9\">\n",
              "    <div class=\"colab-df-container\">\n",
              "      <div>\n",
              "<style scoped>\n",
              "    .dataframe tbody tr th:only-of-type {\n",
              "        vertical-align: middle;\n",
              "    }\n",
              "\n",
              "    .dataframe tbody tr th {\n",
              "        vertical-align: top;\n",
              "    }\n",
              "\n",
              "    .dataframe thead th {\n",
              "        text-align: right;\n",
              "    }\n",
              "</style>\n",
              "<table border=\"1\" class=\"dataframe\">\n",
              "  <thead>\n",
              "    <tr style=\"text-align: right;\">\n",
              "      <th></th>\n",
              "      <th>Survived</th>\n",
              "      <th>Pclass</th>\n",
              "      <th>SibSp</th>\n",
              "      <th>Parch</th>\n",
              "      <th>age_new</th>\n",
              "      <th>gender</th>\n",
              "      <th>Embarked_num</th>\n",
              "      <th>fare_new</th>\n",
              "    </tr>\n",
              "  </thead>\n",
              "  <tbody>\n",
              "    <tr>\n",
              "      <th>0</th>\n",
              "      <td>0</td>\n",
              "      <td>3</td>\n",
              "      <td>1</td>\n",
              "      <td>0</td>\n",
              "      <td>5</td>\n",
              "      <td>1</td>\n",
              "      <td>3</td>\n",
              "      <td>3</td>\n",
              "    </tr>\n",
              "    <tr>\n",
              "      <th>1</th>\n",
              "      <td>1</td>\n",
              "      <td>1</td>\n",
              "      <td>1</td>\n",
              "      <td>0</td>\n",
              "      <td>0</td>\n",
              "      <td>0</td>\n",
              "      <td>1</td>\n",
              "      <td>0</td>\n",
              "    </tr>\n",
              "    <tr>\n",
              "      <th>2</th>\n",
              "      <td>1</td>\n",
              "      <td>3</td>\n",
              "      <td>0</td>\n",
              "      <td>0</td>\n",
              "      <td>0</td>\n",
              "      <td>0</td>\n",
              "      <td>3</td>\n",
              "      <td>1</td>\n",
              "    </tr>\n",
              "    <tr>\n",
              "      <th>3</th>\n",
              "      <td>1</td>\n",
              "      <td>1</td>\n",
              "      <td>1</td>\n",
              "      <td>0</td>\n",
              "      <td>0</td>\n",
              "      <td>0</td>\n",
              "      <td>3</td>\n",
              "      <td>0</td>\n",
              "    </tr>\n",
              "    <tr>\n",
              "      <th>4</th>\n",
              "      <td>0</td>\n",
              "      <td>3</td>\n",
              "      <td>0</td>\n",
              "      <td>0</td>\n",
              "      <td>0</td>\n",
              "      <td>1</td>\n",
              "      <td>3</td>\n",
              "      <td>1</td>\n",
              "    </tr>\n",
              "    <tr>\n",
              "      <th>...</th>\n",
              "      <td>...</td>\n",
              "      <td>...</td>\n",
              "      <td>...</td>\n",
              "      <td>...</td>\n",
              "      <td>...</td>\n",
              "      <td>...</td>\n",
              "      <td>...</td>\n",
              "      <td>...</td>\n",
              "    </tr>\n",
              "    <tr>\n",
              "      <th>886</th>\n",
              "      <td>0</td>\n",
              "      <td>2</td>\n",
              "      <td>0</td>\n",
              "      <td>0</td>\n",
              "      <td>0</td>\n",
              "      <td>1</td>\n",
              "      <td>3</td>\n",
              "      <td>1</td>\n",
              "    </tr>\n",
              "    <tr>\n",
              "      <th>887</th>\n",
              "      <td>1</td>\n",
              "      <td>1</td>\n",
              "      <td>0</td>\n",
              "      <td>0</td>\n",
              "      <td>5</td>\n",
              "      <td>0</td>\n",
              "      <td>3</td>\n",
              "      <td>2</td>\n",
              "    </tr>\n",
              "    <tr>\n",
              "      <th>888</th>\n",
              "      <td>0</td>\n",
              "      <td>3</td>\n",
              "      <td>1</td>\n",
              "      <td>2</td>\n",
              "      <td>0</td>\n",
              "      <td>0</td>\n",
              "      <td>3</td>\n",
              "      <td>2</td>\n",
              "    </tr>\n",
              "    <tr>\n",
              "      <th>889</th>\n",
              "      <td>1</td>\n",
              "      <td>1</td>\n",
              "      <td>0</td>\n",
              "      <td>0</td>\n",
              "      <td>0</td>\n",
              "      <td>1</td>\n",
              "      <td>1</td>\n",
              "      <td>2</td>\n",
              "    </tr>\n",
              "    <tr>\n",
              "      <th>890</th>\n",
              "      <td>0</td>\n",
              "      <td>3</td>\n",
              "      <td>0</td>\n",
              "      <td>0</td>\n",
              "      <td>0</td>\n",
              "      <td>1</td>\n",
              "      <td>2</td>\n",
              "      <td>3</td>\n",
              "    </tr>\n",
              "  </tbody>\n",
              "</table>\n",
              "<p>891 rows × 8 columns</p>\n",
              "</div>\n",
              "      <button class=\"colab-df-convert\" onclick=\"convertToInteractive('df-fbdc49f9-a049-47b0-baf0-e5fb091fb0c9')\"\n",
              "              title=\"Convert this dataframe to an interactive table.\"\n",
              "              style=\"display:none;\">\n",
              "        \n",
              "  <svg xmlns=\"http://www.w3.org/2000/svg\" height=\"24px\"viewBox=\"0 0 24 24\"\n",
              "       width=\"24px\">\n",
              "    <path d=\"M0 0h24v24H0V0z\" fill=\"none\"/>\n",
              "    <path d=\"M18.56 5.44l.94 2.06.94-2.06 2.06-.94-2.06-.94-.94-2.06-.94 2.06-2.06.94zm-11 1L8.5 8.5l.94-2.06 2.06-.94-2.06-.94L8.5 2.5l-.94 2.06-2.06.94zm10 10l.94 2.06.94-2.06 2.06-.94-2.06-.94-.94-2.06-.94 2.06-2.06.94z\"/><path d=\"M17.41 7.96l-1.37-1.37c-.4-.4-.92-.59-1.43-.59-.52 0-1.04.2-1.43.59L10.3 9.45l-7.72 7.72c-.78.78-.78 2.05 0 2.83L4 21.41c.39.39.9.59 1.41.59.51 0 1.02-.2 1.41-.59l7.78-7.78 2.81-2.81c.8-.78.8-2.07 0-2.86zM5.41 20L4 18.59l7.72-7.72 1.47 1.35L5.41 20z\"/>\n",
              "  </svg>\n",
              "      </button>\n",
              "      \n",
              "  <style>\n",
              "    .colab-df-container {\n",
              "      display:flex;\n",
              "      flex-wrap:wrap;\n",
              "      gap: 12px;\n",
              "    }\n",
              "\n",
              "    .colab-df-convert {\n",
              "      background-color: #E8F0FE;\n",
              "      border: none;\n",
              "      border-radius: 50%;\n",
              "      cursor: pointer;\n",
              "      display: none;\n",
              "      fill: #1967D2;\n",
              "      height: 32px;\n",
              "      padding: 0 0 0 0;\n",
              "      width: 32px;\n",
              "    }\n",
              "\n",
              "    .colab-df-convert:hover {\n",
              "      background-color: #E2EBFA;\n",
              "      box-shadow: 0px 1px 2px rgba(60, 64, 67, 0.3), 0px 1px 3px 1px rgba(60, 64, 67, 0.15);\n",
              "      fill: #174EA6;\n",
              "    }\n",
              "\n",
              "    [theme=dark] .colab-df-convert {\n",
              "      background-color: #3B4455;\n",
              "      fill: #D2E3FC;\n",
              "    }\n",
              "\n",
              "    [theme=dark] .colab-df-convert:hover {\n",
              "      background-color: #434B5C;\n",
              "      box-shadow: 0px 1px 3px 1px rgba(0, 0, 0, 0.15);\n",
              "      filter: drop-shadow(0px 1px 2px rgba(0, 0, 0, 0.3));\n",
              "      fill: #FFFFFF;\n",
              "    }\n",
              "  </style>\n",
              "\n",
              "      <script>\n",
              "        const buttonEl =\n",
              "          document.querySelector('#df-fbdc49f9-a049-47b0-baf0-e5fb091fb0c9 button.colab-df-convert');\n",
              "        buttonEl.style.display =\n",
              "          google.colab.kernel.accessAllowed ? 'block' : 'none';\n",
              "\n",
              "        async function convertToInteractive(key) {\n",
              "          const element = document.querySelector('#df-fbdc49f9-a049-47b0-baf0-e5fb091fb0c9');\n",
              "          const dataTable =\n",
              "            await google.colab.kernel.invokeFunction('convertToInteractive',\n",
              "                                                     [key], {});\n",
              "          if (!dataTable) return;\n",
              "\n",
              "          const docLinkHtml = 'Like what you see? Visit the ' +\n",
              "            '<a target=\"_blank\" href=https://colab.research.google.com/notebooks/data_table.ipynb>data table notebook</a>'\n",
              "            + ' to learn more about interactive tables.';\n",
              "          element.innerHTML = '';\n",
              "          dataTable['output_type'] = 'display_data';\n",
              "          await google.colab.output.renderOutput(dataTable, element);\n",
              "          const docLink = document.createElement('div');\n",
              "          docLink.innerHTML = docLinkHtml;\n",
              "          element.appendChild(docLink);\n",
              "        }\n",
              "      </script>\n",
              "    </div>\n",
              "  </div>\n",
              "  "
            ]
          },
          "metadata": {},
          "execution_count": 30
        }
      ]
    },
    {
      "cell_type": "code",
      "source": [
        "#Model building\n",
        "X = titanic_train.drop('Survived', axis = 1)\n",
        "y = titanic_train['Survived']\n",
        "log_reg = LogisticRegression()\n",
        "log_reg.fit(X,y)"
      ],
      "metadata": {
        "colab": {
          "base_uri": "https://localhost:8080/",
          "height": 0
        },
        "id": "68fJkEhDkRVl",
        "outputId": "ba44494c-35f8-4d4c-dd28-3a99dea24570"
      },
      "execution_count": 31,
      "outputs": [
        {
          "output_type": "execute_result",
          "data": {
            "text/plain": [
              "LogisticRegression()"
            ]
          },
          "metadata": {},
          "execution_count": 31
        }
      ]
    },
    {
      "cell_type": "code",
      "source": [
        "y_pred = log_reg.predict(X_test)"
      ],
      "metadata": {
        "id": "HWekARS0drP8"
      },
      "execution_count": 34,
      "outputs": []
    },
    {
      "cell_type": "code",
      "source": [
        "y_pred"
      ],
      "metadata": {
        "colab": {
          "base_uri": "https://localhost:8080/",
          "height": 0
        },
        "id": "mjJXJ0IFoGOZ",
        "outputId": "0c897ade-b5cc-4e30-b49d-07a1c51518f8"
      },
      "execution_count": 35,
      "outputs": [
        {
          "output_type": "execute_result",
          "data": {
            "text/plain": [
              "array([0, 1, 0, 0, 1, 0, 1, 0, 1, 0, 0, 0, 1, 0, 1, 1, 0, 0, 1, 1, 1, 0,\n",
              "       1, 1, 1, 0, 1, 0, 0, 0, 0, 0, 1, 1, 1, 0, 1, 1, 0, 0, 0, 0, 0, 1,\n",
              "       1, 0, 1, 0, 1, 1, 0, 0, 1, 1, 0, 0, 0, 0, 0, 1, 0, 0, 0, 1, 0, 1,\n",
              "       1, 0, 1, 1, 1, 0, 1, 1, 1, 1, 0, 1, 0, 1, 0, 0, 0, 0, 0, 0, 1, 1,\n",
              "       1, 0, 1, 0, 1, 0, 1, 0, 1, 0, 1, 0, 1, 0, 0, 0, 1, 0, 0, 0, 0, 0,\n",
              "       0, 1, 1, 1, 1, 0, 0, 1, 1, 1, 1, 0, 1, 0, 0, 1, 0, 1, 0, 0, 0, 1,\n",
              "       1, 0, 0, 0, 0, 0, 1, 0, 0, 1, 0, 0, 0, 0, 0, 0, 0, 0, 1, 0, 0, 1,\n",
              "       0, 0, 1, 1, 0, 1, 1, 0, 1, 0, 0, 1, 1, 0, 1, 1, 0, 0, 0, 0, 0, 1,\n",
              "       1, 1, 1, 1, 0, 1, 1, 0, 1, 0, 1, 0, 0, 0, 0, 0, 0, 0, 0, 0, 1, 1,\n",
              "       0, 1, 1, 0, 1, 1, 0, 1, 1, 0, 1, 0, 0, 0, 0, 1, 0, 0, 1, 0, 1, 0,\n",
              "       1, 0, 1, 0, 1, 1, 0, 1, 0, 0, 0, 1, 0, 0, 1, 0, 1, 0, 1, 1, 1, 1,\n",
              "       1, 0, 0, 0, 1, 0, 1, 1, 1, 0, 1, 0, 0, 0, 0, 0, 1, 0, 0, 0, 1, 1,\n",
              "       0, 0, 0, 0, 1, 0, 1, 0, 1, 1, 0, 1, 0, 0, 0, 0, 1, 0, 1, 1, 1, 0,\n",
              "       0, 0, 0, 0, 0, 1, 0, 0, 0, 0, 1, 0, 0, 0, 0, 0, 0, 0, 1, 1, 0, 0,\n",
              "       0, 1, 0, 0, 0, 1, 1, 1, 1, 0, 0, 0, 0, 0, 0, 0, 1, 0, 1, 1, 0, 0,\n",
              "       1, 1, 0, 1, 0, 0, 0, 0, 0, 0, 0, 0, 0, 1, 0, 1, 0, 1, 0, 1, 1, 0,\n",
              "       0, 0, 1, 0, 1, 0, 0, 1, 0, 1, 1, 0, 1, 1, 0, 1, 1, 0, 0, 1, 0, 0,\n",
              "       1, 1, 1, 0, 0, 0, 0, 0, 1, 1, 0, 1, 0, 0, 0, 0, 0, 1, 0, 0, 0, 1,\n",
              "       0, 1, 0, 0, 1, 0, 1, 0, 1, 0, 0, 1, 1, 1, 1, 1, 1, 0, 1, 0, 0, 0])"
            ]
          },
          "metadata": {},
          "execution_count": 35
        }
      ]
    },
    {
      "cell_type": "code",
      "source": [
        "#Evaluating the accuracy of model in Kaggle- the file to be submitted must have PassengerId and the target variable Survived\n",
        "#1) Convert the target variable column to a list\n",
        "y_pred_list=y_pred.tolist()\n"
      ],
      "metadata": {
        "id": "0lxCmTVeo476"
      },
      "execution_count": 36,
      "outputs": []
    },
    {
      "cell_type": "code",
      "source": [
        "#2) Create a dataframe with Passenger ID and target variable Survived\n",
        "titanic_df=pd.DataFrame(titanic_reg['PassengerId'])\n",
        "titanic_df['Survived']=y_pred_list\n",
        "titanic_df"
      ],
      "metadata": {
        "colab": {
          "base_uri": "https://localhost:8080/",
          "height": 424
        },
        "outputId": "de980b12-5d1c-4030-cb74-c23fe59e4a80",
        "id": "JamvtXL_cYxO"
      },
      "execution_count": 46,
      "outputs": [
        {
          "output_type": "execute_result",
          "data": {
            "text/plain": [
              "     PassengerId  Survived\n",
              "0            892         0\n",
              "1            893         1\n",
              "2            894         0\n",
              "3            895         0\n",
              "4            896         1\n",
              "..           ...       ...\n",
              "413         1305         0\n",
              "414         1306         1\n",
              "415         1307         0\n",
              "416         1308         0\n",
              "417         1309         0\n",
              "\n",
              "[418 rows x 2 columns]"
            ],
            "text/html": [
              "\n",
              "  <div id=\"df-33394c1c-726c-44a8-9cf8-ab9c2812cdd5\">\n",
              "    <div class=\"colab-df-container\">\n",
              "      <div>\n",
              "<style scoped>\n",
              "    .dataframe tbody tr th:only-of-type {\n",
              "        vertical-align: middle;\n",
              "    }\n",
              "\n",
              "    .dataframe tbody tr th {\n",
              "        vertical-align: top;\n",
              "    }\n",
              "\n",
              "    .dataframe thead th {\n",
              "        text-align: right;\n",
              "    }\n",
              "</style>\n",
              "<table border=\"1\" class=\"dataframe\">\n",
              "  <thead>\n",
              "    <tr style=\"text-align: right;\">\n",
              "      <th></th>\n",
              "      <th>PassengerId</th>\n",
              "      <th>Survived</th>\n",
              "    </tr>\n",
              "  </thead>\n",
              "  <tbody>\n",
              "    <tr>\n",
              "      <th>0</th>\n",
              "      <td>892</td>\n",
              "      <td>0</td>\n",
              "    </tr>\n",
              "    <tr>\n",
              "      <th>1</th>\n",
              "      <td>893</td>\n",
              "      <td>1</td>\n",
              "    </tr>\n",
              "    <tr>\n",
              "      <th>2</th>\n",
              "      <td>894</td>\n",
              "      <td>0</td>\n",
              "    </tr>\n",
              "    <tr>\n",
              "      <th>3</th>\n",
              "      <td>895</td>\n",
              "      <td>0</td>\n",
              "    </tr>\n",
              "    <tr>\n",
              "      <th>4</th>\n",
              "      <td>896</td>\n",
              "      <td>1</td>\n",
              "    </tr>\n",
              "    <tr>\n",
              "      <th>...</th>\n",
              "      <td>...</td>\n",
              "      <td>...</td>\n",
              "    </tr>\n",
              "    <tr>\n",
              "      <th>413</th>\n",
              "      <td>1305</td>\n",
              "      <td>0</td>\n",
              "    </tr>\n",
              "    <tr>\n",
              "      <th>414</th>\n",
              "      <td>1306</td>\n",
              "      <td>1</td>\n",
              "    </tr>\n",
              "    <tr>\n",
              "      <th>415</th>\n",
              "      <td>1307</td>\n",
              "      <td>0</td>\n",
              "    </tr>\n",
              "    <tr>\n",
              "      <th>416</th>\n",
              "      <td>1308</td>\n",
              "      <td>0</td>\n",
              "    </tr>\n",
              "    <tr>\n",
              "      <th>417</th>\n",
              "      <td>1309</td>\n",
              "      <td>0</td>\n",
              "    </tr>\n",
              "  </tbody>\n",
              "</table>\n",
              "<p>418 rows × 2 columns</p>\n",
              "</div>\n",
              "      <button class=\"colab-df-convert\" onclick=\"convertToInteractive('df-33394c1c-726c-44a8-9cf8-ab9c2812cdd5')\"\n",
              "              title=\"Convert this dataframe to an interactive table.\"\n",
              "              style=\"display:none;\">\n",
              "        \n",
              "  <svg xmlns=\"http://www.w3.org/2000/svg\" height=\"24px\"viewBox=\"0 0 24 24\"\n",
              "       width=\"24px\">\n",
              "    <path d=\"M0 0h24v24H0V0z\" fill=\"none\"/>\n",
              "    <path d=\"M18.56 5.44l.94 2.06.94-2.06 2.06-.94-2.06-.94-.94-2.06-.94 2.06-2.06.94zm-11 1L8.5 8.5l.94-2.06 2.06-.94-2.06-.94L8.5 2.5l-.94 2.06-2.06.94zm10 10l.94 2.06.94-2.06 2.06-.94-2.06-.94-.94-2.06-.94 2.06-2.06.94z\"/><path d=\"M17.41 7.96l-1.37-1.37c-.4-.4-.92-.59-1.43-.59-.52 0-1.04.2-1.43.59L10.3 9.45l-7.72 7.72c-.78.78-.78 2.05 0 2.83L4 21.41c.39.39.9.59 1.41.59.51 0 1.02-.2 1.41-.59l7.78-7.78 2.81-2.81c.8-.78.8-2.07 0-2.86zM5.41 20L4 18.59l7.72-7.72 1.47 1.35L5.41 20z\"/>\n",
              "  </svg>\n",
              "      </button>\n",
              "      \n",
              "  <style>\n",
              "    .colab-df-container {\n",
              "      display:flex;\n",
              "      flex-wrap:wrap;\n",
              "      gap: 12px;\n",
              "    }\n",
              "\n",
              "    .colab-df-convert {\n",
              "      background-color: #E8F0FE;\n",
              "      border: none;\n",
              "      border-radius: 50%;\n",
              "      cursor: pointer;\n",
              "      display: none;\n",
              "      fill: #1967D2;\n",
              "      height: 32px;\n",
              "      padding: 0 0 0 0;\n",
              "      width: 32px;\n",
              "    }\n",
              "\n",
              "    .colab-df-convert:hover {\n",
              "      background-color: #E2EBFA;\n",
              "      box-shadow: 0px 1px 2px rgba(60, 64, 67, 0.3), 0px 1px 3px 1px rgba(60, 64, 67, 0.15);\n",
              "      fill: #174EA6;\n",
              "    }\n",
              "\n",
              "    [theme=dark] .colab-df-convert {\n",
              "      background-color: #3B4455;\n",
              "      fill: #D2E3FC;\n",
              "    }\n",
              "\n",
              "    [theme=dark] .colab-df-convert:hover {\n",
              "      background-color: #434B5C;\n",
              "      box-shadow: 0px 1px 3px 1px rgba(0, 0, 0, 0.15);\n",
              "      filter: drop-shadow(0px 1px 2px rgba(0, 0, 0, 0.3));\n",
              "      fill: #FFFFFF;\n",
              "    }\n",
              "  </style>\n",
              "\n",
              "      <script>\n",
              "        const buttonEl =\n",
              "          document.querySelector('#df-33394c1c-726c-44a8-9cf8-ab9c2812cdd5 button.colab-df-convert');\n",
              "        buttonEl.style.display =\n",
              "          google.colab.kernel.accessAllowed ? 'block' : 'none';\n",
              "\n",
              "        async function convertToInteractive(key) {\n",
              "          const element = document.querySelector('#df-33394c1c-726c-44a8-9cf8-ab9c2812cdd5');\n",
              "          const dataTable =\n",
              "            await google.colab.kernel.invokeFunction('convertToInteractive',\n",
              "                                                     [key], {});\n",
              "          if (!dataTable) return;\n",
              "\n",
              "          const docLinkHtml = 'Like what you see? Visit the ' +\n",
              "            '<a target=\"_blank\" href=https://colab.research.google.com/notebooks/data_table.ipynb>data table notebook</a>'\n",
              "            + ' to learn more about interactive tables.';\n",
              "          element.innerHTML = '';\n",
              "          dataTable['output_type'] = 'display_data';\n",
              "          await google.colab.output.renderOutput(dataTable, element);\n",
              "          const docLink = document.createElement('div');\n",
              "          docLink.innerHTML = docLinkHtml;\n",
              "          element.appendChild(docLink);\n",
              "        }\n",
              "      </script>\n",
              "    </div>\n",
              "  </div>\n",
              "  "
            ]
          },
          "metadata": {},
          "execution_count": 46
        }
      ]
    },
    {
      "cell_type": "code",
      "source": [
        "#Converting data frame to csv\n",
        "from google.colab import files\n",
        "titanic_df.to_csv('titanic.csv', encoding = 'utf-8-sig') \n",
        "files.download('titanic.csv')"
      ],
      "metadata": {
        "colab": {
          "base_uri": "https://localhost:8080/",
          "height": 17
        },
        "id": "15-2mz7epgqJ",
        "outputId": "6ca4967c-f5e8-4faa-f784-c5ec47f6ab24"
      },
      "execution_count": null,
      "outputs": [
        {
          "output_type": "display_data",
          "data": {
            "text/plain": [
              "<IPython.core.display.Javascript object>"
            ],
            "application/javascript": [
              "\n",
              "    async function download(id, filename, size) {\n",
              "      if (!google.colab.kernel.accessAllowed) {\n",
              "        return;\n",
              "      }\n",
              "      const div = document.createElement('div');\n",
              "      const label = document.createElement('label');\n",
              "      label.textContent = `Downloading \"${filename}\": `;\n",
              "      div.appendChild(label);\n",
              "      const progress = document.createElement('progress');\n",
              "      progress.max = size;\n",
              "      div.appendChild(progress);\n",
              "      document.body.appendChild(div);\n",
              "\n",
              "      const buffers = [];\n",
              "      let downloaded = 0;\n",
              "\n",
              "      const channel = await google.colab.kernel.comms.open(id);\n",
              "      // Send a message to notify the kernel that we're ready.\n",
              "      channel.send({})\n",
              "\n",
              "      for await (const message of channel.messages) {\n",
              "        // Send a message to notify the kernel that we're ready.\n",
              "        channel.send({})\n",
              "        if (message.buffers) {\n",
              "          for (const buffer of message.buffers) {\n",
              "            buffers.push(buffer);\n",
              "            downloaded += buffer.byteLength;\n",
              "            progress.value = downloaded;\n",
              "          }\n",
              "        }\n",
              "      }\n",
              "      const blob = new Blob(buffers, {type: 'application/binary'});\n",
              "      const a = document.createElement('a');\n",
              "      a.href = window.URL.createObjectURL(blob);\n",
              "      a.download = filename;\n",
              "      div.appendChild(a);\n",
              "      a.click();\n",
              "      div.remove();\n",
              "    }\n",
              "  "
            ]
          },
          "metadata": {}
        },
        {
          "output_type": "display_data",
          "data": {
            "text/plain": [
              "<IPython.core.display.Javascript object>"
            ],
            "application/javascript": [
              "download(\"download_a1f85a85-1410-43c7-949b-5bfc96b7cfb1\", \"titanic.csv\", 4405)"
            ]
          },
          "metadata": {}
        }
      ]
    },
    {
      "cell_type": "markdown",
      "source": [
        "![titanic_accuracy.PNG](data:image/png;base64,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)"
      ],
      "metadata": {
        "id": "puus7lWmyp29"
      }
    },
    {
      "cell_type": "code",
      "source": [
        "#Hyperparameter tuning to improve model performance\n",
        "param_grid_lr = {\n",
        "        'max_iter': [200,300,400,500,600,700,800],\n",
        "    #'penalty': ['l1', 'l2', 'elasticnet', 'none'],                      \n",
        "    'solver': ['newton-cg', 'lbfgs', 'liblinear', 'sag', 'saga'],   \n",
        "    'class_weight': ['balanced'],     \n",
        "    'C':np.logspace(-5,8,15)                           \n",
        "}"
      ],
      "metadata": {
        "id": "671xgEAPhzAS"
      },
      "execution_count": 50,
      "outputs": []
    },
    {
      "cell_type": "code",
      "source": [
        "#Import gridsearch\n",
        "from sklearn.model_selection import GridSearchCV\n",
        "\n",
        "logModel_grid = GridSearchCV(log_reg, param_grid=param_grid_lr, verbose=1, cv=10, n_jobs=-1)\n",
        "logModel_grid.fit(X, y)\n",
        "print(logModel_grid.best_estimator_)"
      ],
      "metadata": {
        "colab": {
          "base_uri": "https://localhost:8080/",
          "height": 0
        },
        "id": "oiHpEx3CiwtH",
        "outputId": "818279d5-c8ea-472f-ef4f-2222f2b1a58c"
      },
      "execution_count": 51,
      "outputs": [
        {
          "output_type": "stream",
          "name": "stdout",
          "text": [
            "Fitting 10 folds for each of 525 candidates, totalling 5250 fits\n",
            "LogisticRegression(C=0.05179474679231213, class_weight='balanced', max_iter=200,\n",
            "                   solver='liblinear')\n"
          ]
        }
      ]
    },
    {
      "cell_type": "code",
      "source": [
        "y_pred = logModel_grid.predict(X_test)\n",
        "print(y_pred)"
      ],
      "metadata": {
        "colab": {
          "base_uri": "https://localhost:8080/",
          "height": 0
        },
        "id": "E3Y8pWbukecm",
        "outputId": "cde30ccf-58ed-4763-97f6-e067232342f0"
      },
      "execution_count": 52,
      "outputs": [
        {
          "output_type": "stream",
          "name": "stdout",
          "text": [
            "[0 1 0 0 1 0 1 0 1 0 0 0 1 0 1 1 0 0 1 1 0 0 1 0 1 0 1 0 0 0 0 0 1 1 0 0 1\n",
            " 1 0 0 0 0 0 1 1 0 0 0 1 1 0 0 1 1 0 0 0 0 0 1 0 0 0 1 0 1 1 0 0 1 1 0 1 0\n",
            " 1 0 0 1 0 1 0 0 0 0 0 0 1 1 1 0 1 0 1 0 0 0 1 0 1 0 1 0 0 0 1 0 0 0 0 0 0\n",
            " 1 1 1 1 0 0 1 0 1 1 0 1 0 0 1 0 0 0 0 0 0 1 0 0 0 0 0 1 0 1 1 0 0 0 0 0 0\n",
            " 0 0 1 0 0 1 0 0 1 1 0 1 1 0 1 0 0 1 0 0 1 1 0 0 0 0 0 1 1 0 1 1 0 0 1 0 1\n",
            " 0 1 0 0 0 0 0 0 0 0 0 0 1 0 1 1 0 0 1 0 0 1 0 1 0 0 0 0 1 1 0 1 0 1 0 1 0\n",
            " 1 0 1 1 0 1 0 0 0 1 0 0 0 0 0 0 1 1 1 1 0 0 0 0 1 0 1 0 1 0 0 0 0 0 0 0 1\n",
            " 0 0 0 1 1 0 0 0 0 1 0 0 0 1 1 0 1 0 0 0 0 1 0 1 1 1 0 0 0 0 0 0 1 0 0 0 0\n",
            " 1 0 0 0 0 0 0 0 1 1 0 0 0 1 0 0 0 1 1 1 0 0 0 0 0 0 0 0 1 0 1 0 0 0 1 0 0\n",
            " 1 0 0 0 0 0 0 0 0 1 1 0 1 0 1 0 1 1 0 0 0 1 0 1 0 0 1 0 1 1 0 1 1 0 1 1 0\n",
            " 0 1 0 0 1 1 1 0 0 0 0 0 1 1 0 1 0 0 0 0 0 1 0 0 0 1 0 1 0 0 1 0 1 0 0 0 0\n",
            " 0 1 1 1 1 1 0 1 0 0 0]\n"
          ]
        }
      ]
    },
    {
      "cell_type": "code",
      "source": [
        "y_pred_list=y_pred.tolist()\n",
        "\n",
        "titanic_df_2=pd.DataFrame(titanic_reg['PassengerId'])\n",
        "titanic_df_2['Survived']=y_pred_list\n",
        "titanic_df_2"
      ],
      "metadata": {
        "colab": {
          "base_uri": "https://localhost:8080/",
          "height": 424
        },
        "id": "fejYEXCCkiQK",
        "outputId": "24ed9f41-b1f5-45a5-91dc-3b77cf9c5848"
      },
      "execution_count": 53,
      "outputs": [
        {
          "output_type": "execute_result",
          "data": {
            "text/plain": [
              "     PassengerId  Survived\n",
              "0            892         0\n",
              "1            893         1\n",
              "2            894         0\n",
              "3            895         0\n",
              "4            896         1\n",
              "..           ...       ...\n",
              "413         1305         0\n",
              "414         1306         1\n",
              "415         1307         0\n",
              "416         1308         0\n",
              "417         1309         0\n",
              "\n",
              "[418 rows x 2 columns]"
            ],
            "text/html": [
              "\n",
              "  <div id=\"df-5b027ba3-cf0f-4892-a88b-9231545bf242\">\n",
              "    <div class=\"colab-df-container\">\n",
              "      <div>\n",
              "<style scoped>\n",
              "    .dataframe tbody tr th:only-of-type {\n",
              "        vertical-align: middle;\n",
              "    }\n",
              "\n",
              "    .dataframe tbody tr th {\n",
              "        vertical-align: top;\n",
              "    }\n",
              "\n",
              "    .dataframe thead th {\n",
              "        text-align: right;\n",
              "    }\n",
              "</style>\n",
              "<table border=\"1\" class=\"dataframe\">\n",
              "  <thead>\n",
              "    <tr style=\"text-align: right;\">\n",
              "      <th></th>\n",
              "      <th>PassengerId</th>\n",
              "      <th>Survived</th>\n",
              "    </tr>\n",
              "  </thead>\n",
              "  <tbody>\n",
              "    <tr>\n",
              "      <th>0</th>\n",
              "      <td>892</td>\n",
              "      <td>0</td>\n",
              "    </tr>\n",
              "    <tr>\n",
              "      <th>1</th>\n",
              "      <td>893</td>\n",
              "      <td>1</td>\n",
              "    </tr>\n",
              "    <tr>\n",
              "      <th>2</th>\n",
              "      <td>894</td>\n",
              "      <td>0</td>\n",
              "    </tr>\n",
              "    <tr>\n",
              "      <th>3</th>\n",
              "      <td>895</td>\n",
              "      <td>0</td>\n",
              "    </tr>\n",
              "    <tr>\n",
              "      <th>4</th>\n",
              "      <td>896</td>\n",
              "      <td>1</td>\n",
              "    </tr>\n",
              "    <tr>\n",
              "      <th>...</th>\n",
              "      <td>...</td>\n",
              "      <td>...</td>\n",
              "    </tr>\n",
              "    <tr>\n",
              "      <th>413</th>\n",
              "      <td>1305</td>\n",
              "      <td>0</td>\n",
              "    </tr>\n",
              "    <tr>\n",
              "      <th>414</th>\n",
              "      <td>1306</td>\n",
              "      <td>1</td>\n",
              "    </tr>\n",
              "    <tr>\n",
              "      <th>415</th>\n",
              "      <td>1307</td>\n",
              "      <td>0</td>\n",
              "    </tr>\n",
              "    <tr>\n",
              "      <th>416</th>\n",
              "      <td>1308</td>\n",
              "      <td>0</td>\n",
              "    </tr>\n",
              "    <tr>\n",
              "      <th>417</th>\n",
              "      <td>1309</td>\n",
              "      <td>0</td>\n",
              "    </tr>\n",
              "  </tbody>\n",
              "</table>\n",
              "<p>418 rows × 2 columns</p>\n",
              "</div>\n",
              "      <button class=\"colab-df-convert\" onclick=\"convertToInteractive('df-5b027ba3-cf0f-4892-a88b-9231545bf242')\"\n",
              "              title=\"Convert this dataframe to an interactive table.\"\n",
              "              style=\"display:none;\">\n",
              "        \n",
              "  <svg xmlns=\"http://www.w3.org/2000/svg\" height=\"24px\"viewBox=\"0 0 24 24\"\n",
              "       width=\"24px\">\n",
              "    <path d=\"M0 0h24v24H0V0z\" fill=\"none\"/>\n",
              "    <path d=\"M18.56 5.44l.94 2.06.94-2.06 2.06-.94-2.06-.94-.94-2.06-.94 2.06-2.06.94zm-11 1L8.5 8.5l.94-2.06 2.06-.94-2.06-.94L8.5 2.5l-.94 2.06-2.06.94zm10 10l.94 2.06.94-2.06 2.06-.94-2.06-.94-.94-2.06-.94 2.06-2.06.94z\"/><path d=\"M17.41 7.96l-1.37-1.37c-.4-.4-.92-.59-1.43-.59-.52 0-1.04.2-1.43.59L10.3 9.45l-7.72 7.72c-.78.78-.78 2.05 0 2.83L4 21.41c.39.39.9.59 1.41.59.51 0 1.02-.2 1.41-.59l7.78-7.78 2.81-2.81c.8-.78.8-2.07 0-2.86zM5.41 20L4 18.59l7.72-7.72 1.47 1.35L5.41 20z\"/>\n",
              "  </svg>\n",
              "      </button>\n",
              "      \n",
              "  <style>\n",
              "    .colab-df-container {\n",
              "      display:flex;\n",
              "      flex-wrap:wrap;\n",
              "      gap: 12px;\n",
              "    }\n",
              "\n",
              "    .colab-df-convert {\n",
              "      background-color: #E8F0FE;\n",
              "      border: none;\n",
              "      border-radius: 50%;\n",
              "      cursor: pointer;\n",
              "      display: none;\n",
              "      fill: #1967D2;\n",
              "      height: 32px;\n",
              "      padding: 0 0 0 0;\n",
              "      width: 32px;\n",
              "    }\n",
              "\n",
              "    .colab-df-convert:hover {\n",
              "      background-color: #E2EBFA;\n",
              "      box-shadow: 0px 1px 2px rgba(60, 64, 67, 0.3), 0px 1px 3px 1px rgba(60, 64, 67, 0.15);\n",
              "      fill: #174EA6;\n",
              "    }\n",
              "\n",
              "    [theme=dark] .colab-df-convert {\n",
              "      background-color: #3B4455;\n",
              "      fill: #D2E3FC;\n",
              "    }\n",
              "\n",
              "    [theme=dark] .colab-df-convert:hover {\n",
              "      background-color: #434B5C;\n",
              "      box-shadow: 0px 1px 3px 1px rgba(0, 0, 0, 0.15);\n",
              "      filter: drop-shadow(0px 1px 2px rgba(0, 0, 0, 0.3));\n",
              "      fill: #FFFFFF;\n",
              "    }\n",
              "  </style>\n",
              "\n",
              "      <script>\n",
              "        const buttonEl =\n",
              "          document.querySelector('#df-5b027ba3-cf0f-4892-a88b-9231545bf242 button.colab-df-convert');\n",
              "        buttonEl.style.display =\n",
              "          google.colab.kernel.accessAllowed ? 'block' : 'none';\n",
              "\n",
              "        async function convertToInteractive(key) {\n",
              "          const element = document.querySelector('#df-5b027ba3-cf0f-4892-a88b-9231545bf242');\n",
              "          const dataTable =\n",
              "            await google.colab.kernel.invokeFunction('convertToInteractive',\n",
              "                                                     [key], {});\n",
              "          if (!dataTable) return;\n",
              "\n",
              "          const docLinkHtml = 'Like what you see? Visit the ' +\n",
              "            '<a target=\"_blank\" href=https://colab.research.google.com/notebooks/data_table.ipynb>data table notebook</a>'\n",
              "            + ' to learn more about interactive tables.';\n",
              "          element.innerHTML = '';\n",
              "          dataTable['output_type'] = 'display_data';\n",
              "          await google.colab.output.renderOutput(dataTable, element);\n",
              "          const docLink = document.createElement('div');\n",
              "          docLink.innerHTML = docLinkHtml;\n",
              "          element.appendChild(docLink);\n",
              "        }\n",
              "      </script>\n",
              "    </div>\n",
              "  </div>\n",
              "  "
            ]
          },
          "metadata": {},
          "execution_count": 53
        }
      ]
    },
    {
      "cell_type": "code",
      "source": [
        "from google.colab import files\n",
        "titanic_df_2.to_csv('titanic_2.csv', encoding = 'utf-8-sig') \n",
        "files.download('titanic_2.csv')"
      ],
      "metadata": {
        "colab": {
          "base_uri": "https://localhost:8080/",
          "height": 17
        },
        "id": "W5rCmMhSlAtn",
        "outputId": "206f225c-2b06-47a0-e6c6-10f797f25302"
      },
      "execution_count": 49,
      "outputs": [
        {
          "output_type": "display_data",
          "data": {
            "text/plain": [
              "<IPython.core.display.Javascript object>"
            ],
            "application/javascript": [
              "\n",
              "    async function download(id, filename, size) {\n",
              "      if (!google.colab.kernel.accessAllowed) {\n",
              "        return;\n",
              "      }\n",
              "      const div = document.createElement('div');\n",
              "      const label = document.createElement('label');\n",
              "      label.textContent = `Downloading \"${filename}\": `;\n",
              "      div.appendChild(label);\n",
              "      const progress = document.createElement('progress');\n",
              "      progress.max = size;\n",
              "      div.appendChild(progress);\n",
              "      document.body.appendChild(div);\n",
              "\n",
              "      const buffers = [];\n",
              "      let downloaded = 0;\n",
              "\n",
              "      const channel = await google.colab.kernel.comms.open(id);\n",
              "      // Send a message to notify the kernel that we're ready.\n",
              "      channel.send({})\n",
              "\n",
              "      for await (const message of channel.messages) {\n",
              "        // Send a message to notify the kernel that we're ready.\n",
              "        channel.send({})\n",
              "        if (message.buffers) {\n",
              "          for (const buffer of message.buffers) {\n",
              "            buffers.push(buffer);\n",
              "            downloaded += buffer.byteLength;\n",
              "            progress.value = downloaded;\n",
              "          }\n",
              "        }\n",
              "      }\n",
              "      const blob = new Blob(buffers, {type: 'application/binary'});\n",
              "      const a = document.createElement('a');\n",
              "      a.href = window.URL.createObjectURL(blob);\n",
              "      a.download = filename;\n",
              "      div.appendChild(a);\n",
              "      a.click();\n",
              "      div.remove();\n",
              "    }\n",
              "  "
            ]
          },
          "metadata": {}
        },
        {
          "output_type": "display_data",
          "data": {
            "text/plain": [
              "<IPython.core.display.Javascript object>"
            ],
            "application/javascript": [
              "download(\"download_f1645c64-a1b8-46c5-94e0-64f256fd0da0\", \"titanic_2.csv\", 4405)"
            ]
          },
          "metadata": {}
        }
      ]
    },
    {
      "cell_type": "code",
      "source": [
        "print(\"Tuned Logistic Regression Parameters: {}\".format(logModel_grid.best_params_))\n",
        "print(\"Best score is {}\".format(logModel_grid.best_score_))"
      ],
      "metadata": {
        "colab": {
          "base_uri": "https://localhost:8080/",
          "height": 0
        },
        "id": "DAgeH_OgMq_V",
        "outputId": "9188bbd6-00d3-486a-c3e9-b1bffe2166fb"
      },
      "execution_count": 54,
      "outputs": [
        {
          "output_type": "stream",
          "name": "stdout",
          "text": [
            "Tuned Logistic Regression Parameters: {'C': 0.05179474679231213, 'class_weight': 'balanced', 'max_iter': 200, 'solver': 'liblinear'}\n",
            "Best score is 0.7856179775280898\n"
          ]
        }
      ]
    },
    {
      "cell_type": "markdown",
      "source": [
        "By adjusting the parameters in hyperparameter modelling, we were able to improve the accuracy from 75% to 78%. "
      ],
      "metadata": {
        "id": "crekW6z2ZSh4"
      }
    }
  ]
}