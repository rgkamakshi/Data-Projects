{
 "cells": [
  {
   "cell_type": "markdown",
   "metadata": {
    "id": "7bYyOjdzhs1T"
   },
   "source": [
    "# Decision Tree & Ensemble Learning\n",
    "\n",
    "Classification And Regression Trees (CART for short) is a term introduced by [Leo Breiman](https://en.wikipedia.org/wiki/Leo_Breiman) to refer to Decision Tree algorithms that can be used for classification or regression predictive modeling problems.\n",
    "\n",
    "In this lab assignment, you will implement various ways to calculate impurity which is used to split data in constructing the decision trees and apply the Decision Tree and ensemble learning algorithms to solve two real-world problems: a classification one and a regression one. "
   ]
  },
  {
   "cell_type": "code",
   "execution_count": 35,
   "metadata": {
    "id": "WsJh8RbLhs1V"
   },
   "outputs": [],
   "source": [
    "# import packages\n",
    "%matplotlib inline\n",
    "import numpy as np\n",
    "import matplotlib.pyplot as plt\n",
    "import seaborn as sns\n",
    "import pandas as pd\n",
    "from matplotlib.legend_handler import HandlerLine2D\n",
    "from sklearn.metrics import accuracy_score\n",
    "from sklearn.metrics import confusion_matrix\n",
    "from sklearn.metrics import mean_squared_error\n",
    "from sklearn.metrics import mean_absolute_error\n",
    "from sklearn.linear_model import LinearRegression\n",
    "from sklearn.linear_model import LogisticRegression\n",
    "from sklearn.tree import DecisionTreeClassifier\n",
    "from sklearn.tree import DecisionTreeRegressor\n",
    "from sklearn.model_selection import GridSearchCV\n",
    "from sklearn.ensemble import RandomForestClassifier\n",
    "from sklearn.ensemble import RandomForestRegressor\n",
    "from sklearn.metrics import roc_auc_score\n",
    "from sklearn.ensemble import GradientBoostingClassifier\n",
    "from sklearn.ensemble import GradientBoostingRegressor\n",
    "from sklearn.ensemble import AdaBoostClassifier\n",
    "from sklearn.ensemble import AdaBoostRegressor\n",
    "from sklearn.model_selection import cross_val_score\n",
    "from sklearn.metrics import r2_score\n",
    "\n",
    "# make this notebook's output stable across runs\n",
    "np.random.seed(0)"
   ]
  },
  {
   "cell_type": "markdown",
   "metadata": {
    "id": "0wdJsuTqhs1a"
   },
   "source": [
    "## Gini impurity and Entropy\n"
   ]
  },
  {
   "cell_type": "markdown",
   "metadata": {
    "id": "gzfYaZ-hhs1b"
   },
   "source": [
    "#### Gini impurity\n",
    "\n",
    "The CART algorithm recursively splits the training set into two subsets using a single feature k and a threshold $t_k$. The best feature and threshold are chosen to produce the purest subsets weighted by their size. **Gini impurity** measures the impurity of the data points in a set and is used to evaluate how good a split is when the CART algorithm searches for the best pair of feature and the threshold.\n",
    "\n",
    "To compute Gini impurity for a set of items with J classes, suppose $i \\in \\{1, 2, \\dots, J\\}$ and let $p_i$ be the fraction of items labeled with class i in the set.\n",
    "\\begin{align}\n",
    "I(p) = 1 - \\sum_{i=1}^J p_i^2\n",
    "\\end{align}\n",
    "\n",
    "The following function calculates the gini impurity for a given set of data points."
   ]
  },
  {
   "cell_type": "code",
   "execution_count": 2,
   "metadata": {
    "id": "sNexBvnehs1c"
   },
   "outputs": [],
   "source": [
    "def gini_impurity(x):\n",
    "    \"\"\"\n",
    "    This function calculate the Gini impurity for a given set of data points.\n",
    "\n",
    "    Args:\n",
    "    x: a numpy ndarray\n",
    "    \"\"\"\n",
    "    unique, counts = np.unique(x, return_counts=True)\n",
    "    probabilities = counts / sum(counts)\n",
    "    gini = 1 - sum([p*p for p in probabilities])\n",
    "\n",
    "    return gini"
   ]
  },
  {
   "cell_type": "code",
   "execution_count": 4,
   "metadata": {
    "id": "WmZaWVMxhs1g"
   },
   "outputs": [],
   "source": [
    "gfg=gini_impurity(np.array([1, 0, 1, 0]))\n",
    "gfg1=np.testing.assert_equal(0, gini_impurity(np.array([1, 1, 1])))\n",
    "np.testing.assert_equal(0.5, gini_impurity(np.array([1, 0, 1, 0])))\n",
    "np.testing.assert_equal(3/4, gini_impurity(np.array(['a', 'b', 'c', 'd'])))\n",
    "np.testing.assert_almost_equal(2.0/3, gini_impurity(np.array([1, 2, 3, 1, 2, 3])))"
   ]
  },
  {
   "cell_type": "markdown",
   "metadata": {
    "id": "bSsc9tL7hs1k"
   },
   "source": [
    "#### Entropy\n",
    "\n",
    "Another popular measure of impurity is called **entropy**, which measures the average information content of a message. Entropy is zero when all messages are identical. When it applied to CART, a set's entropy is zero when it contains instances of only one class. Entropy is calculated as follows:\n",
    "\\begin{align}\n",
    "I(p) = - \\sum_{i=1}^J p_i log_2{p_i}\n",
    "\\end{align}\n",
    "\n",
    "<span style=\"color:orange\">**Question 1: In this exercise, you will implement the entropy function.**"
   ]
  },
  {
   "cell_type": "code",
   "execution_count": 48,
   "metadata": {
    "id": "Wr8caP2Xhs1l"
   },
   "outputs": [],
   "source": [
    "import math\n",
    "from math import log2\n",
    "def entropy(x):\n",
    "    \"\"\"\n",
    "    TODO: This function calculate the entropy of an array.\n",
    "\n",
    "    Args:\n",
    "    x: a numpy ndarray\n",
    "    \"\"\"\n",
    "    unique_n, counts_n = np.unique(x,return_counts=True)\n",
    "    print('The number of unique is {} and their counts is {}'.format(unique_n,counts_n))\n",
    "    probabilities_en = counts_n/sum(counts_n)\n",
    "    print(probabilities_en)\n",
    "    #e = np.sum([-x*math.log2(x) for x in probabilities_en])\n",
    "    e= -(sum(x* log2(x) for x in probabilities_en if x!=1))\n",
    "    return e\n"
   ]
  },
  {
   "cell_type": "code",
   "execution_count": 49,
   "metadata": {
    "colab": {
     "base_uri": "https://localhost:8080/"
    },
    "id": "xpOdGMWDhs1p",
    "outputId": "a9ee757f-d65d-4492-dc20-d45418ac8a35"
   },
   "outputs": [
    {
     "name": "stdout",
     "output_type": "stream",
     "text": [
      "The number of unique is [1] and their counts is [3]\n",
      "[1.]\n",
      "The number of unique is [0 1] and their counts is [2 2]\n",
      "[0.5 0.5]\n",
      "The number of unique is ['a' 'b' 'c' 'd'] and their counts is [1 1 1 1]\n",
      "[0.25 0.25 0.25 0.25]\n",
      "The number of unique is [1 2 3] and their counts is [2 2 2]\n",
      "[0.33333333 0.33333333 0.33333333]\n"
     ]
    }
   ],
   "source": [
    "np.testing.assert_equal(0, entropy(np.array([1, 1, 1])))\n",
    "np.testing.assert_equal(1.0, entropy(np.array([1, 0, 1, 0])))\n",
    "np.testing.assert_equal(2.0, entropy(np.array(['a', 'b', 'c', 'd'])))\n",
    "np.testing.assert_almost_equal(1.58496, entropy(np.array([1, 2, 3, 1, 2, 3])), 4)"
   ]
  },
  {
   "cell_type": "markdown",
   "metadata": {
    "id": "4qX1XT12hs1t"
   },
   "source": [
    "---"
   ]
  },
  {
   "cell_type": "markdown",
   "metadata": {
    "id": "EZGblkNkhs2g"
   },
   "source": [
    "## Iris dataset\n",
    "\n",
    "The Iris data set contains the morphologic variation of Iris flowers of three related species (Iris setosa, Iris virginica and Iris versicolor). Four features were measured from each observation (see image below):\n",
    "- Sepal.Length: sepal length in centimeters.\n",
    "- Sepal.Width: sepal width in centimeters.\n",
    "- Petal.Length: petal length in centimeters.\n",
    "- Petal.Width: petal width in centimeters.\n",
    "\n",
    "<table>\n",
    "  <tr>\n",
    "    <td><img src=\"https://upload.wikimedia.org/wikipedia/commons/thumb/5/56/Kosaciec_szczecinkowaty_Iris_setosa.jpg/180px-Kosaciec_szczecinkowaty_Iris_setosa.jpg\" style=\"width:250px\"></td>\n",
    "    <td><img src=\"https://www.math.umd.edu/~petersd/666/html/iris_with_labels.jpg\" width=\"250px\"></td>\n",
    "    <td><img src=\"https://upload.wikimedia.org/wikipedia/commons/thumb/9/9f/Iris_virginica.jpg/295px-Iris_virginica.jpg\" width=\"250px\"></td>\n",
    "  </tr>\n",
    "  <tr>\n",
    "    <td>Iris setosa</td>\n",
    "    <td>Iris versicolor</td>\n",
    "    <td>Iris virginica</td>\n",
    "  </tr>\n",
    "</table>\n"
   ]
  },
  {
   "cell_type": "code",
   "execution_count": 54,
   "metadata": {
    "colab": {
     "base_uri": "https://localhost:8080/"
    },
    "id": "8BfuNcWVhs2h",
    "outputId": "45e0c08b-c3c3-49b5-96fb-c146576b120a"
   },
   "outputs": [
    {
     "name": "stdout",
     "output_type": "stream",
     "text": [
      "Iris-setosa        34\n",
      "Iris-versicolor    32\n",
      "Iris-virginica     39\n",
      "Name: species, dtype: int64\n",
      "Iris-setosa        16\n",
      "Iris-versicolor    18\n",
      "Iris-virginica     11\n",
      "Name: species, dtype: int64\n"
     ]
    }
   ],
   "source": [
    "# load the iris train and test data from CSV files\n",
    "train = pd.read_csv('https://raw.githubusercontent.com/zariable/data/master/iris_train.csv')\n",
    "test = pd.read_csv('https://raw.githubusercontent.com/zariable/data/master/iris_test.csv')\n",
    "\n",
    "train_x = train.iloc[:,0:4]\n",
    "train_y = train.iloc[:,4]\n",
    "\n",
    "test_x = test.iloc[:,0:4]\n",
    "test_y = test.iloc[:,4]\n",
    "\n",
    "# print the number of instances in each class\n",
    "print(train_y.value_counts().sort_index())\n",
    "print(test_y.value_counts().sort_index())"
   ]
  },
  {
   "cell_type": "code",
   "execution_count": null,
   "metadata": {
    "id": "BBKIotsDJth5"
   },
   "outputs": [],
   "source": [
    "from google.colab import drive\n",
    "drive.mount('/content/drive')"
   ]
  },
  {
   "cell_type": "markdown",
   "metadata": {
    "id": "tpe8jv7Qhs2f"
   },
   "source": [
    "### Decision Tree Classifier\n",
    "\n",
    "<span style=\"color:orange\">**In this exercise, we will apply the Decision Tree classifier to classify the Iris flower data.**"
   ]
  },
  {
   "cell_type": "markdown",
   "metadata": {
    "id": "8JwQoOdPhs2j"
   },
   "source": [
    "#### Train and visualize a simple Decision Tree\n",
    "\n",
    "<span style=\"color:orange\">**Question 2: create a decision tree with max_depth of 2.**"
   ]
  },
  {
   "cell_type": "code",
   "execution_count": 52,
   "metadata": {
    "id": "kQzTTFGlhs2k",
    "scrolled": true
   },
   "outputs": [],
   "source": [
    "# TODO: read the scikit-learn doc on DecisionTreeClassifier and train a Decision Tree with max depth of 2\n",
    "dtc = DecisionTreeClassifier(criterion='entropy',max_depth=2)\n",
    "dtc = dtc.fit(train_x,train_y)\n"
   ]
  },
  {
   "cell_type": "markdown",
   "metadata": {
    "id": "Tn25MVpchs2n"
   },
   "source": [
    "Now let's visualize the decision tree we just trained on the iris dataset and see how it makes predictions. Note that if the following code does not work for you because the graphviz is missing, do not worry about it and you should still be able to move on."
   ]
  },
  {
   "cell_type": "code",
   "execution_count": 53,
   "metadata": {
    "colab": {
     "base_uri": "https://localhost:8080/",
     "height": 436
    },
    "id": "Y80Nilx1hs2o",
    "outputId": "f30e7892-642d-4c5a-cfd3-9e63739c349d",
    "scrolled": true
   },
   "outputs": [
    {
     "data": {
      "image/png": "[encoded data removed]",
      "text/plain": [
       "<IPython.core.display.Image object>"
      ]
     },
     "execution_count": 53,
     "metadata": {},
     "output_type": "execute_result"
    }
   ],
   "source": [
    "from six import StringIO\n",
    "#from sklearn.externals.six import StringIO  \n",
    "from IPython.display import Image  \n",
    "from sklearn.tree import export_graphviz\n",
    "import pydotplus\n",
    "\n",
    "dot_data = StringIO()\n",
    "feature_names = train_x.columns\n",
    "class_names = train_y.unique()\n",
    "class_names.sort()\n",
    "export_graphviz(dtc, out_file=dot_data, feature_names=feature_names, class_names=class_names, filled=True, rounded=True)\n",
    "graph = pydotplus.graph_from_dot_data(dot_data.getvalue())  \n",
    "Image(graph.create_png())"
   ]
  },
  {
   "cell_type": "markdown",
   "metadata": {
    "id": "ZgqeLw6Lhs2t"
   },
   "source": [
    "Decision trees are easy to inteprete and is often referred to as *whitebox* machine learning algorithm. Let's see how this decision tree represented above makes predictions. Suppose you find an iris flower and want to classify it into setosa, versicolor or virginica. You start at the root node (the very top node in the tree). In this node, we check if the flower's patel length is smaller than or equal to 2.35 cm. If it is, we move to the left child and predict setosa to be its class. Otherwise, we move to the right child node. Then similarly we check if the petal length is smaller than or equal to 4.95 cm. If it is, we move to its left child node and predict versicolor to be its class. Otherwise, we move to its right child and predict virginica to be its class. "
   ]
  },
  {
   "cell_type": "markdown",
   "metadata": {
    "id": "W94pWMvIhs2t"
   },
   "source": [
    "#### Prediction with Decision tree\n",
    "\n",
    "With this simple decision tree above, we can apply it to make predictions on the test dataset and evaluate its performance.\n",
    "\n",
    "<span style=\"color:orange\">**Question 3: make prediction using the trained decision tree model on the test data.**"
   ]
  },
  {
   "cell_type": "code",
   "execution_count": null,
   "metadata": {
    "colab": {
     "base_uri": "https://localhost:8080/"
    },
    "id": "ugRPudSThs2u",
    "outputId": "105a1c07-ccae-4e2d-8f7e-92bff7124c09"
   },
   "outputs": [
    {
     "name": "stdout",
     "output_type": "stream",
     "text": [
      "model accuracy: 0.9111111111111111\n",
      "model confusion matrix:\n",
      " [[16  0  0]\n",
      " [ 0 17  1]\n",
      " [ 0  3  8]]\n"
     ]
    }
   ],
   "source": [
    "# TODO: use the trained decision tree model to make predictions on the test data and evaluate the model performance.\n",
    "test_z = dtc.predict(test_x)\n",
    "#print(\"Accuracy:\",accuracy_score(test_y, test_z))\n",
    "\n",
    "print(\"model accuracy: {}\".format(accuracy_score(test_y, test_z)))\n",
    "print(\"model confusion matrix:\\n {}\".format(confusion_matrix(test_y, test_z, labels=['Iris-setosa', 'Iris-versicolor', 'Iris-virginica'])))"
   ]
  },
  {
   "cell_type": "markdown",
   "metadata": {
    "id": "RMzcZjQQhs2x"
   },
   "source": [
    "#### Hyper-parameters\n",
    "\n",
    "Hyper-parameter controls the complexity of the decision tree model. For example, the deeper the tree is, the more complex patterns the model will be able to capture. In this exercise, we train the decision trees with increasing number of maximum depth and plot its performance. We should see the accuracy of the training data increase as the tree grows deeper, but the accuracy on the test data might not as the model will eventually start to overfit and does not generalize well on the unseen test data.\n",
    "\n",
    "<span style=\"color:orange\">**Question 4: for each value of max_depth, we train a decision tree model and evaluate its accuracy on both train and test data, and plot both accuracies in the figure.**"
   ]
  },
  {
   "cell_type": "code",
   "execution_count": 23,
   "metadata": {
    "colab": {
     "base_uri": "https://localhost:8080/",
     "height": 427
    },
    "id": "jWR5v40EDmO7",
    "outputId": "9e974d59-47c4-4776-98ff-2f3ed48ffb64"
   },
   "outputs": [
    {
     "name": "stdout",
     "output_type": "stream",
     "text": [
      "model accuracy for training data with max depth 2: 0.9619047619047619\n",
      "model accuracy for test data with max depth 2: 0.9111111111111111\n",
      "model accuracy for training data with max depth 3: 0.9809523809523809\n",
      "model accuracy for test data with max depth 3: 0.9777777777777777\n",
      "model accuracy for training data with max depth 4: 1.0\n",
      "model accuracy for test data with max depth 4: 0.9777777777777777\n",
      "model accuracy for training data with max depth 5: 1.0\n",
      "model accuracy for test data with max depth 5: 0.9777777777777777\n"
     ]
    },
    {
     "data": {
      "text/plain": [
       "<matplotlib.legend.Legend at 0x7f34fde4df40>"
      ]
     },
     "execution_count": 23,
     "metadata": {},
     "output_type": "execute_result"
    },
    {
     "data": {
      "image/png": "[encoded data removed]",
      "text/plain": [
       "<Figure size 432x288 with 1 Axes>"
      ]
     },
     "metadata": {
      "needs_background": "light"
     },
     "output_type": "display_data"
    }
   ],
   "source": [
    "# TODO: train the decision tree model with various max_depth, make predictions and evaluate on both train and test data.\n",
    "\n",
    "train_accuracy = []\n",
    "test_accuracy=[]\n",
    "depth = [2,3,4,5]\n",
    "for i in depth:\n",
    "  dtc_1 = DecisionTreeClassifier(criterion='entropy',max_depth=i)\n",
    "  dtc_1.fit(train_x,train_y)\n",
    "  train_accuracy_1= dtc_1.predict(train_x)\n",
    "  training_score = accuracy_score(train_y, train_accuracy_1)\n",
    "  train_accuracy.append(training_score)\n",
    "\n",
    "  test_accuracy_1= dtc_1.predict(test_x)\n",
    "  test_score = accuracy_score(test_y, test_accuracy_1)\n",
    "  test_accuracy.append(test_score)\n",
    "  print(\"model accuracy for training data with max depth {}: {}\".format(i,accuracy_score(train_y, train_accuracy_1)))\n",
    "  print(\"model accuracy for test data with max depth {}: {}\".format(i,accuracy_score(test_y, test_accuracy_1)))\n",
    "\n",
    "plt.plot(depth,train_accuracy,label='training data')\n",
    "plt.plot(depth,test_accuracy,label='test data')\n",
    "plt.legend()\n"
   ]
  },
  {
   "cell_type": "markdown",
   "metadata": {
    "id": "QRA5EvZnnCbx"
   },
   "source": [
    "We see that when the max depth goes beyond 3, the accuracy of the training data becomes 1 and the model overfits, the accuracy of the test data becomes stagnant."
   ]
  },
  {
   "cell_type": "markdown",
   "metadata": {
    "id": "2iaLr1ufhs20"
   },
   "source": [
    "#### Fine-tune the decision tree classifier\n",
    "\n",
    "Decision tree is a very powerful model with very few assumptions about the incoming training data (unlike linear models, which assume the data linear), however, it is more likely to overfit the data and won't generalize well to unseen data. To void overfitting, we need to restrict the decision tree's freedom during training via regularization (e.g. max_depth, min_sample_split, max_leaf_nodes and etc.).\n",
    "\n",
    "To fine-tune the model and combat overfitting, use grid search with cross-validation (with the help of the GridSearchCV class) to find the best hyper-parameter settings for the DecisionTreeClassifier. In particular, we would like to fine-tune the following hyper-parameters:\n",
    "- **criteria**: this defines how we measure the quality of a split. we can choose either \"gini\" for the Gini impurity or \"entropy\" for the information gain.\n",
    "- **max_depth**: the maximum depth of the tree. This indicates how deep the tree can be. The deeper the tree, the more splits it has and it captures more information about the data. But meanwhile, deeper trees are more likely to overfit the data. For this practice, we will choose from {1, 2, 3} given there are only 4 features in the iris dataset.\n",
    "- **min_samples_split**: This value represents the minimum number of samples required to split an internal node. The smaller this value is, the deeper the tree will grow, thus more likely to overfit. On the other hand, if the value is really large (the size of the training data in the extreme case), the tree will be very shallow and could suffer from underfit. In this practice, we choose from {0.01, 0.05, 0.1, 0.2}.\n",
    "\n",
    "<span style=\"color:orange\">**Question 5: Use grid search with 3-fold cross-validation to fine-tune the decision tree model and output the best hyper-parameters.**"
   ]
  },
  {
   "cell_type": "code",
   "execution_count": 25,
   "metadata": {
    "colab": {
     "base_uri": "https://localhost:8080/"
    },
    "id": "9fuI5TWkhs21",
    "outputId": "13f53537-d9ae-487b-c35f-ad2e784c4585"
   },
   "outputs": [
    {
     "name": "stdout",
     "output_type": "stream",
     "text": [
      "The best score is 0.9523809523809522\n",
      "The best hyper parameter setting is {'criterion': 'entropy', 'max_depth': 3, 'min_samples_split': 0.01}\n"
     ]
    }
   ],
   "source": [
    "# TODO: fine-tune the model, use grid search with 3-fold cross-validation.\n",
    "parameters = {\"criterion\" : ['entropy'],\n",
    "    \"max_depth\": [1, 2, 3], \n",
    "    \"min_samples_split\": [0.01, 0.05, 0.1, 0.2]}\n",
    "\n",
    "dt = DecisionTreeClassifier()\n",
    "grid = GridSearchCV(dt, parameters, cv=3)\n",
    "\n",
    "grid.fit(train_x, train_y)\n",
    "# summarize the results of the grid search\n",
    "print(\"The best score is {}\".format(grid.best_score_))\n",
    "print(\"The best hyper parameter setting is {}\".format(grid.best_params_))"
   ]
  },
  {
   "cell_type": "markdown",
   "metadata": {
    "id": "ZXeHA4TThs24"
   },
   "source": [
    "#### Prediction and Evaluation\n",
    "\n",
    "Now we have a fine-tuned decision tree classifier based on the training data, let's apply this model to make predictions on the test data and evaluate its performance."
   ]
  },
  {
   "cell_type": "code",
   "execution_count": 26,
   "metadata": {
    "colab": {
     "base_uri": "https://localhost:8080/"
    },
    "id": "pzGEUWFPhs24",
    "outputId": "531221ba-9bc0-4773-da9d-8b7472374f5a"
   },
   "outputs": [
    {
     "name": "stdout",
     "output_type": "stream",
     "text": [
      "model accuracy: 0.9777777777777777\n",
      "model confusion matrix:\n",
      " [[16  0  0]\n",
      " [ 0 17  1]\n",
      " [ 0  0 11]]\n"
     ]
    }
   ],
   "source": [
    "test_z=grid.predict(test_x)\n",
    "\n",
    "print(\"model accuracy: {}\".format(accuracy_score(test_y, test_z)))\n",
    "print(\"model confusion matrix:\\n {}\".format(confusion_matrix(test_y, test_z, labels=['Iris-setosa', 'Iris-versicolor', 'Iris-virginica'])))"
   ]
  },
  {
   "cell_type": "markdown",
   "metadata": {
    "id": "fLrLCXpbIHI2"
   },
   "source": [
    "### Random Forest\n",
    "\n",
    "**Question 6: Apply Random Forest together with Gridsearch to the Iris dataset and evaluate its accuracy.**"
   ]
  },
  {
   "cell_type": "code",
   "execution_count": null,
   "metadata": {
    "colab": {
     "base_uri": "https://localhost:8080/"
    },
    "id": "UTzDdKnoIDM1",
    "outputId": "a3a8b80f-8a54-465f-ddde-50674371e7e0"
   },
   "outputs": [
    {
     "name": "stdout",
     "output_type": "stream",
     "text": [
      "The best score is 0.9619047619047619\n",
      "The best hyper parameter setting is {'max_depth': 2, 'min_samples_split': 0.05, 'n_estimators': 40}\n"
     ]
    }
   ],
   "source": [
    "### TODO \n",
    "parameters = {\n",
    "    \"n_estimators\": [20, 40],\n",
    "    \"max_depth\": [2, 4], \n",
    "    \"min_samples_split\": [0.05, 0.1, 0.2]\n",
    "}\n",
    "\n",
    "rfc_grid = GridSearchCV(RandomForestClassifier(n_jobs=-1, random_state=0), parameters, cv=3)\n",
    "rfc_grid.fit(train_x, train_y)\n",
    "\n",
    "# summarize the results of the grid search\n",
    "print(\"The best score is {}\".format(rfc_grid.best_score_))\n",
    "print(\"The best hyper parameter setting is {}\".format(rfc_grid.best_params_))"
   ]
  },
  {
   "cell_type": "code",
   "execution_count": null,
   "metadata": {
    "colab": {
     "base_uri": "https://localhost:8080/"
    },
    "id": "aewosVE66fr2",
    "outputId": "84b6bc02-5333-4941-e1e1-d848970f615b"
   },
   "outputs": [
    {
     "name": "stdout",
     "output_type": "stream",
     "text": [
      "model accuracy: 0.9555555555555556\n"
     ]
    }
   ],
   "source": [
    "# TODO: make prediction and evaluate the model performance on test data\n",
    "test_z = rfc_grid.predict(test_x)\n",
    "\n",
    "print(\"model accuracy: {}\".format(accuracy_score(test_y, test_z)))\n",
    "#print(\"model ROC AUC: {}\".format(roc_auc_score(test_y, test_z_prob)))"
   ]
  },
  {
   "cell_type": "markdown",
   "metadata": {
    "id": "VKgNC7kzIWNC"
   },
   "source": [
    "### Adaboost\n",
    "\n",
    "**Question 7: Apply Adaboost together with Gridsearch to the Iris dataset and evaluate its accuracy.**"
   ]
  },
  {
   "cell_type": "code",
   "execution_count": null,
   "metadata": {
    "colab": {
     "base_uri": "https://localhost:8080/"
    },
    "id": "hDcP-xy_IXFF",
    "outputId": "0c018d7b-5845-478e-8103-149b8464ae6a"
   },
   "outputs": [
    {
     "name": "stdout",
     "output_type": "stream",
     "text": [
      "The best score is 0.9523809523809522\n",
      "The best hyper parameter setting is {'learning_rate': 0.01, 'n_estimators': 20}\n"
     ]
    }
   ],
   "source": [
    "### TODO \n",
    "parameters = {\n",
    "    \"n_estimators\": [20, 40],\n",
    "    \"learning_rate\": [0.01, 0.1, 1, 10]\n",
    "}\n",
    "\n",
    "adaboost = AdaBoostClassifier(DecisionTreeClassifier(max_depth=4), random_state=0)\n",
    "adaboost_grid = GridSearchCV(adaboost, parameters, cv=3)\n",
    "adaboost_grid.fit(train_x, train_y)\n",
    "\n",
    "# summarize the results of the grid search\n",
    "print(\"The best score is {}\".format(adaboost_grid.best_score_))\n",
    "print(\"The best hyper parameter setting is {}\".format(adaboost_grid.best_params_))"
   ]
  },
  {
   "cell_type": "code",
   "execution_count": null,
   "metadata": {
    "colab": {
     "base_uri": "https://localhost:8080/"
    },
    "id": "6f6r5aLY7Nv4",
    "outputId": "1ac7745e-f828-403b-be99-890ed23d728e"
   },
   "outputs": [
    {
     "name": "stdout",
     "output_type": "stream",
     "text": [
      "model accuracy: 0.9777777777777777\n"
     ]
    }
   ],
   "source": [
    "# TODO: make prediction and evaluate the model performance on test data\n",
    "test_z = adaboost_grid.predict(test_x)\n",
    "#test_z_prob = adaboost_grid.predict_proba(test_x)[:,1]\n",
    "\n",
    "print(\"model accuracy: {}\".format(accuracy_score(test_y, test_z)))\n",
    "#print(\"model ROC AUC: {}\".format(roc_auc_score(test_y, test_z_prob)))"
   ]
  },
  {
   "cell_type": "markdown",
   "metadata": {
    "id": "tpZFN60NIWdK"
   },
   "source": [
    "### Gradient Boosting\n",
    "\n",
    "**Question 8: Apply Boosting together with Gridsearch to the Iris dataset and evaluate its accuracy.**"
   ]
  },
  {
   "cell_type": "code",
   "execution_count": null,
   "metadata": {
    "colab": {
     "base_uri": "https://localhost:8080/"
    },
    "id": "mmRcvEkSIXrR",
    "outputId": "79f7a691-47bc-4268-a30a-82731184a91f"
   },
   "outputs": [
    {
     "name": "stdout",
     "output_type": "stream",
     "text": [
      "The best score is 0.9619047619047619\n",
      "The best hyper parameter setting is {'learning_rate': 0.01, 'loss': 'deviance', 'max_depth': 2, 'min_samples_split': 0.1, 'n_estimators': 100}\n"
     ]
    }
   ],
   "source": [
    "### TODO \n",
    "parameters = {\n",
    "    \"loss\":[\"deviance\"],\n",
    "    \"learning_rate\": [0.01, 0.1],\n",
    "    \"min_samples_split\": [0.05, 0.1, 0.2],\n",
    "    \"max_depth\":[2, 4],\n",
    "    \"n_estimators\":[100]\n",
    "}\n",
    "\n",
    "gbc_grid = GridSearchCV(GradientBoostingClassifier(), parameters, cv=3, n_jobs=-1)\n",
    "gbc_grid.fit(train_x, train_y)\n",
    "\n",
    "# summarize the results of the grid search\n",
    "print(\"The best score is {}\".format(gbc_grid.best_score_))\n",
    "print(\"The best hyper parameter setting is {}\".format(gbc_grid.best_params_))"
   ]
  },
  {
   "cell_type": "code",
   "execution_count": null,
   "metadata": {
    "colab": {
     "base_uri": "https://localhost:8080/"
    },
    "id": "7zNbzcH07dJw",
    "outputId": "354fad60-af97-468c-dbb6-203851e823ad"
   },
   "outputs": [
    {
     "name": "stdout",
     "output_type": "stream",
     "text": [
      "model accuracy: 0.9777777777777777\n"
     ]
    }
   ],
   "source": [
    "# TODO: make prediction and evaluate the model performance on test data\n",
    "test_z = gbc_grid.predict(test_x)\n",
    "#test_z_prob = gbc_grid.predict_proba(test_x)[:,1]\n",
    "\n",
    "print(\"model accuracy: {}\".format(accuracy_score(test_y, test_z)))\n",
    "#print(\"model ROC AUC: {}\".format(roc_auc_score(test_y, test_z_prob)))"
   ]
  },
  {
   "cell_type": "markdown",
   "metadata": {
    "id": "aTlPSt2Uhs26"
   },
   "source": [
    "---"
   ]
  },
  {
   "cell_type": "markdown",
   "metadata": {
    "id": "oyoZxHnxHknE"
   },
   "source": [
    "**BONUS POINT: we will apply the supervised learning models we learnt so far to predict the California housing prices.**"
   ]
  },
  {
   "cell_type": "markdown",
   "metadata": {
    "id": "3odrweXdhs28"
   },
   "source": [
    "## California Housing Dataset\n",
    "\n",
    "The California Housing dataset appeared in a 1997 paper titled Sparse Spatial Autoregressions by Pace, R. Kelley and Ronald Barry, published in the Statistics and Probability Letters journal. They built it using the 1990 California census data. It contains one row per census block group. A block group is the smallest geographical unit for which the U.S. Census Bureau publishes sample data (a block group typically has a population of 600 to 3,000 people). "
   ]
  },
  {
   "cell_type": "code",
   "execution_count": 27,
   "metadata": {
    "id": "8zXK2RFshs29"
   },
   "outputs": [],
   "source": [
    "# Load train and test data from CSV files.\n",
    "train = pd.read_csv('https://raw.githubusercontent.com/zariable/data/master/housing_train.csv')\n",
    "test = pd.read_csv('https://raw.githubusercontent.com/zariable/data/master/housing_test.csv')\n",
    "\n",
    "train_x = train.iloc[:,0:8]\n",
    "train_y = train.iloc[:,8]\n",
    "\n",
    "test_x = test.iloc[:,0:8]\n",
    "test_y = test.iloc[:,8]"
   ]
  },
  {
   "cell_type": "code",
   "execution_count": 30,
   "metadata": {
    "colab": {
     "base_uri": "https://localhost:8080/"
    },
    "id": "lMDLg3Q8WKBP",
    "outputId": "f7f79777-278d-4705-a541-0f2794b011f8"
   },
   "outputs": [
    {
     "name": "stdout",
     "output_type": "stream",
     "text": [
      "mean cross validation score: 0.6358167967879664\n",
      "r2 score 0.6284911999019238\n"
     ]
    }
   ],
   "source": [
    "#linear regression\n",
    "lin_reg = LinearRegression()\n",
    "lin_fit = lin_reg.fit(train_x,train_y)\n",
    "lin_pred = lin_reg.predict(test_x)\n",
    "scores = cross_val_score(lin_fit, train_x,train_y,cv=10)\n",
    "print(\"mean cross validation score: {}\".format(np.mean(scores)))\n",
    "from sklearn.metrics import r2_score\n",
    "print('r2 score {}' .format(r2_score(test_y, lin_pred)))"
   ]
  },
  {
   "cell_type": "code",
   "execution_count": 36,
   "metadata": {
    "colab": {
     "base_uri": "https://localhost:8080/"
    },
    "id": "C-Xv_wdQJob8",
    "outputId": "91a450fc-ff6e-4825-cfee-fc26b4bc0227"
   },
   "outputs": [
    {
     "name": "stdout",
     "output_type": "stream",
     "text": [
      "mean cross validation score: 0.6992260928296663\n",
      "r2 score 0.6928400867861435\n"
     ]
    }
   ],
   "source": [
    "# TODO Decision Tree Regressor\n",
    "\n",
    "dt = DecisionTreeRegressor(max_depth = 10)\n",
    "dt_fit = dt.fit(train_x, train_y)\n",
    "dt_pred = dt.predict(test_x)\n",
    "\n",
    "# cross val score\n",
    "dt_scores = cross_val_score(dt_fit, train_x, train_y, cv = 10)\n",
    "print(\"mean cross validation score: {}\".format(np.mean(dt_scores)))\n",
    "\n",
    "#r2 score\n",
    "print('r2 score {}' .format(r2_score(test_y, dt_pred)))\n",
    "#print(dt_pred.score(test_x, test_y))"
   ]
  },
  {
   "cell_type": "code",
   "execution_count": 33,
   "metadata": {
    "id": "TK9ghj8SiV3G"
   },
   "outputs": [],
   "source": [
    "#Random forest regressor\n",
    "\n",
    "parameters = {\n",
    "    \"n_estimators\": [20, 40,60],\n",
    "    'max_features': ['sqrt','log2'],\n",
    "    \"max_depth\": [15,20], \n",
    "}\n",
    "rfc_grid = GridSearchCV(estimator=RandomForestRegressor(), param_grid = parameters, cv= 15)\n",
    "rfc_grid.fit(train_x, train_y)\n",
    "rfc_pred = rfc_grid.predict(test_x)\n",
    "\n",
    "\n"
   ]
  },
  {
   "cell_type": "code",
   "execution_count": 41,
   "metadata": {
    "colab": {
     "base_uri": "https://localhost:8080/"
    },
    "id": "7Hy9lZjBr7Ax",
    "outputId": "a5ddfd35-dfac-4710-bcd6-d2e14f86fa48"
   },
   "outputs": [
    {
     "name": "stdout",
     "output_type": "stream",
     "text": [
      "The best score is 0.8074796026467089\n",
      "The best hyper parameter setting is {'max_depth': 20, 'max_features': 'log2', 'n_estimators': 60}\n",
      "r2 score 0.8065679155288431\n"
     ]
    }
   ],
   "source": [
    "print(\"The best score is {}\".format(rfc_grid.best_score_))\n",
    "print(\"The best hyper parameter setting is {}\".format(rfc_grid.best_params_))\n",
    "rfc_grid.best_estimator_\n",
    "#r2 score\n",
    "print('r2 score {}' .format(r2_score(test_y, rfc_pred)))"
   ]
  },
  {
   "cell_type": "code",
   "execution_count": 45,
   "metadata": {
    "id": "NFGTzJHYpDNa"
   },
   "outputs": [],
   "source": [
    "#Ada boost Regressor\n",
    "\n",
    "parameters = {\n",
    "    \"n_estimators\": [20, 40,60],\n",
    "    \"learning_rate\": [0.01, 0.1, 1, 10]\n",
    "}\n",
    "\n",
    "adaboost = AdaBoostRegressor(DecisionTreeRegressor(max_depth=5))\n",
    "adaboost_grid = GridSearchCV(adaboost, parameters, cv=15)\n",
    "adaboost_grid.fit(train_x, train_y)\n",
    "adaboost_pred = adaboost_grid.predict(test_x)\n",
    "\n"
   ]
  },
  {
   "cell_type": "code",
   "execution_count": 46,
   "metadata": {
    "colab": {
     "base_uri": "https://localhost:8080/"
    },
    "id": "ecTdJRmrrqkk",
    "outputId": "1ff902a5-a66d-4fad-a391-43ed46ca16cd"
   },
   "outputs": [
    {
     "name": "stdout",
     "output_type": "stream",
     "text": [
      "The best score is 0.6436688969457686\n",
      "The best hyper parameter setting is {'learning_rate': 0.1, 'n_estimators': 60}\n",
      "r2 score 0.6322536519894487\n"
     ]
    }
   ],
   "source": [
    "# summarize the results of the grid search\n",
    "print(\"The best score is {}\".format(adaboost_grid.best_score_))\n",
    "print(\"The best hyper parameter setting is {}\".format(adaboost_grid.best_params_))\n",
    "print('r2 score {}' .format(r2_score(test_y, adaboost_pred)))"
   ]
  },
  {
   "cell_type": "code",
   "execution_count": 43,
   "metadata": {
    "id": "rKy2E4iJoofy"
   },
   "outputs": [],
   "source": [
    "#Gradient boost regressor\n",
    "\n",
    "### TODO \n",
    "parameters = {\n",
    "    \"learning_rate\": [0.01, 0.1],\n",
    "    \"min_samples_split\": [0.05, 0.1, 0.2],\n",
    "    \"max_depth\":[2, 4, 6],\n",
    "    \"n_estimators\":[50,100,200]\n",
    "}\n",
    "\n",
    "gbc_grid = GridSearchCV(GradientBoostingRegressor(), parameters, cv=5)\n",
    "gbc_grid.fit(train_x, train_y)\n",
    "gbc_pred = gbc_grid.predict(test_x)\n"
   ]
  },
  {
   "cell_type": "code",
   "execution_count": 44,
   "metadata": {
    "colab": {
     "base_uri": "https://localhost:8080/"
    },
    "id": "WA_qcwHXt2Gp",
    "outputId": "23d3e94f-719d-458d-c4c2-245ca58e1ee7"
   },
   "outputs": [
    {
     "name": "stdout",
     "output_type": "stream",
     "text": [
      "The best score is 0.8141760307996158\n",
      "The best hyper parameter setting is {'learning_rate': 0.1, 'max_depth': 6, 'min_samples_split': 0.05, 'n_estimators': 200}\n",
      "r2 score 0.8125919557291693\n"
     ]
    }
   ],
   "source": [
    "print(\"The best score is {}\".format(gbc_grid.best_score_))\n",
    "print(\"The best hyper parameter setting is {}\".format(gbc_grid.best_params_))\n",
    "print('r2 score {}' .format(r2_score(test_y, gbc_pred)))"
   ]
  },
  {
   "cell_type": "markdown",
   "metadata": {
    "id": "z_jvw3lOG74T"
   },
   "source": [
    "Conclusion : We see that Random forest and Gradient booster performs better than other models."
   ]
  },
  {
   "cell_type": "markdown",
   "metadata": {
    "id": "Q-zitGTxhs3E"
   },
   "source": [
    "### End of Assignment 2\n",
    "---\n"
   ]
  }
 ],
 "metadata": {
  "colab": {
   "provenance": []
  },
  "kernelspec": {
   "display_name": "Python 3 (ipykernel)",
   "language": "python",
   "name": "python3"
  },
  "language_info": {
   "codemirror_mode": {
    "name": "ipython",
    "version": 3
   },
   "file_extension": ".py",
   "mimetype": "text/x-python",
   "name": "python",
   "nbconvert_exporter": "python",
   "pygments_lexer": "ipython3",
   "version": "3.9.7"
  }
 },
 "nbformat": 4,
 "nbformat_minor": 1
}
